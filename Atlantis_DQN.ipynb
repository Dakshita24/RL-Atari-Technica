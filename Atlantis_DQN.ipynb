{
  "nbformat": 4,
  "nbformat_minor": 0,
  "metadata": {
    "colab": {
      "provenance": []
    },
    "kernelspec": {
      "name": "python3",
      "display_name": "Python 3"
    },
    "language_info": {
      "name": "python"
    }
  },
  "cells": [
    {
      "cell_type": "code",
      "execution_count": null,
      "metadata": {
        "id": "jP9bXTSr95gG"
      },
      "outputs": [],
      "source": []
    },
    {
      "cell_type": "markdown",
      "metadata": {
        "id": "hyyN-2qyK_T2"
      },
      "source": [
        "# Stable Baselines3 Tutorial - Getting Started\n",
        "\n",
        "Github repo: https://github.com/araffin/rl-tutorial-jnrr19\n",
        "\n",
        "Stable-Baselines3: https://github.com/DLR-RM/stable-baselines3\n",
        "\n",
        "Documentation: https://stable-baselines.readthedocs.io/en/master/\n",
        "\n",
        "RL Baselines3 zoo: https://github.com/DLR-RM/rl-baselines3-zoo\n",
        "\n",
        "\n",
        "[RL Baselines3 Zoo](https://github.com/DLR-RM/rl-baselines3-zoo) is a training framework for Reinforcement Learning (RL), using Stable Baselines3.\n",
        "\n",
        "It provides scripts for training, evaluating agents, tuning hyperparameters, plotting results and recording videos.\n",
        "\n",
        "## Introduction\n",
        "\n",
        "In this notebook, you will learn the basics for using stable baselines3 library: how to create a RL model, train it and evaluate it. Because all algorithms share the same interface, we will see how simple it is to switch from one algorithm to another.\n",
        "\n",
        "\n",
        "## Install Dependencies and Stable Baselines3 Using Pip\n",
        "\n",
        "List of full dependencies can be found in the [README](https://github.com/DLR-RM/stable-baselines3).\n",
        "\n",
        "\n",
        "```\n",
        "pip install stable-baselines3[extra]\n",
        "```"
      ]
    },
    {
      "cell_type": "code",
      "execution_count": null,
      "metadata": {
        "id": "glylhRQcxb8H"
      },
      "outputs": [],
      "source": [
        "# for autoformatting\n",
        "# %load_ext jupyter_black"
      ]
    },
    {
      "cell_type": "code",
      "execution_count": null,
      "metadata": {
        "id": "gWskDE2c9WoN",
        "colab": {
          "base_uri": "https://localhost:8080/"
        },
        "outputId": "4d50ab41-a0e7-4373-d9c6-2dfea6988a71"
      },
      "outputs": [
        {
          "output_type": "stream",
          "name": "stdout",
          "text": [
            "Get:1 http://security.ubuntu.com/ubuntu jammy-security InRelease [110 kB]\n",
            "Get:2 https://cloud.r-project.org/bin/linux/ubuntu jammy-cran40/ InRelease [3,626 B]\n",
            "Get:3 https://developer.download.nvidia.com/compute/cuda/repos/ubuntu2204/x86_64  InRelease [1,581 B]\n",
            "Hit:4 http://archive.ubuntu.com/ubuntu jammy InRelease\n",
            "Get:5 http://archive.ubuntu.com/ubuntu jammy-updates InRelease [119 kB]\n",
            "Hit:6 https://ppa.launchpadcontent.net/c2d4u.team/c2d4u4.0+/ubuntu jammy InRelease\n",
            "Get:7 http://security.ubuntu.com/ubuntu jammy-security/universe amd64 Packages [1,009 kB]\n",
            "Get:8 http://archive.ubuntu.com/ubuntu jammy-backports InRelease [109 kB]\n",
            "Get:9 http://security.ubuntu.com/ubuntu jammy-security/restricted amd64 Packages [1,305 kB]\n",
            "Get:10 https://ppa.launchpadcontent.net/deadsnakes/ppa/ubuntu jammy InRelease [18.1 kB]\n",
            "Get:11 http://security.ubuntu.com/ubuntu jammy-security/main amd64 Packages [1,131 kB]\n",
            "Get:12 https://developer.download.nvidia.com/compute/cuda/repos/ubuntu2204/x86_64  Packages [555 kB]\n",
            "Get:13 https://ppa.launchpadcontent.net/graphics-drivers/ppa/ubuntu jammy InRelease [24.3 kB]\n",
            "Hit:14 https://ppa.launchpadcontent.net/ubuntugis/ppa/ubuntu jammy InRelease\n",
            "Get:15 http://archive.ubuntu.com/ubuntu jammy-updates/universe amd64 Packages [1,274 kB]\n",
            "Get:16 http://archive.ubuntu.com/ubuntu jammy-updates/main amd64 Packages [1,398 kB]\n",
            "Get:17 http://archive.ubuntu.com/ubuntu jammy-updates/restricted amd64 Packages [1,330 kB]\n",
            "Get:18 https://ppa.launchpadcontent.net/deadsnakes/ppa/ubuntu jammy/main amd64 Packages [27.7 kB]\n",
            "Get:19 https://ppa.launchpadcontent.net/graphics-drivers/ppa/ubuntu jammy/main amd64 Packages [40.1 kB]\n",
            "Fetched 8,454 kB in 3s (2,558 kB/s)\n",
            "Reading package lists... Done\n",
            "Reading package lists... Done\n",
            "Building dependency tree... Done\n",
            "Reading state information... Done\n",
            "ffmpeg is already the newest version (7:4.4.2-0ubuntu0.22.04.1).\n",
            "The following additional packages will be installed:\n",
            "  freeglut3 libegl-dev libfontenc1 libgl-dev libgl1-mesa-dev libgles-dev libgles1 libglu1-mesa\n",
            "  libglu1-mesa-dev libglvnd-core-dev libglvnd-dev libglx-dev libice-dev libopengl-dev libsm-dev\n",
            "  libxfont2 libxkbfile1 libxt-dev x11-xkb-utils xfonts-base xfonts-encodings xfonts-utils\n",
            "  xserver-common\n",
            "Suggested packages:\n",
            "  libice-doc libsm-doc libxt-doc\n",
            "The following NEW packages will be installed:\n",
            "  freeglut3 freeglut3-dev libegl-dev libfontenc1 libgl-dev libgl1-mesa-dev libgles-dev libgles1\n",
            "  libglu1-mesa libglu1-mesa-dev libglvnd-core-dev libglvnd-dev libglx-dev libice-dev libopengl-dev\n",
            "  libsm-dev libxfont2 libxkbfile1 libxt-dev x11-xkb-utils xfonts-base xfonts-encodings xfonts-utils\n",
            "  xserver-common xvfb\n",
            "0 upgraded, 25 newly installed, 0 to remove and 19 not upgraded.\n",
            "Need to get 9,074 kB of archives.\n",
            "After this operation, 18.7 MB of additional disk space will be used.\n",
            "Get:1 http://archive.ubuntu.com/ubuntu jammy/universe amd64 freeglut3 amd64 2.8.1-6 [74.0 kB]\n",
            "Get:2 http://archive.ubuntu.com/ubuntu jammy/main amd64 libglx-dev amd64 1.4.0-1 [14.1 kB]\n",
            "Get:3 http://archive.ubuntu.com/ubuntu jammy/main amd64 libgl-dev amd64 1.4.0-1 [101 kB]\n",
            "Get:4 http://archive.ubuntu.com/ubuntu jammy/main amd64 libglvnd-core-dev amd64 1.4.0-1 [12.7 kB]\n",
            "Get:5 http://archive.ubuntu.com/ubuntu jammy/main amd64 libegl-dev amd64 1.4.0-1 [18.0 kB]\n",
            "Get:6 http://archive.ubuntu.com/ubuntu jammy/main amd64 libgles1 amd64 1.4.0-1 [11.5 kB]\n",
            "Get:7 http://archive.ubuntu.com/ubuntu jammy/main amd64 libgles-dev amd64 1.4.0-1 [49.4 kB]\n",
            "Get:8 http://archive.ubuntu.com/ubuntu jammy/main amd64 libopengl-dev amd64 1.4.0-1 [3,400 B]\n",
            "Get:9 http://archive.ubuntu.com/ubuntu jammy/main amd64 libglvnd-dev amd64 1.4.0-1 [3,162 B]\n",
            "Get:10 http://archive.ubuntu.com/ubuntu jammy-updates/main amd64 libgl1-mesa-dev amd64 23.0.4-0ubuntu1~22.04.1 [6,510 B]\n",
            "Get:11 http://archive.ubuntu.com/ubuntu jammy/main amd64 libglu1-mesa amd64 9.0.2-1 [145 kB]\n",
            "Get:12 http://archive.ubuntu.com/ubuntu jammy/main amd64 libglu1-mesa-dev amd64 9.0.2-1 [231 kB]\n",
            "Get:13 http://archive.ubuntu.com/ubuntu jammy/main amd64 libice-dev amd64 2:1.0.10-1build2 [51.4 kB]\n",
            "Get:14 http://archive.ubuntu.com/ubuntu jammy/main amd64 libsm-dev amd64 2:1.2.3-1build2 [18.1 kB]\n",
            "Get:15 http://archive.ubuntu.com/ubuntu jammy/main amd64 libxt-dev amd64 1:1.2.1-1 [396 kB]\n",
            "Get:16 http://archive.ubuntu.com/ubuntu jammy/universe amd64 freeglut3-dev amd64 2.8.1-6 [126 kB]\n",
            "Get:17 http://archive.ubuntu.com/ubuntu jammy/main amd64 libfontenc1 amd64 1:1.1.4-1build3 [14.7 kB]\n",
            "Get:18 http://archive.ubuntu.com/ubuntu jammy/main amd64 libxfont2 amd64 1:2.0.5-1build1 [94.5 kB]\n",
            "Get:19 http://archive.ubuntu.com/ubuntu jammy/main amd64 libxkbfile1 amd64 1:1.1.0-1build3 [71.8 kB]\n",
            "Get:20 http://archive.ubuntu.com/ubuntu jammy/main amd64 x11-xkb-utils amd64 7.7+5build4 [172 kB]\n",
            "Get:21 http://archive.ubuntu.com/ubuntu jammy/main amd64 xfonts-encodings all 1:1.0.5-0ubuntu2 [578 kB]\n",
            "Get:22 http://archive.ubuntu.com/ubuntu jammy/main amd64 xfonts-utils amd64 1:7.7+6build2 [94.6 kB]\n",
            "Get:23 http://archive.ubuntu.com/ubuntu jammy/main amd64 xfonts-base all 1:1.0.5 [5,896 kB]\n",
            "Get:24 http://archive.ubuntu.com/ubuntu jammy-updates/main amd64 xserver-common all 2:21.1.4-2ubuntu1.7~22.04.1 [28.0 kB]\n",
            "Get:25 http://archive.ubuntu.com/ubuntu jammy-updates/universe amd64 xvfb amd64 2:21.1.4-2ubuntu1.7~22.04.1 [863 kB]\n",
            "Fetched 9,074 kB in 3s (3,069 kB/s)\n",
            "Selecting previously unselected package freeglut3:amd64.\n",
            "(Reading database ... 120874 files and directories currently installed.)\n",
            "Preparing to unpack .../00-freeglut3_2.8.1-6_amd64.deb ...\n",
            "Unpacking freeglut3:amd64 (2.8.1-6) ...\n",
            "Selecting previously unselected package libglx-dev:amd64.\n",
            "Preparing to unpack .../01-libglx-dev_1.4.0-1_amd64.deb ...\n",
            "Unpacking libglx-dev:amd64 (1.4.0-1) ...\n",
            "Selecting previously unselected package libgl-dev:amd64.\n",
            "Preparing to unpack .../02-libgl-dev_1.4.0-1_amd64.deb ...\n",
            "Unpacking libgl-dev:amd64 (1.4.0-1) ...\n",
            "Selecting previously unselected package libglvnd-core-dev:amd64.\n",
            "Preparing to unpack .../03-libglvnd-core-dev_1.4.0-1_amd64.deb ...\n",
            "Unpacking libglvnd-core-dev:amd64 (1.4.0-1) ...\n",
            "Selecting previously unselected package libegl-dev:amd64.\n",
            "Preparing to unpack .../04-libegl-dev_1.4.0-1_amd64.deb ...\n",
            "Unpacking libegl-dev:amd64 (1.4.0-1) ...\n",
            "Selecting previously unselected package libgles1:amd64.\n",
            "Preparing to unpack .../05-libgles1_1.4.0-1_amd64.deb ...\n",
            "Unpacking libgles1:amd64 (1.4.0-1) ...\n",
            "Selecting previously unselected package libgles-dev:amd64.\n",
            "Preparing to unpack .../06-libgles-dev_1.4.0-1_amd64.deb ...\n",
            "Unpacking libgles-dev:amd64 (1.4.0-1) ...\n",
            "Selecting previously unselected package libopengl-dev:amd64.\n",
            "Preparing to unpack .../07-libopengl-dev_1.4.0-1_amd64.deb ...\n",
            "Unpacking libopengl-dev:amd64 (1.4.0-1) ...\n",
            "Selecting previously unselected package libglvnd-dev:amd64.\n",
            "Preparing to unpack .../08-libglvnd-dev_1.4.0-1_amd64.deb ...\n",
            "Unpacking libglvnd-dev:amd64 (1.4.0-1) ...\n",
            "Selecting previously unselected package libgl1-mesa-dev:amd64.\n",
            "Preparing to unpack .../09-libgl1-mesa-dev_23.0.4-0ubuntu1~22.04.1_amd64.deb ...\n",
            "Unpacking libgl1-mesa-dev:amd64 (23.0.4-0ubuntu1~22.04.1) ...\n",
            "Selecting previously unselected package libglu1-mesa:amd64.\n",
            "Preparing to unpack .../10-libglu1-mesa_9.0.2-1_amd64.deb ...\n",
            "Unpacking libglu1-mesa:amd64 (9.0.2-1) ...\n",
            "Selecting previously unselected package libglu1-mesa-dev:amd64.\n",
            "Preparing to unpack .../11-libglu1-mesa-dev_9.0.2-1_amd64.deb ...\n",
            "Unpacking libglu1-mesa-dev:amd64 (9.0.2-1) ...\n",
            "Selecting previously unselected package libice-dev:amd64.\n",
            "Preparing to unpack .../12-libice-dev_2%3a1.0.10-1build2_amd64.deb ...\n",
            "Unpacking libice-dev:amd64 (2:1.0.10-1build2) ...\n",
            "Selecting previously unselected package libsm-dev:amd64.\n",
            "Preparing to unpack .../13-libsm-dev_2%3a1.2.3-1build2_amd64.deb ...\n",
            "Unpacking libsm-dev:amd64 (2:1.2.3-1build2) ...\n",
            "Selecting previously unselected package libxt-dev:amd64.\n",
            "Preparing to unpack .../14-libxt-dev_1%3a1.2.1-1_amd64.deb ...\n",
            "Unpacking libxt-dev:amd64 (1:1.2.1-1) ...\n",
            "Selecting previously unselected package freeglut3-dev:amd64.\n",
            "Preparing to unpack .../15-freeglut3-dev_2.8.1-6_amd64.deb ...\n",
            "Unpacking freeglut3-dev:amd64 (2.8.1-6) ...\n",
            "Selecting previously unselected package libfontenc1:amd64.\n",
            "Preparing to unpack .../16-libfontenc1_1%3a1.1.4-1build3_amd64.deb ...\n",
            "Unpacking libfontenc1:amd64 (1:1.1.4-1build3) ...\n",
            "Selecting previously unselected package libxfont2:amd64.\n",
            "Preparing to unpack .../17-libxfont2_1%3a2.0.5-1build1_amd64.deb ...\n",
            "Unpacking libxfont2:amd64 (1:2.0.5-1build1) ...\n",
            "Selecting previously unselected package libxkbfile1:amd64.\n",
            "Preparing to unpack .../18-libxkbfile1_1%3a1.1.0-1build3_amd64.deb ...\n",
            "Unpacking libxkbfile1:amd64 (1:1.1.0-1build3) ...\n",
            "Selecting previously unselected package x11-xkb-utils.\n",
            "Preparing to unpack .../19-x11-xkb-utils_7.7+5build4_amd64.deb ...\n",
            "Unpacking x11-xkb-utils (7.7+5build4) ...\n",
            "Selecting previously unselected package xfonts-encodings.\n",
            "Preparing to unpack .../20-xfonts-encodings_1%3a1.0.5-0ubuntu2_all.deb ...\n",
            "Unpacking xfonts-encodings (1:1.0.5-0ubuntu2) ...\n",
            "Selecting previously unselected package xfonts-utils.\n",
            "Preparing to unpack .../21-xfonts-utils_1%3a7.7+6build2_amd64.deb ...\n",
            "Unpacking xfonts-utils (1:7.7+6build2) ...\n",
            "Selecting previously unselected package xfonts-base.\n",
            "Preparing to unpack .../22-xfonts-base_1%3a1.0.5_all.deb ...\n",
            "Unpacking xfonts-base (1:1.0.5) ...\n",
            "Selecting previously unselected package xserver-common.\n",
            "Preparing to unpack .../23-xserver-common_2%3a21.1.4-2ubuntu1.7~22.04.1_all.deb ...\n",
            "Unpacking xserver-common (2:21.1.4-2ubuntu1.7~22.04.1) ...\n",
            "Selecting previously unselected package xvfb.\n",
            "Preparing to unpack .../24-xvfb_2%3a21.1.4-2ubuntu1.7~22.04.1_amd64.deb ...\n",
            "Unpacking xvfb (2:21.1.4-2ubuntu1.7~22.04.1) ...\n",
            "Setting up freeglut3:amd64 (2.8.1-6) ...\n",
            "Setting up libglvnd-core-dev:amd64 (1.4.0-1) ...\n",
            "Setting up libice-dev:amd64 (2:1.0.10-1build2) ...\n",
            "Setting up libsm-dev:amd64 (2:1.2.3-1build2) ...\n",
            "Setting up libfontenc1:amd64 (1:1.1.4-1build3) ...\n",
            "Setting up libxt-dev:amd64 (1:1.2.1-1) ...\n",
            "Setting up libgles1:amd64 (1.4.0-1) ...\n",
            "Setting up xfonts-encodings (1:1.0.5-0ubuntu2) ...\n",
            "Setting up libglx-dev:amd64 (1.4.0-1) ...\n",
            "Setting up libglu1-mesa:amd64 (9.0.2-1) ...\n",
            "Setting up libxkbfile1:amd64 (1:1.1.0-1build3) ...\n",
            "Setting up libopengl-dev:amd64 (1.4.0-1) ...\n",
            "Setting up libxfont2:amd64 (1:2.0.5-1build1) ...\n",
            "Setting up libgl-dev:amd64 (1.4.0-1) ...\n",
            "Setting up libegl-dev:amd64 (1.4.0-1) ...\n",
            "Setting up x11-xkb-utils (7.7+5build4) ...\n",
            "Setting up xfonts-utils (1:7.7+6build2) ...\n",
            "Setting up xfonts-base (1:1.0.5) ...\n",
            "Setting up libglu1-mesa-dev:amd64 (9.0.2-1) ...\n",
            "Setting up xserver-common (2:21.1.4-2ubuntu1.7~22.04.1) ...\n",
            "Setting up libgles-dev:amd64 (1.4.0-1) ...\n",
            "Setting up xvfb (2:21.1.4-2ubuntu1.7~22.04.1) ...\n",
            "Setting up libglvnd-dev:amd64 (1.4.0-1) ...\n",
            "Setting up libgl1-mesa-dev:amd64 (23.0.4-0ubuntu1~22.04.1) ...\n",
            "Setting up freeglut3-dev:amd64 (2.8.1-6) ...\n",
            "Processing triggers for libc-bin (2.35-0ubuntu3.1) ...\n",
            "/sbin/ldconfig.real: /usr/local/lib/libtbbmalloc_proxy.so.2 is not a symbolic link\n",
            "\n",
            "/sbin/ldconfig.real: /usr/local/lib/libtbbbind_2_5.so.3 is not a symbolic link\n",
            "\n",
            "/sbin/ldconfig.real: /usr/local/lib/libtbbmalloc.so.2 is not a symbolic link\n",
            "\n",
            "/sbin/ldconfig.real: /usr/local/lib/libtbb.so.12 is not a symbolic link\n",
            "\n",
            "/sbin/ldconfig.real: /usr/local/lib/libtbbbind.so.3 is not a symbolic link\n",
            "\n",
            "/sbin/ldconfig.real: /usr/local/lib/libtbbbind_2_0.so.3 is not a symbolic link\n",
            "\n",
            "Processing triggers for man-db (2.10.2-1) ...\n",
            "Processing triggers for fontconfig (2.13.1-4.2ubuntu5) ...\n",
            "Collecting stable-baselines3[extra]>=2.0.0a4\n",
            "  Downloading stable_baselines3-2.1.0-py3-none-any.whl (178 kB)\n",
            "\u001b[2K     \u001b[90m━━━━━━━━━━━━━━━━━━━━━━━━━━━━━━━━━━━━━━━━\u001b[0m \u001b[32m178.7/178.7 kB\u001b[0m \u001b[31m3.4 MB/s\u001b[0m eta \u001b[36m0:00:00\u001b[0m\n",
            "\u001b[?25hCollecting gymnasium<0.30,>=0.28.1 (from stable-baselines3[extra]>=2.0.0a4)\n",
            "  Downloading gymnasium-0.29.1-py3-none-any.whl (953 kB)\n",
            "\u001b[2K     \u001b[90m━━━━━━━━━━━━━━━━━━━━━━━━━━━━━━━━━━━━━━━━\u001b[0m \u001b[32m953.9/953.9 kB\u001b[0m \u001b[31m25.4 MB/s\u001b[0m eta \u001b[36m0:00:00\u001b[0m\n",
            "\u001b[?25hRequirement already satisfied: numpy>=1.20 in /usr/local/lib/python3.10/dist-packages (from stable-baselines3[extra]>=2.0.0a4) (1.23.5)\n",
            "Requirement already satisfied: torch>=1.13 in /usr/local/lib/python3.10/dist-packages (from stable-baselines3[extra]>=2.0.0a4) (2.1.0+cu118)\n",
            "Requirement already satisfied: cloudpickle in /usr/local/lib/python3.10/dist-packages (from stable-baselines3[extra]>=2.0.0a4) (2.2.1)\n",
            "Requirement already satisfied: pandas in /usr/local/lib/python3.10/dist-packages (from stable-baselines3[extra]>=2.0.0a4) (1.5.3)\n",
            "Requirement already satisfied: matplotlib in /usr/local/lib/python3.10/dist-packages (from stable-baselines3[extra]>=2.0.0a4) (3.7.1)\n",
            "Requirement already satisfied: opencv-python in /usr/local/lib/python3.10/dist-packages (from stable-baselines3[extra]>=2.0.0a4) (4.8.0.76)\n",
            "Requirement already satisfied: pygame in /usr/local/lib/python3.10/dist-packages (from stable-baselines3[extra]>=2.0.0a4) (2.5.2)\n",
            "Requirement already satisfied: tensorboard>=2.9.1 in /usr/local/lib/python3.10/dist-packages (from stable-baselines3[extra]>=2.0.0a4) (2.13.0)\n",
            "Requirement already satisfied: psutil in /usr/local/lib/python3.10/dist-packages (from stable-baselines3[extra]>=2.0.0a4) (5.9.5)\n",
            "Requirement already satisfied: tqdm in /usr/local/lib/python3.10/dist-packages (from stable-baselines3[extra]>=2.0.0a4) (4.66.1)\n",
            "Requirement already satisfied: rich in /usr/local/lib/python3.10/dist-packages (from stable-baselines3[extra]>=2.0.0a4) (13.6.0)\n",
            "Collecting shimmy[atari]~=1.1.0 (from stable-baselines3[extra]>=2.0.0a4)\n",
            "  Downloading Shimmy-1.1.0-py3-none-any.whl (37 kB)\n",
            "Requirement already satisfied: pillow in /usr/local/lib/python3.10/dist-packages (from stable-baselines3[extra]>=2.0.0a4) (9.4.0)\n",
            "Collecting autorom[accept-rom-license]~=0.6.1 (from stable-baselines3[extra]>=2.0.0a4)\n",
            "  Downloading AutoROM-0.6.1-py3-none-any.whl (9.4 kB)\n",
            "Requirement already satisfied: click in /usr/local/lib/python3.10/dist-packages (from autorom[accept-rom-license]~=0.6.1->stable-baselines3[extra]>=2.0.0a4) (8.1.7)\n",
            "Requirement already satisfied: requests in /usr/local/lib/python3.10/dist-packages (from autorom[accept-rom-license]~=0.6.1->stable-baselines3[extra]>=2.0.0a4) (2.31.0)\n",
            "Collecting AutoROM.accept-rom-license (from autorom[accept-rom-license]~=0.6.1->stable-baselines3[extra]>=2.0.0a4)\n",
            "  Downloading AutoROM.accept-rom-license-0.6.1.tar.gz (434 kB)\n",
            "\u001b[2K     \u001b[90m━━━━━━━━━━━━━━━━━━━━━━━━━━━━━━━━━━━━━━━━\u001b[0m \u001b[32m434.7/434.7 kB\u001b[0m \u001b[31m29.5 MB/s\u001b[0m eta \u001b[36m0:00:00\u001b[0m\n",
            "\u001b[?25h  Installing build dependencies ... \u001b[?25l\u001b[?25hdone\n",
            "  Getting requirements to build wheel ... \u001b[?25l\u001b[?25hdone\n",
            "  Preparing metadata (pyproject.toml) ... \u001b[?25l\u001b[?25hdone\n",
            "Requirement already satisfied: typing-extensions>=4.3.0 in /usr/local/lib/python3.10/dist-packages (from gymnasium<0.30,>=0.28.1->stable-baselines3[extra]>=2.0.0a4) (4.5.0)\n",
            "Collecting farama-notifications>=0.0.1 (from gymnasium<0.30,>=0.28.1->stable-baselines3[extra]>=2.0.0a4)\n",
            "  Using cached Farama_Notifications-0.0.4-py3-none-any.whl (2.5 kB)\n",
            "Collecting ale-py~=0.8.1 (from shimmy[atari]~=1.1.0->stable-baselines3[extra]>=2.0.0a4)\n",
            "  Downloading ale_py-0.8.1-cp310-cp310-manylinux_2_17_x86_64.manylinux2014_x86_64.whl (1.7 MB)\n",
            "\u001b[2K     \u001b[90m━━━━━━━━━━━━━━━━━━━━━━━━━━━━━━━━━━━━━━━━\u001b[0m \u001b[32m1.7/1.7 MB\u001b[0m \u001b[31m63.2 MB/s\u001b[0m eta \u001b[36m0:00:00\u001b[0m\n",
            "\u001b[?25hRequirement already satisfied: absl-py>=0.4 in /usr/local/lib/python3.10/dist-packages (from tensorboard>=2.9.1->stable-baselines3[extra]>=2.0.0a4) (1.4.0)\n",
            "Requirement already satisfied: grpcio>=1.48.2 in /usr/local/lib/python3.10/dist-packages (from tensorboard>=2.9.1->stable-baselines3[extra]>=2.0.0a4) (1.59.0)\n",
            "Requirement already satisfied: google-auth<3,>=1.6.3 in /usr/local/lib/python3.10/dist-packages (from tensorboard>=2.9.1->stable-baselines3[extra]>=2.0.0a4) (2.17.3)\n",
            "Requirement already satisfied: google-auth-oauthlib<1.1,>=0.5 in /usr/local/lib/python3.10/dist-packages (from tensorboard>=2.9.1->stable-baselines3[extra]>=2.0.0a4) (1.0.0)\n",
            "Requirement already satisfied: markdown>=2.6.8 in /usr/local/lib/python3.10/dist-packages (from tensorboard>=2.9.1->stable-baselines3[extra]>=2.0.0a4) (3.5)\n",
            "Requirement already satisfied: protobuf>=3.19.6 in /usr/local/lib/python3.10/dist-packages (from tensorboard>=2.9.1->stable-baselines3[extra]>=2.0.0a4) (3.20.3)\n",
            "Requirement already satisfied: setuptools>=41.0.0 in /usr/local/lib/python3.10/dist-packages (from tensorboard>=2.9.1->stable-baselines3[extra]>=2.0.0a4) (67.7.2)\n",
            "Requirement already satisfied: tensorboard-data-server<0.8.0,>=0.7.0 in /usr/local/lib/python3.10/dist-packages (from tensorboard>=2.9.1->stable-baselines3[extra]>=2.0.0a4) (0.7.1)\n",
            "Requirement already satisfied: werkzeug>=1.0.1 in /usr/local/lib/python3.10/dist-packages (from tensorboard>=2.9.1->stable-baselines3[extra]>=2.0.0a4) (3.0.0)\n",
            "Requirement already satisfied: wheel>=0.26 in /usr/local/lib/python3.10/dist-packages (from tensorboard>=2.9.1->stable-baselines3[extra]>=2.0.0a4) (0.41.2)\n",
            "Requirement already satisfied: filelock in /usr/local/lib/python3.10/dist-packages (from torch>=1.13->stable-baselines3[extra]>=2.0.0a4) (3.12.4)\n",
            "Requirement already satisfied: sympy in /usr/local/lib/python3.10/dist-packages (from torch>=1.13->stable-baselines3[extra]>=2.0.0a4) (1.12)\n",
            "Requirement already satisfied: networkx in /usr/local/lib/python3.10/dist-packages (from torch>=1.13->stable-baselines3[extra]>=2.0.0a4) (3.1)\n",
            "Requirement already satisfied: jinja2 in /usr/local/lib/python3.10/dist-packages (from torch>=1.13->stable-baselines3[extra]>=2.0.0a4) (3.1.2)\n",
            "Requirement already satisfied: fsspec in /usr/local/lib/python3.10/dist-packages (from torch>=1.13->stable-baselines3[extra]>=2.0.0a4) (2023.6.0)\n",
            "Requirement already satisfied: triton==2.1.0 in /usr/local/lib/python3.10/dist-packages (from torch>=1.13->stable-baselines3[extra]>=2.0.0a4) (2.1.0)\n",
            "Requirement already satisfied: contourpy>=1.0.1 in /usr/local/lib/python3.10/dist-packages (from matplotlib->stable-baselines3[extra]>=2.0.0a4) (1.1.1)\n",
            "Requirement already satisfied: cycler>=0.10 in /usr/local/lib/python3.10/dist-packages (from matplotlib->stable-baselines3[extra]>=2.0.0a4) (0.12.1)\n",
            "Requirement already satisfied: fonttools>=4.22.0 in /usr/local/lib/python3.10/dist-packages (from matplotlib->stable-baselines3[extra]>=2.0.0a4) (4.43.1)\n",
            "Requirement already satisfied: kiwisolver>=1.0.1 in /usr/local/lib/python3.10/dist-packages (from matplotlib->stable-baselines3[extra]>=2.0.0a4) (1.4.5)\n",
            "Requirement already satisfied: packaging>=20.0 in /usr/local/lib/python3.10/dist-packages (from matplotlib->stable-baselines3[extra]>=2.0.0a4) (23.2)\n",
            "Requirement already satisfied: pyparsing>=2.3.1 in /usr/local/lib/python3.10/dist-packages (from matplotlib->stable-baselines3[extra]>=2.0.0a4) (3.1.1)\n",
            "Requirement already satisfied: python-dateutil>=2.7 in /usr/local/lib/python3.10/dist-packages (from matplotlib->stable-baselines3[extra]>=2.0.0a4) (2.8.2)\n",
            "Requirement already satisfied: pytz>=2020.1 in /usr/local/lib/python3.10/dist-packages (from pandas->stable-baselines3[extra]>=2.0.0a4) (2023.3.post1)\n",
            "Requirement already satisfied: markdown-it-py>=2.2.0 in /usr/local/lib/python3.10/dist-packages (from rich->stable-baselines3[extra]>=2.0.0a4) (3.0.0)\n",
            "Requirement already satisfied: pygments<3.0.0,>=2.13.0 in /usr/local/lib/python3.10/dist-packages (from rich->stable-baselines3[extra]>=2.0.0a4) (2.16.1)\n",
            "Requirement already satisfied: importlib-resources in /usr/local/lib/python3.10/dist-packages (from ale-py~=0.8.1->shimmy[atari]~=1.1.0->stable-baselines3[extra]>=2.0.0a4) (6.1.0)\n",
            "Requirement already satisfied: cachetools<6.0,>=2.0.0 in /usr/local/lib/python3.10/dist-packages (from google-auth<3,>=1.6.3->tensorboard>=2.9.1->stable-baselines3[extra]>=2.0.0a4) (5.3.1)\n",
            "Requirement already satisfied: pyasn1-modules>=0.2.1 in /usr/local/lib/python3.10/dist-packages (from google-auth<3,>=1.6.3->tensorboard>=2.9.1->stable-baselines3[extra]>=2.0.0a4) (0.3.0)\n",
            "Requirement already satisfied: six>=1.9.0 in /usr/local/lib/python3.10/dist-packages (from google-auth<3,>=1.6.3->tensorboard>=2.9.1->stable-baselines3[extra]>=2.0.0a4) (1.16.0)\n",
            "Requirement already satisfied: rsa<5,>=3.1.4 in /usr/local/lib/python3.10/dist-packages (from google-auth<3,>=1.6.3->tensorboard>=2.9.1->stable-baselines3[extra]>=2.0.0a4) (4.9)\n",
            "Requirement already satisfied: requests-oauthlib>=0.7.0 in /usr/local/lib/python3.10/dist-packages (from google-auth-oauthlib<1.1,>=0.5->tensorboard>=2.9.1->stable-baselines3[extra]>=2.0.0a4) (1.3.1)\n",
            "Requirement already satisfied: mdurl~=0.1 in /usr/local/lib/python3.10/dist-packages (from markdown-it-py>=2.2.0->rich->stable-baselines3[extra]>=2.0.0a4) (0.1.2)\n",
            "Requirement already satisfied: charset-normalizer<4,>=2 in /usr/local/lib/python3.10/dist-packages (from requests->autorom[accept-rom-license]~=0.6.1->stable-baselines3[extra]>=2.0.0a4) (3.3.0)\n",
            "Requirement already satisfied: idna<4,>=2.5 in /usr/local/lib/python3.10/dist-packages (from requests->autorom[accept-rom-license]~=0.6.1->stable-baselines3[extra]>=2.0.0a4) (3.4)\n",
            "Requirement already satisfied: urllib3<3,>=1.21.1 in /usr/local/lib/python3.10/dist-packages (from requests->autorom[accept-rom-license]~=0.6.1->stable-baselines3[extra]>=2.0.0a4) (2.0.7)\n",
            "Requirement already satisfied: certifi>=2017.4.17 in /usr/local/lib/python3.10/dist-packages (from requests->autorom[accept-rom-license]~=0.6.1->stable-baselines3[extra]>=2.0.0a4) (2023.7.22)\n",
            "Requirement already satisfied: MarkupSafe>=2.1.1 in /usr/local/lib/python3.10/dist-packages (from werkzeug>=1.0.1->tensorboard>=2.9.1->stable-baselines3[extra]>=2.0.0a4) (2.1.3)\n",
            "Requirement already satisfied: mpmath>=0.19 in /usr/local/lib/python3.10/dist-packages (from sympy->torch>=1.13->stable-baselines3[extra]>=2.0.0a4) (1.3.0)\n",
            "Requirement already satisfied: pyasn1<0.6.0,>=0.4.6 in /usr/local/lib/python3.10/dist-packages (from pyasn1-modules>=0.2.1->google-auth<3,>=1.6.3->tensorboard>=2.9.1->stable-baselines3[extra]>=2.0.0a4) (0.5.0)\n",
            "Requirement already satisfied: oauthlib>=3.0.0 in /usr/local/lib/python3.10/dist-packages (from requests-oauthlib>=0.7.0->google-auth-oauthlib<1.1,>=0.5->tensorboard>=2.9.1->stable-baselines3[extra]>=2.0.0a4) (3.2.2)\n",
            "Building wheels for collected packages: AutoROM.accept-rom-license\n",
            "  Building wheel for AutoROM.accept-rom-license (pyproject.toml) ... \u001b[?25l\u001b[?25hdone\n",
            "  Created wheel for AutoROM.accept-rom-license: filename=AutoROM.accept_rom_license-0.6.1-py3-none-any.whl size=446660 sha256=d2d1499b35f00d93f196b416da3dc04e9f7c4a0f9afa235c01e4d94f047de29b\n",
            "  Stored in directory: /root/.cache/pip/wheels/6b/1b/ef/a43ff1a2f1736d5711faa1ba4c1f61be1131b8899e6a057811\n",
            "Successfully built AutoROM.accept-rom-license\n",
            "Installing collected packages: farama-notifications, gymnasium, ale-py, shimmy, AutoROM.accept-rom-license, autorom, stable-baselines3\n",
            "Successfully installed AutoROM.accept-rom-license-0.6.1 ale-py-0.8.1 autorom-0.6.1 farama-notifications-0.0.4 gymnasium-0.29.1 shimmy-1.1.0 stable-baselines3-2.1.0\n"
          ]
        }
      ],
      "source": [
        "!apt-get update && apt-get install ffmpeg freeglut3-dev xvfb  # For visualization\n",
        "!pip install \"stable-baselines3[extra]>=2.0.0a4\""
      ]
    },
    {
      "cell_type": "code",
      "execution_count": null,
      "metadata": {
        "id": "U29X1-B-AIKE",
        "colab": {
          "base_uri": "https://localhost:8080/"
        },
        "outputId": "bdf8acce-e714-4f71-c296-965af49637fe"
      },
      "outputs": [
        {
          "output_type": "stream",
          "name": "stdout",
          "text": [
            "stable_baselines3.__version__='2.1.0'\n"
          ]
        }
      ],
      "source": [
        "import stable_baselines3\n",
        "\n",
        "print(f\"{stable_baselines3.__version__=}\")"
      ]
    },
    {
      "cell_type": "markdown",
      "metadata": {
        "id": "FtY8FhliLsGm"
      },
      "source": [
        "## Imports"
      ]
    },
    {
      "cell_type": "markdown",
      "metadata": {
        "id": "gcX8hEcaUpR0"
      },
      "source": [
        "Stable-Baselines works on environments that follow the [gym interface](https://stable-baselines.readthedocs.io/en/master/guide/custom_env.html).\n",
        "You can find a list of available environment [here](https://gym.openai.com/envs/#classic_control).\n",
        "\n",
        "It is also recommended to check the [source code](https://github.com/openai/gym) to learn more about the observation and action space of each env, as gym does not have a proper documentation.\n",
        "Not all algorithms can work with all action spaces, you can find more in this [recap table](https://stable-baselines.readthedocs.io/en/master/guide/algos.html)"
      ]
    },
    {
      "cell_type": "code",
      "execution_count": null,
      "metadata": {
        "id": "BIedd7Pz9sOs",
        "colab": {
          "base_uri": "https://localhost:8080/"
        },
        "outputId": "f947fe1d-93fe-485b-8011-7460d54b3930"
      },
      "outputs": [
        {
          "output_type": "stream",
          "name": "stdout",
          "text": [
            "gym.__version__='0.29.1'\n"
          ]
        }
      ],
      "source": [
        "import gymnasium as gym\n",
        "import numpy as np\n",
        "\n",
        "print(f\"{gym.__version__=}\")"
      ]
    },
    {
      "cell_type": "markdown",
      "metadata": {
        "id": "Ae32CtgzTG3R"
      },
      "source": [
        "The first thing you need to import is the RL model, check the documentation to know what you can use on which problem"
      ]
    },
    {
      "cell_type": "code",
      "execution_count": null,
      "metadata": {
        "id": "R7tKaBFrTR0a"
      },
      "outputs": [],
      "source": [
        "from stable_baselines3 import DQN"
      ]
    },
    {
      "cell_type": "markdown",
      "metadata": {
        "id": "-0_8OQbOTTNT"
      },
      "source": [
        "The next thing you need to import is the policy class that will be used to create the networks (for the policy/value functions).\n",
        "This step is optional as you can directly use strings in the constructor:\n",
        "\n",
        "```PPO('MlpPolicy', env)``` instead of ```PPO(MlpPolicy, env)```\n",
        "\n",
        "Note that some algorithms like `SAC` have their own `MlpPolicy`, that's why using string for the policy is the recommened option."
      ]
    },
    {
      "cell_type": "code",
      "execution_count": null,
      "metadata": {
        "id": "ROUJr675TT01"
      },
      "outputs": [],
      "source": [
        "from stable_baselines3.ppo import MlpPolicy"
      ]
    },
    {
      "cell_type": "markdown",
      "metadata": {
        "id": "RapkYvTXL7Cd"
      },
      "source": [
        "## Create the Gym env and instantiate the agent\n",
        "\n",
        "For this example, we will use CartPole environment, a classic control problem.\n",
        "\n",
        "\"A pole is attached by an un-actuated joint to a cart, which moves along a frictionless track. The system is controlled by applying a force of +1 or -1 to the cart. The pendulum starts upright, and the goal is to prevent it from falling over. A reward of +1 is provided for every timestep that the pole remains upright. \"\n",
        "\n",
        "Cartpole environment: [https://gymnasium.farama.org/environments/classic_control/cart_pole/](https://gymnasium.farama.org/environments/classic_control/cart_pole/)\n",
        "\n",
        "![Cartpole](https://cdn-images-1.medium.com/max/1143/1*h4WTQNVIsvMXJTCpXm_TAw.gif)\n",
        "\n",
        "Note: vectorized environments allow to easily multiprocess training. In this example, we are using only one process, hence the DummyVecEnv.\n",
        "\n",
        "We chose the MlpPolicy because input of CartPole is a feature vector, not images.\n",
        "\n",
        "The type of action to use (discrete/continuous) will be automatically deduced from the environment action space\n",
        "\n",
        "\n",
        "Here we are using the [Proximal Policy Optimization](https://stable-baselines.readthedocs.io/en/master/modules/ppo2.html) algorithm, which is an Actor-Critic method: it uses a value function to improve the policy gradient descent (by reducing the variance).\n",
        "\n",
        "It combines ideas from [A2C](https://stable-baselines.readthedocs.io/en/master/modules/a2c.html) (having multiple workers and using an entropy bonus for exploration) and [TRPO](https://stable-baselines.readthedocs.io/en/master/modules/trpo.html) (it uses a trust region to improve stability and avoid catastrophic drops in performance).\n",
        "\n",
        "PPO is an on-policy algorithm, which means that the trajectories used to update the networks must be collected using the latest policy.\n",
        "It is usually less sample efficient than off-policy alorithms like [DQN](https://stable-baselines.readthedocs.io/en/master/modules/dqn.html), [SAC](https://stable-baselines.readthedocs.io/en/master/modules/sac.html) or [TD3](https://stable-baselines.readthedocs.io/en/master/modules/td3.html), but is much faster regarding wall-clock time.\n"
      ]
    },
    {
      "cell_type": "code",
      "execution_count": null,
      "metadata": {
        "id": "pUWGZp3i9wyf",
        "colab": {
          "base_uri": "https://localhost:8080/"
        },
        "outputId": "dda743ee-99a3-4886-ea1e-134901d9be12"
      },
      "outputs": [
        {
          "output_type": "stream",
          "name": "stderr",
          "text": [
            "/usr/local/lib/python3.10/dist-packages/stable_baselines3/common/buffers.py:231: UserWarning: This system does not have apparently enough memory to store the complete replay buffer 201.62GB > 12.11GB\n",
            "  warnings.warn(\n"
          ]
        }
      ],
      "source": [
        "env = gym.make(\"AtlantisDeterministic-v4\", render_mode=\"rgb_array\")\n",
        "model = DQN(\"MlpPolicy\", env, verbose=0)"
      ]
    },
    {
      "cell_type": "markdown",
      "metadata": {
        "id": "4efFdrQ7MBvl"
      },
      "source": [
        "We create a helper function to evaluate the agent:"
      ]
    },
    {
      "cell_type": "code",
      "execution_count": null,
      "metadata": {
        "id": "63M8mSKR-6Zt"
      },
      "outputs": [],
      "source": [
        "def evaluate(model, num_episodes=100, deterministic=True):\n",
        "    \"\"\"\n",
        "    Evaluate a RL agent\n",
        "    :param model: (BaseRLModel object) the RL Agent\n",
        "    :param num_episodes: (int) number of episodes to evaluate it\n",
        "    :return: (float) Mean reward for the last num_episodes\n",
        "    \"\"\"\n",
        "    # This function will only work for a single Environment\n",
        "    vec_env = model.get_env()\n",
        "    all_episode_rewards = []\n",
        "    for i in range(num_episodes):\n",
        "        episode_rewards = []\n",
        "        done = False\n",
        "        obs = vec_env.reset()\n",
        "        while not done:\n",
        "            # _states are only useful when using LSTM policies\n",
        "            action, _states = model.predict(obs, deterministic=deterministic)\n",
        "            # here, action, rewards and dones are arrays\n",
        "            # because we are using vectorized env\n",
        "            # also note that the step only returns a 4-tuple, as the env that is returned\n",
        "            # by model.get_env() is an sb3 vecenv that wraps the >v0.26 API\n",
        "            obs, reward, done, info = vec_env.step(action)\n",
        "            episode_rewards.append(reward)\n",
        "\n",
        "        all_episode_rewards.append(sum(episode_rewards))\n",
        "\n",
        "    mean_episode_reward = np.mean(all_episode_rewards)\n",
        "    print(\"Mean reward:\", mean_episode_reward, \"Num episodes:\", num_episodes)\n",
        "\n",
        "    return mean_episode_reward"
      ]
    },
    {
      "cell_type": "markdown",
      "metadata": {
        "id": "6hkyafs--gJz"
      },
      "source": [
        "In fact, Stable-Baselines3 already provides you with that helper:"
      ]
    },
    {
      "cell_type": "code",
      "execution_count": null,
      "metadata": {
        "id": "s6ZNldIR-fce"
      },
      "outputs": [],
      "source": [
        "from stable_baselines3.common.evaluation import evaluate_policy"
      ]
    },
    {
      "cell_type": "markdown",
      "metadata": {
        "id": "zjEVOIY8NVeK"
      },
      "source": [
        "Let's evaluate the un-trained agent, this should be a random agent."
      ]
    },
    {
      "cell_type": "code",
      "execution_count": null,
      "metadata": {
        "id": "xDHLMA6NFk95",
        "colab": {
          "base_uri": "https://localhost:8080/"
        },
        "outputId": "8fa512fe-3353-450d-a048-bbfb2c750410"
      },
      "outputs": [
        {
          "output_type": "stream",
          "name": "stderr",
          "text": [
            "/usr/local/lib/python3.10/dist-packages/stable_baselines3/common/evaluation.py:67: UserWarning: Evaluation environment is not wrapped with a ``Monitor`` wrapper. This may result in reporting modified episode lengths and rewards, if other wrappers happen to modify these. Consider wrapping environment first with ``Monitor`` wrapper.\n",
            "  warnings.warn(\n"
          ]
        },
        {
          "output_type": "stream",
          "name": "stdout",
          "text": [
            "mean_reward:2000.00 +/- 0.00\n"
          ]
        }
      ],
      "source": [
        "# Use a separate environement for evaluation\n",
        "eval_env = gym.make(\"AtlantisDeterministic-v4\", render_mode=\"rgb_array\")\n",
        "\n",
        "# Random Agent, before training\n",
        "mean_reward, std_reward = evaluate_policy(model, eval_env, n_eval_episodes=100)\n",
        "\n",
        "print(f\"mean_reward:{mean_reward:.2f} +/- {std_reward:.2f}\")"
      ]
    },
    {
      "cell_type": "markdown",
      "metadata": {
        "id": "r5UoXTZPNdFE"
      },
      "source": [
        "## Train the agent and evaluate it"
      ]
    },
    {
      "cell_type": "code",
      "execution_count": null,
      "metadata": {
        "id": "e4cfSXIB-pTF",
        "colab": {
          "base_uri": "https://localhost:8080/"
        },
        "outputId": "2cb55b97-9a65-474c-fe73-61b09fc1dffc"
      },
      "outputs": [
        {
          "output_type": "execute_result",
          "data": {
            "text/plain": [
              "<stable_baselines3.dqn.dqn.DQN at 0x79235bb68190>"
            ]
          },
          "metadata": {},
          "execution_count": 12
        }
      ],
      "source": [
        "# Train the agent for 10000 steps\n",
        "model.learn(total_timesteps=10_000)"
      ]
    },
    {
      "cell_type": "code",
      "execution_count": null,
      "metadata": {
        "id": "ygl_gVmV_QP7",
        "colab": {
          "base_uri": "https://localhost:8080/"
        },
        "outputId": "fc64fd75-991d-455e-eaa6-8123f8ac64e5"
      },
      "outputs": [
        {
          "output_type": "stream",
          "name": "stdout",
          "text": [
            "mean_reward:2000.00 +/- 0.00\n"
          ]
        }
      ],
      "source": [
        "# Evaluate the trained agent\n",
        "mean_reward, std_reward = evaluate_policy(model, eval_env, n_eval_episodes=100)\n",
        "\n",
        "print(f\"mean_reward:{mean_reward:.2f} +/- {std_reward:.2f}\")"
      ]
    },
    {
      "cell_type": "markdown",
      "metadata": {
        "id": "A00W6yY3NkHG"
      },
      "source": [
        "Apparently the training went well, the mean reward increased a lot !"
      ]
    },
    {
      "cell_type": "markdown",
      "metadata": {
        "id": "xVm9QPNVwKXN"
      },
      "source": [
        "### Prepare video recording"
      ]
    },
    {
      "cell_type": "code",
      "execution_count": null,
      "metadata": {
        "id": "MPyfQxD5z26J"
      },
      "outputs": [],
      "source": [
        "# Set up fake display; otherwise rendering will fail\n",
        "import os\n",
        "os.system(\"Xvfb :1 -screen 0 1024x768x24 &\")\n",
        "os.environ['DISPLAY'] = ':1'"
      ]
    },
    {
      "cell_type": "code",
      "execution_count": null,
      "metadata": {
        "id": "SLzXxO8VMD6N"
      },
      "outputs": [],
      "source": [
        "import base64\n",
        "from pathlib import Path\n",
        "\n",
        "from IPython import display as ipythondisplay\n",
        "\n",
        "\n",
        "def show_videos(video_path=\"\", prefix=\"\"):\n",
        "    \"\"\"\n",
        "    Taken from https://github.com/eleurent/highway-env\n",
        "\n",
        "    :param video_path: (str) Path to the folder containing videos\n",
        "    :param prefix: (str) Filter the video, showing only the only starting with this prefix\n",
        "    \"\"\"\n",
        "    html = []\n",
        "    for mp4 in Path(video_path).glob(\"{}*.mp4\".format(prefix)):\n",
        "        video_b64 = base64.b64encode(mp4.read_bytes())\n",
        "        html.append(\n",
        "            \"\"\"<video alt=\"{}\" autoplay\n",
        "                    loop controls style=\"height: 400px;\">\n",
        "                    <source src=\"data:video/mp4;base64,{}\" type=\"video/mp4\" />\n",
        "                </video>\"\"\".format(\n",
        "                mp4, video_b64.decode(\"ascii\")\n",
        "            )\n",
        "        )\n",
        "    ipythondisplay.display(ipythondisplay.HTML(data=\"<br>\".join(html)))"
      ]
    },
    {
      "cell_type": "markdown",
      "metadata": {
        "id": "LTRNUfulOGaF"
      },
      "source": [
        "We will record a video using the [VecVideoRecorder](https://stable-baselines.readthedocs.io/en/master/guide/vec_envs.html#vecvideorecorder) wrapper, you will learn about those wrapper in the next notebook."
      ]
    },
    {
      "cell_type": "code",
      "execution_count": null,
      "metadata": {
        "id": "Trag9dQpOIhx"
      },
      "outputs": [],
      "source": [
        "from stable_baselines3.common.vec_env import VecVideoRecorder, DummyVecEnv\n",
        "\n",
        "\n",
        "def record_video(env_id, model, video_length=500, prefix=\"\", video_folder=\"videos/\"):\n",
        "    \"\"\"\n",
        "    :param env_id: (str)\n",
        "    :param model: (RL model)\n",
        "    :param video_length: (int)\n",
        "    :param prefix: (str)\n",
        "    :param video_folder: (str)\n",
        "    \"\"\"\n",
        "    eval_env = DummyVecEnv([lambda: gym.make(\"AtlantisDeterministic-v4\", render_mode=\"rgb_array\")])\n",
        "    # Start the video at step=0 and record 500 steps\n",
        "    eval_env = VecVideoRecorder(\n",
        "        eval_env,\n",
        "        video_folder=video_folder,\n",
        "        record_video_trigger=lambda step: step == 0,\n",
        "        video_length=video_length,\n",
        "        name_prefix=prefix,\n",
        "    )\n",
        "\n",
        "    obs = eval_env.reset()\n",
        "    for _ in range(video_length):\n",
        "        action, _ = model.predict(obs)\n",
        "        obs, _, _, _ = eval_env.step(action)\n",
        "\n",
        "    # Close the video recorder\n",
        "    eval_env.close()"
      ]
    },
    {
      "cell_type": "markdown",
      "metadata": {
        "id": "KOObbeu5MMlR"
      },
      "source": [
        "### Visualize trained agent\n",
        "\n"
      ]
    },
    {
      "cell_type": "code",
      "execution_count": null,
      "metadata": {
        "id": "iATu7AiyMQW2",
        "colab": {
          "base_uri": "https://localhost:8080/"
        },
        "outputId": "c4b7aa44-a8fd-4c11-fc48-c7fbe29a5138"
      },
      "outputs": [
        {
          "output_type": "stream",
          "name": "stderr",
          "text": [
            "/usr/local/lib/python3.10/dist-packages/gymnasium/utils/passive_env_checker.py:335: UserWarning: \u001b[33mWARN: No render fps was declared in the environment (env.metadata['render_fps'] is None or not defined), rendering may occur at inconsistent fps.\u001b[0m\n",
            "  logger.warn(\n"
          ]
        },
        {
          "output_type": "stream",
          "name": "stdout",
          "text": [
            "Saving video to /content/videos/dqn-atlantis-step-0-to-step-500.mp4\n",
            "Moviepy - Building video /content/videos/dqn-atlantis-step-0-to-step-500.mp4.\n",
            "Moviepy - Writing video /content/videos/dqn-atlantis-step-0-to-step-500.mp4\n",
            "\n"
          ]
        },
        {
          "output_type": "stream",
          "name": "stderr",
          "text": []
        },
        {
          "output_type": "stream",
          "name": "stdout",
          "text": [
            "Moviepy - Done !\n",
            "Moviepy - video ready /content/videos/dqn-atlantis-step-0-to-step-500.mp4\n"
          ]
        }
      ],
      "source": [
        "record_video(\"AtlantisDeterministic-v4\", model, video_length=500, prefix=\"dqn-atlantis\")"
      ]
    },
    {
      "cell_type": "code",
      "execution_count": null,
      "metadata": {
        "id": "-n4i-fW3NojZ",
        "colab": {
          "base_uri": "https://localhost:8080/",
          "height": 421
        },
        "outputId": "a4ca2bc2-f026-4343-c122-8de2c4af8632"
      },
      "outputs": [
        {
          "output_type": "display_data",
          "data": {
            "text/plain": [
              "<IPython.core.display.HTML object>"
            ],
            "text/html": [
              "<video alt=\"videos/dqn-atlantis-step-0-to-step-500.mp4\" autoplay\n",
              "                    loop controls style=\"height: 400px;\">\n",
              "                    <source src=\"data:video/mp4;base64,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\" type=\"video/mp4\" />\n",
              "                </video>"
            ]
          },
          "metadata": {}
        }
      ],
      "source": [
        "show_videos(\"videos\", prefix=\"dqn\")"
      ]
    },
    {
      "cell_type": "markdown",
      "metadata": {
        "id": "9Y8zg4V566qD"
      },
      "source": [
        "## Bonus: Train a RL Model in One Line\n",
        "\n",
        "The policy class to use will be inferred and the environment will be automatically created. This works because both are [registered](https://stable-baselines.readthedocs.io/en/master/guide/quickstart.html)."
      ]
    },
    {
      "cell_type": "code",
      "execution_count": null,
      "metadata": {
        "id": "iaOPfOrwWEP4"
      },
      "outputs": [],
      "source": [
        "model = DQN('MlpPolicy', \"AtlantisDeterministic-v4\", verbose=1).learn(1000)"
      ]
    },
    {
      "cell_type": "markdown",
      "metadata": {
        "id": "FrI6f5fWnzp-"
      },
      "source": [
        "## Conclusion\n",
        "\n",
        "In this notebook we have seen:\n",
        "- how to define and train a RL model using stable baselines3, it takes only one line of code ;)\n"
      ]
    }
  ]
}