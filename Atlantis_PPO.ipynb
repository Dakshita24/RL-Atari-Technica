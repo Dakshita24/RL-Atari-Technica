{
  "nbformat": 4,
  "nbformat_minor": 0,
  "metadata": {
    "colab": {
      "provenance": []
    },
    "kernelspec": {
      "name": "python3",
      "display_name": "Python 3"
    },
    "language_info": {
      "name": "python"
    }
  },
  "cells": [
    {
      "cell_type": "code",
      "execution_count": null,
      "metadata": {
        "id": "-Dey0-CuxpfY"
      },
      "outputs": [],
      "source": []
    },
    {
      "cell_type": "markdown",
      "metadata": {
        "id": "hyyN-2qyK_T2"
      },
      "source": [
        "# Stable Baselines3 Tutorial - Getting Started\n",
        "\n",
        "Github repo: https://github.com/araffin/rl-tutorial-jnrr19\n",
        "\n",
        "Stable-Baselines3: https://github.com/DLR-RM/stable-baselines3\n",
        "\n",
        "Documentation: https://stable-baselines.readthedocs.io/en/master/\n",
        "\n",
        "RL Baselines3 zoo: https://github.com/DLR-RM/rl-baselines3-zoo\n",
        "\n",
        "\n",
        "[RL Baselines3 Zoo](https://github.com/DLR-RM/rl-baselines3-zoo) is a training framework for Reinforcement Learning (RL), using Stable Baselines3.\n",
        "\n",
        "It provides scripts for training, evaluating agents, tuning hyperparameters, plotting results and recording videos.\n",
        "\n",
        "## Introduction\n",
        "\n",
        "In this notebook, you will learn the basics for using stable baselines3 library: how to create a RL model, train it and evaluate it. Because all algorithms share the same interface, we will see how simple it is to switch from one algorithm to another.\n",
        "\n",
        "\n",
        "## Install Dependencies and Stable Baselines3 Using Pip\n",
        "\n",
        "List of full dependencies can be found in the [README](https://github.com/DLR-RM/stable-baselines3).\n",
        "\n",
        "\n",
        "```\n",
        "pip install stable-baselines3[extra]\n",
        "```"
      ]
    },
    {
      "cell_type": "code",
      "execution_count": 6,
      "metadata": {
        "id": "glylhRQcxb8H"
      },
      "outputs": [],
      "source": [
        "# for autoformatting\n",
        "# %load_ext jupyter_black"
      ]
    },
    {
      "cell_type": "code",
      "execution_count": 7,
      "metadata": {
        "id": "gWskDE2c9WoN",
        "colab": {
          "base_uri": "https://localhost:8080/"
        },
        "outputId": "67351a39-0cab-4d8b-a620-0cf2c1483b27"
      },
      "outputs": [
        {
          "output_type": "stream",
          "name": "stdout",
          "text": [
            "\r0% [Working]\r            \rGet:1 https://cloud.r-project.org/bin/linux/ubuntu jammy-cran40/ InRelease [3,626 B]\n",
            "\r0% [Connecting to archive.ubuntu.com (185.125.190.39)] [Connecting to security.ubuntu.com] [1 InRele\r0% [Connecting to archive.ubuntu.com (185.125.190.39)] [Connecting to security.ubuntu.com] [Connecti\r                                                                                                    \rGet:2 https://developer.download.nvidia.com/compute/cuda/repos/ubuntu2204/x86_64  InRelease [1,581 B]\n",
            "Get:3 http://security.ubuntu.com/ubuntu jammy-security InRelease [110 kB]\n",
            "Hit:4 http://archive.ubuntu.com/ubuntu jammy InRelease\n",
            "Get:5 http://archive.ubuntu.com/ubuntu jammy-updates InRelease [119 kB]\n",
            "Get:6 https://developer.download.nvidia.com/compute/cuda/repos/ubuntu2204/x86_64  Packages [555 kB]\n",
            "Hit:7 https://ppa.launchpadcontent.net/c2d4u.team/c2d4u4.0+/ubuntu jammy InRelease\n",
            "Get:8 http://security.ubuntu.com/ubuntu jammy-security/restricted amd64 Packages [1,305 kB]\n",
            "Get:9 http://security.ubuntu.com/ubuntu jammy-security/universe amd64 Packages [1,009 kB]\n",
            "Get:10 http://archive.ubuntu.com/ubuntu jammy-backports InRelease [109 kB]\n",
            "Get:11 http://security.ubuntu.com/ubuntu jammy-security/main amd64 Packages [1,131 kB]\n",
            "Get:12 https://ppa.launchpadcontent.net/deadsnakes/ppa/ubuntu jammy InRelease [18.1 kB]\n",
            "Get:13 http://archive.ubuntu.com/ubuntu jammy-updates/main amd64 Packages [1,398 kB]\n",
            "Get:14 https://ppa.launchpadcontent.net/graphics-drivers/ppa/ubuntu jammy InRelease [24.3 kB]\n",
            "Get:15 http://archive.ubuntu.com/ubuntu jammy-updates/universe amd64 Packages [1,274 kB]\n",
            "Get:16 http://archive.ubuntu.com/ubuntu jammy-updates/restricted amd64 Packages [1,330 kB]\n",
            "Hit:17 https://ppa.launchpadcontent.net/ubuntugis/ppa/ubuntu jammy InRelease\n",
            "Get:18 https://ppa.launchpadcontent.net/deadsnakes/ppa/ubuntu jammy/main amd64 Packages [27.7 kB]\n",
            "Get:19 https://ppa.launchpadcontent.net/graphics-drivers/ppa/ubuntu jammy/main amd64 Packages [40.1 kB]\n",
            "Fetched 8,454 kB in 3s (2,530 kB/s)\n",
            "Reading package lists... Done\n",
            "Reading package lists... Done\n",
            "Building dependency tree... Done\n",
            "Reading state information... Done\n",
            "ffmpeg is already the newest version (7:4.4.2-0ubuntu0.22.04.1).\n",
            "The following additional packages will be installed:\n",
            "  freeglut3 libegl-dev libfontenc1 libgl-dev libgl1-mesa-dev libgles-dev libgles1 libglu1-mesa\n",
            "  libglu1-mesa-dev libglvnd-core-dev libglvnd-dev libglx-dev libice-dev libopengl-dev libsm-dev\n",
            "  libxfont2 libxkbfile1 libxt-dev x11-xkb-utils xfonts-base xfonts-encodings xfonts-utils\n",
            "  xserver-common\n",
            "Suggested packages:\n",
            "  libice-doc libsm-doc libxt-doc\n",
            "The following NEW packages will be installed:\n",
            "  freeglut3 freeglut3-dev libegl-dev libfontenc1 libgl-dev libgl1-mesa-dev libgles-dev libgles1\n",
            "  libglu1-mesa libglu1-mesa-dev libglvnd-core-dev libglvnd-dev libglx-dev libice-dev libopengl-dev\n",
            "  libsm-dev libxfont2 libxkbfile1 libxt-dev x11-xkb-utils xfonts-base xfonts-encodings xfonts-utils\n",
            "  xserver-common xvfb\n",
            "0 upgraded, 25 newly installed, 0 to remove and 19 not upgraded.\n",
            "Need to get 9,074 kB of archives.\n",
            "After this operation, 18.7 MB of additional disk space will be used.\n",
            "Get:1 http://archive.ubuntu.com/ubuntu jammy/universe amd64 freeglut3 amd64 2.8.1-6 [74.0 kB]\n",
            "Get:2 http://archive.ubuntu.com/ubuntu jammy/main amd64 libglx-dev amd64 1.4.0-1 [14.1 kB]\n",
            "Get:3 http://archive.ubuntu.com/ubuntu jammy/main amd64 libgl-dev amd64 1.4.0-1 [101 kB]\n",
            "Get:4 http://archive.ubuntu.com/ubuntu jammy/main amd64 libglvnd-core-dev amd64 1.4.0-1 [12.7 kB]\n",
            "Get:5 http://archive.ubuntu.com/ubuntu jammy/main amd64 libegl-dev amd64 1.4.0-1 [18.0 kB]\n",
            "Get:6 http://archive.ubuntu.com/ubuntu jammy/main amd64 libgles1 amd64 1.4.0-1 [11.5 kB]\n",
            "Get:7 http://archive.ubuntu.com/ubuntu jammy/main amd64 libgles-dev amd64 1.4.0-1 [49.4 kB]\n",
            "Get:8 http://archive.ubuntu.com/ubuntu jammy/main amd64 libopengl-dev amd64 1.4.0-1 [3,400 B]\n",
            "Get:9 http://archive.ubuntu.com/ubuntu jammy/main amd64 libglvnd-dev amd64 1.4.0-1 [3,162 B]\n",
            "Get:10 http://archive.ubuntu.com/ubuntu jammy-updates/main amd64 libgl1-mesa-dev amd64 23.0.4-0ubuntu1~22.04.1 [6,510 B]\n",
            "Get:11 http://archive.ubuntu.com/ubuntu jammy/main amd64 libglu1-mesa amd64 9.0.2-1 [145 kB]\n",
            "Get:12 http://archive.ubuntu.com/ubuntu jammy/main amd64 libglu1-mesa-dev amd64 9.0.2-1 [231 kB]\n",
            "Get:13 http://archive.ubuntu.com/ubuntu jammy/main amd64 libice-dev amd64 2:1.0.10-1build2 [51.4 kB]\n",
            "Get:14 http://archive.ubuntu.com/ubuntu jammy/main amd64 libsm-dev amd64 2:1.2.3-1build2 [18.1 kB]\n",
            "Get:15 http://archive.ubuntu.com/ubuntu jammy/main amd64 libxt-dev amd64 1:1.2.1-1 [396 kB]\n",
            "Get:16 http://archive.ubuntu.com/ubuntu jammy/universe amd64 freeglut3-dev amd64 2.8.1-6 [126 kB]\n",
            "Get:17 http://archive.ubuntu.com/ubuntu jammy/main amd64 libfontenc1 amd64 1:1.1.4-1build3 [14.7 kB]\n",
            "Get:18 http://archive.ubuntu.com/ubuntu jammy/main amd64 libxfont2 amd64 1:2.0.5-1build1 [94.5 kB]\n",
            "Get:19 http://archive.ubuntu.com/ubuntu jammy/main amd64 libxkbfile1 amd64 1:1.1.0-1build3 [71.8 kB]\n",
            "Get:20 http://archive.ubuntu.com/ubuntu jammy/main amd64 x11-xkb-utils amd64 7.7+5build4 [172 kB]\n",
            "Get:21 http://archive.ubuntu.com/ubuntu jammy/main amd64 xfonts-encodings all 1:1.0.5-0ubuntu2 [578 kB]\n",
            "Get:22 http://archive.ubuntu.com/ubuntu jammy/main amd64 xfonts-utils amd64 1:7.7+6build2 [94.6 kB]\n",
            "Get:23 http://archive.ubuntu.com/ubuntu jammy/main amd64 xfonts-base all 1:1.0.5 [5,896 kB]\n",
            "Get:24 http://archive.ubuntu.com/ubuntu jammy-updates/main amd64 xserver-common all 2:21.1.4-2ubuntu1.7~22.04.1 [28.0 kB]\n",
            "Get:25 http://archive.ubuntu.com/ubuntu jammy-updates/universe amd64 xvfb amd64 2:21.1.4-2ubuntu1.7~22.04.1 [863 kB]\n",
            "Fetched 9,074 kB in 4s (2,576 kB/s)\n",
            "Selecting previously unselected package freeglut3:amd64.\n",
            "(Reading database ... 120874 files and directories currently installed.)\n",
            "Preparing to unpack .../00-freeglut3_2.8.1-6_amd64.deb ...\n",
            "Unpacking freeglut3:amd64 (2.8.1-6) ...\n",
            "Selecting previously unselected package libglx-dev:amd64.\n",
            "Preparing to unpack .../01-libglx-dev_1.4.0-1_amd64.deb ...\n",
            "Unpacking libglx-dev:amd64 (1.4.0-1) ...\n",
            "Selecting previously unselected package libgl-dev:amd64.\n",
            "Preparing to unpack .../02-libgl-dev_1.4.0-1_amd64.deb ...\n",
            "Unpacking libgl-dev:amd64 (1.4.0-1) ...\n",
            "Selecting previously unselected package libglvnd-core-dev:amd64.\n",
            "Preparing to unpack .../03-libglvnd-core-dev_1.4.0-1_amd64.deb ...\n",
            "Unpacking libglvnd-core-dev:amd64 (1.4.0-1) ...\n",
            "Selecting previously unselected package libegl-dev:amd64.\n",
            "Preparing to unpack .../04-libegl-dev_1.4.0-1_amd64.deb ...\n",
            "Unpacking libegl-dev:amd64 (1.4.0-1) ...\n",
            "Selecting previously unselected package libgles1:amd64.\n",
            "Preparing to unpack .../05-libgles1_1.4.0-1_amd64.deb ...\n",
            "Unpacking libgles1:amd64 (1.4.0-1) ...\n",
            "Selecting previously unselected package libgles-dev:amd64.\n",
            "Preparing to unpack .../06-libgles-dev_1.4.0-1_amd64.deb ...\n",
            "Unpacking libgles-dev:amd64 (1.4.0-1) ...\n",
            "Selecting previously unselected package libopengl-dev:amd64.\n",
            "Preparing to unpack .../07-libopengl-dev_1.4.0-1_amd64.deb ...\n",
            "Unpacking libopengl-dev:amd64 (1.4.0-1) ...\n",
            "Selecting previously unselected package libglvnd-dev:amd64.\n",
            "Preparing to unpack .../08-libglvnd-dev_1.4.0-1_amd64.deb ...\n",
            "Unpacking libglvnd-dev:amd64 (1.4.0-1) ...\n",
            "Selecting previously unselected package libgl1-mesa-dev:amd64.\n",
            "Preparing to unpack .../09-libgl1-mesa-dev_23.0.4-0ubuntu1~22.04.1_amd64.deb ...\n",
            "Unpacking libgl1-mesa-dev:amd64 (23.0.4-0ubuntu1~22.04.1) ...\n",
            "Selecting previously unselected package libglu1-mesa:amd64.\n",
            "Preparing to unpack .../10-libglu1-mesa_9.0.2-1_amd64.deb ...\n",
            "Unpacking libglu1-mesa:amd64 (9.0.2-1) ...\n",
            "Selecting previously unselected package libglu1-mesa-dev:amd64.\n",
            "Preparing to unpack .../11-libglu1-mesa-dev_9.0.2-1_amd64.deb ...\n",
            "Unpacking libglu1-mesa-dev:amd64 (9.0.2-1) ...\n",
            "Selecting previously unselected package libice-dev:amd64.\n",
            "Preparing to unpack .../12-libice-dev_2%3a1.0.10-1build2_amd64.deb ...\n",
            "Unpacking libice-dev:amd64 (2:1.0.10-1build2) ...\n",
            "Selecting previously unselected package libsm-dev:amd64.\n",
            "Preparing to unpack .../13-libsm-dev_2%3a1.2.3-1build2_amd64.deb ...\n",
            "Unpacking libsm-dev:amd64 (2:1.2.3-1build2) ...\n",
            "Selecting previously unselected package libxt-dev:amd64.\n",
            "Preparing to unpack .../14-libxt-dev_1%3a1.2.1-1_amd64.deb ...\n",
            "Unpacking libxt-dev:amd64 (1:1.2.1-1) ...\n",
            "Selecting previously unselected package freeglut3-dev:amd64.\n",
            "Preparing to unpack .../15-freeglut3-dev_2.8.1-6_amd64.deb ...\n",
            "Unpacking freeglut3-dev:amd64 (2.8.1-6) ...\n",
            "Selecting previously unselected package libfontenc1:amd64.\n",
            "Preparing to unpack .../16-libfontenc1_1%3a1.1.4-1build3_amd64.deb ...\n",
            "Unpacking libfontenc1:amd64 (1:1.1.4-1build3) ...\n",
            "Selecting previously unselected package libxfont2:amd64.\n",
            "Preparing to unpack .../17-libxfont2_1%3a2.0.5-1build1_amd64.deb ...\n",
            "Unpacking libxfont2:amd64 (1:2.0.5-1build1) ...\n",
            "Selecting previously unselected package libxkbfile1:amd64.\n",
            "Preparing to unpack .../18-libxkbfile1_1%3a1.1.0-1build3_amd64.deb ...\n",
            "Unpacking libxkbfile1:amd64 (1:1.1.0-1build3) ...\n",
            "Selecting previously unselected package x11-xkb-utils.\n",
            "Preparing to unpack .../19-x11-xkb-utils_7.7+5build4_amd64.deb ...\n",
            "Unpacking x11-xkb-utils (7.7+5build4) ...\n",
            "Selecting previously unselected package xfonts-encodings.\n",
            "Preparing to unpack .../20-xfonts-encodings_1%3a1.0.5-0ubuntu2_all.deb ...\n",
            "Unpacking xfonts-encodings (1:1.0.5-0ubuntu2) ...\n",
            "Selecting previously unselected package xfonts-utils.\n",
            "Preparing to unpack .../21-xfonts-utils_1%3a7.7+6build2_amd64.deb ...\n",
            "Unpacking xfonts-utils (1:7.7+6build2) ...\n",
            "Selecting previously unselected package xfonts-base.\n",
            "Preparing to unpack .../22-xfonts-base_1%3a1.0.5_all.deb ...\n",
            "Unpacking xfonts-base (1:1.0.5) ...\n",
            "Selecting previously unselected package xserver-common.\n",
            "Preparing to unpack .../23-xserver-common_2%3a21.1.4-2ubuntu1.7~22.04.1_all.deb ...\n",
            "Unpacking xserver-common (2:21.1.4-2ubuntu1.7~22.04.1) ...\n",
            "Selecting previously unselected package xvfb.\n",
            "Preparing to unpack .../24-xvfb_2%3a21.1.4-2ubuntu1.7~22.04.1_amd64.deb ...\n",
            "Unpacking xvfb (2:21.1.4-2ubuntu1.7~22.04.1) ...\n",
            "Setting up freeglut3:amd64 (2.8.1-6) ...\n",
            "Setting up libglvnd-core-dev:amd64 (1.4.0-1) ...\n",
            "Setting up libice-dev:amd64 (2:1.0.10-1build2) ...\n",
            "Setting up libsm-dev:amd64 (2:1.2.3-1build2) ...\n",
            "Setting up libfontenc1:amd64 (1:1.1.4-1build3) ...\n",
            "Setting up libxt-dev:amd64 (1:1.2.1-1) ...\n",
            "Setting up libgles1:amd64 (1.4.0-1) ...\n",
            "Setting up xfonts-encodings (1:1.0.5-0ubuntu2) ...\n",
            "Setting up libglx-dev:amd64 (1.4.0-1) ...\n",
            "Setting up libglu1-mesa:amd64 (9.0.2-1) ...\n",
            "Setting up libxkbfile1:amd64 (1:1.1.0-1build3) ...\n",
            "Setting up libopengl-dev:amd64 (1.4.0-1) ...\n",
            "Setting up libxfont2:amd64 (1:2.0.5-1build1) ...\n",
            "Setting up libgl-dev:amd64 (1.4.0-1) ...\n",
            "Setting up libegl-dev:amd64 (1.4.0-1) ...\n",
            "Setting up x11-xkb-utils (7.7+5build4) ...\n",
            "Setting up xfonts-utils (1:7.7+6build2) ...\n",
            "Setting up xfonts-base (1:1.0.5) ...\n",
            "Setting up libglu1-mesa-dev:amd64 (9.0.2-1) ...\n",
            "Setting up xserver-common (2:21.1.4-2ubuntu1.7~22.04.1) ...\n",
            "Setting up libgles-dev:amd64 (1.4.0-1) ...\n",
            "Setting up xvfb (2:21.1.4-2ubuntu1.7~22.04.1) ...\n",
            "Setting up libglvnd-dev:amd64 (1.4.0-1) ...\n",
            "Setting up libgl1-mesa-dev:amd64 (23.0.4-0ubuntu1~22.04.1) ...\n",
            "Setting up freeglut3-dev:amd64 (2.8.1-6) ...\n",
            "Processing triggers for libc-bin (2.35-0ubuntu3.1) ...\n",
            "/sbin/ldconfig.real: /usr/local/lib/libtbbmalloc_proxy.so.2 is not a symbolic link\n",
            "\n",
            "/sbin/ldconfig.real: /usr/local/lib/libtbbbind_2_5.so.3 is not a symbolic link\n",
            "\n",
            "/sbin/ldconfig.real: /usr/local/lib/libtbbmalloc.so.2 is not a symbolic link\n",
            "\n",
            "/sbin/ldconfig.real: /usr/local/lib/libtbb.so.12 is not a symbolic link\n",
            "\n",
            "/sbin/ldconfig.real: /usr/local/lib/libtbbbind.so.3 is not a symbolic link\n",
            "\n",
            "/sbin/ldconfig.real: /usr/local/lib/libtbbbind_2_0.so.3 is not a symbolic link\n",
            "\n",
            "Processing triggers for man-db (2.10.2-1) ...\n",
            "Processing triggers for fontconfig (2.13.1-4.2ubuntu5) ...\n",
            "Collecting stable-baselines3[extra]>=2.0.0a4\n",
            "  Downloading stable_baselines3-2.1.0-py3-none-any.whl (178 kB)\n",
            "\u001b[2K     \u001b[90m━━━━━━━━━━━━━━━━━━━━━━━━━━━━━━━━━━━━━━━━\u001b[0m \u001b[32m178.7/178.7 kB\u001b[0m \u001b[31m3.8 MB/s\u001b[0m eta \u001b[36m0:00:00\u001b[0m\n",
            "\u001b[?25hCollecting gymnasium<0.30,>=0.28.1 (from stable-baselines3[extra]>=2.0.0a4)\n",
            "  Downloading gymnasium-0.29.1-py3-none-any.whl (953 kB)\n",
            "\u001b[2K     \u001b[90m━━━━━━━━━━━━━━━━━━━━━━━━━━━━━━━━━━━━━━━━\u001b[0m \u001b[32m953.9/953.9 kB\u001b[0m \u001b[31m29.8 MB/s\u001b[0m eta \u001b[36m0:00:00\u001b[0m\n",
            "\u001b[?25hRequirement already satisfied: numpy>=1.20 in /usr/local/lib/python3.10/dist-packages (from stable-baselines3[extra]>=2.0.0a4) (1.23.5)\n",
            "Requirement already satisfied: torch>=1.13 in /usr/local/lib/python3.10/dist-packages (from stable-baselines3[extra]>=2.0.0a4) (2.1.0+cu118)\n",
            "Requirement already satisfied: cloudpickle in /usr/local/lib/python3.10/dist-packages (from stable-baselines3[extra]>=2.0.0a4) (2.2.1)\n",
            "Requirement already satisfied: pandas in /usr/local/lib/python3.10/dist-packages (from stable-baselines3[extra]>=2.0.0a4) (1.5.3)\n",
            "Requirement already satisfied: matplotlib in /usr/local/lib/python3.10/dist-packages (from stable-baselines3[extra]>=2.0.0a4) (3.7.1)\n",
            "Requirement already satisfied: opencv-python in /usr/local/lib/python3.10/dist-packages (from stable-baselines3[extra]>=2.0.0a4) (4.8.0.76)\n",
            "Requirement already satisfied: pygame in /usr/local/lib/python3.10/dist-packages (from stable-baselines3[extra]>=2.0.0a4) (2.5.2)\n",
            "Requirement already satisfied: tensorboard>=2.9.1 in /usr/local/lib/python3.10/dist-packages (from stable-baselines3[extra]>=2.0.0a4) (2.13.0)\n",
            "Requirement already satisfied: psutil in /usr/local/lib/python3.10/dist-packages (from stable-baselines3[extra]>=2.0.0a4) (5.9.5)\n",
            "Requirement already satisfied: tqdm in /usr/local/lib/python3.10/dist-packages (from stable-baselines3[extra]>=2.0.0a4) (4.66.1)\n",
            "Requirement already satisfied: rich in /usr/local/lib/python3.10/dist-packages (from stable-baselines3[extra]>=2.0.0a4) (13.6.0)\n",
            "Collecting shimmy[atari]~=1.1.0 (from stable-baselines3[extra]>=2.0.0a4)\n",
            "  Downloading Shimmy-1.1.0-py3-none-any.whl (37 kB)\n",
            "Requirement already satisfied: pillow in /usr/local/lib/python3.10/dist-packages (from stable-baselines3[extra]>=2.0.0a4) (9.4.0)\n",
            "Collecting autorom[accept-rom-license]~=0.6.1 (from stable-baselines3[extra]>=2.0.0a4)\n",
            "  Downloading AutoROM-0.6.1-py3-none-any.whl (9.4 kB)\n",
            "Requirement already satisfied: click in /usr/local/lib/python3.10/dist-packages (from autorom[accept-rom-license]~=0.6.1->stable-baselines3[extra]>=2.0.0a4) (8.1.7)\n",
            "Requirement already satisfied: requests in /usr/local/lib/python3.10/dist-packages (from autorom[accept-rom-license]~=0.6.1->stable-baselines3[extra]>=2.0.0a4) (2.31.0)\n",
            "Collecting AutoROM.accept-rom-license (from autorom[accept-rom-license]~=0.6.1->stable-baselines3[extra]>=2.0.0a4)\n",
            "  Downloading AutoROM.accept-rom-license-0.6.1.tar.gz (434 kB)\n",
            "\u001b[2K     \u001b[90m━━━━━━━━━━━━━━━━━━━━━━━━━━━━━━━━━━━━━━━━\u001b[0m \u001b[32m434.7/434.7 kB\u001b[0m \u001b[31m36.4 MB/s\u001b[0m eta \u001b[36m0:00:00\u001b[0m\n",
            "\u001b[?25h  Installing build dependencies ... \u001b[?25l\u001b[?25hdone\n",
            "  Getting requirements to build wheel ... \u001b[?25l\u001b[?25hdone\n",
            "  Preparing metadata (pyproject.toml) ... \u001b[?25l\u001b[?25hdone\n",
            "Requirement already satisfied: typing-extensions>=4.3.0 in /usr/local/lib/python3.10/dist-packages (from gymnasium<0.30,>=0.28.1->stable-baselines3[extra]>=2.0.0a4) (4.5.0)\n",
            "Collecting farama-notifications>=0.0.1 (from gymnasium<0.30,>=0.28.1->stable-baselines3[extra]>=2.0.0a4)\n",
            "  Using cached Farama_Notifications-0.0.4-py3-none-any.whl (2.5 kB)\n",
            "Collecting ale-py~=0.8.1 (from shimmy[atari]~=1.1.0->stable-baselines3[extra]>=2.0.0a4)\n",
            "  Downloading ale_py-0.8.1-cp310-cp310-manylinux_2_17_x86_64.manylinux2014_x86_64.whl (1.7 MB)\n",
            "\u001b[2K     \u001b[90m━━━━━━━━━━━━━━━━━━━━━━━━━━━━━━━━━━━━━━━━\u001b[0m \u001b[32m1.7/1.7 MB\u001b[0m \u001b[31m57.1 MB/s\u001b[0m eta \u001b[36m0:00:00\u001b[0m\n",
            "\u001b[?25hRequirement already satisfied: absl-py>=0.4 in /usr/local/lib/python3.10/dist-packages (from tensorboard>=2.9.1->stable-baselines3[extra]>=2.0.0a4) (1.4.0)\n",
            "Requirement already satisfied: grpcio>=1.48.2 in /usr/local/lib/python3.10/dist-packages (from tensorboard>=2.9.1->stable-baselines3[extra]>=2.0.0a4) (1.59.0)\n",
            "Requirement already satisfied: google-auth<3,>=1.6.3 in /usr/local/lib/python3.10/dist-packages (from tensorboard>=2.9.1->stable-baselines3[extra]>=2.0.0a4) (2.17.3)\n",
            "Requirement already satisfied: google-auth-oauthlib<1.1,>=0.5 in /usr/local/lib/python3.10/dist-packages (from tensorboard>=2.9.1->stable-baselines3[extra]>=2.0.0a4) (1.0.0)\n",
            "Requirement already satisfied: markdown>=2.6.8 in /usr/local/lib/python3.10/dist-packages (from tensorboard>=2.9.1->stable-baselines3[extra]>=2.0.0a4) (3.5)\n",
            "Requirement already satisfied: protobuf>=3.19.6 in /usr/local/lib/python3.10/dist-packages (from tensorboard>=2.9.1->stable-baselines3[extra]>=2.0.0a4) (3.20.3)\n",
            "Requirement already satisfied: setuptools>=41.0.0 in /usr/local/lib/python3.10/dist-packages (from tensorboard>=2.9.1->stable-baselines3[extra]>=2.0.0a4) (67.7.2)\n",
            "Requirement already satisfied: tensorboard-data-server<0.8.0,>=0.7.0 in /usr/local/lib/python3.10/dist-packages (from tensorboard>=2.9.1->stable-baselines3[extra]>=2.0.0a4) (0.7.1)\n",
            "Requirement already satisfied: werkzeug>=1.0.1 in /usr/local/lib/python3.10/dist-packages (from tensorboard>=2.9.1->stable-baselines3[extra]>=2.0.0a4) (3.0.0)\n",
            "Requirement already satisfied: wheel>=0.26 in /usr/local/lib/python3.10/dist-packages (from tensorboard>=2.9.1->stable-baselines3[extra]>=2.0.0a4) (0.41.2)\n",
            "Requirement already satisfied: filelock in /usr/local/lib/python3.10/dist-packages (from torch>=1.13->stable-baselines3[extra]>=2.0.0a4) (3.12.4)\n",
            "Requirement already satisfied: sympy in /usr/local/lib/python3.10/dist-packages (from torch>=1.13->stable-baselines3[extra]>=2.0.0a4) (1.12)\n",
            "Requirement already satisfied: networkx in /usr/local/lib/python3.10/dist-packages (from torch>=1.13->stable-baselines3[extra]>=2.0.0a4) (3.1)\n",
            "Requirement already satisfied: jinja2 in /usr/local/lib/python3.10/dist-packages (from torch>=1.13->stable-baselines3[extra]>=2.0.0a4) (3.1.2)\n",
            "Requirement already satisfied: fsspec in /usr/local/lib/python3.10/dist-packages (from torch>=1.13->stable-baselines3[extra]>=2.0.0a4) (2023.6.0)\n",
            "Requirement already satisfied: triton==2.1.0 in /usr/local/lib/python3.10/dist-packages (from torch>=1.13->stable-baselines3[extra]>=2.0.0a4) (2.1.0)\n",
            "Requirement already satisfied: contourpy>=1.0.1 in /usr/local/lib/python3.10/dist-packages (from matplotlib->stable-baselines3[extra]>=2.0.0a4) (1.1.1)\n",
            "Requirement already satisfied: cycler>=0.10 in /usr/local/lib/python3.10/dist-packages (from matplotlib->stable-baselines3[extra]>=2.0.0a4) (0.12.1)\n",
            "Requirement already satisfied: fonttools>=4.22.0 in /usr/local/lib/python3.10/dist-packages (from matplotlib->stable-baselines3[extra]>=2.0.0a4) (4.43.1)\n",
            "Requirement already satisfied: kiwisolver>=1.0.1 in /usr/local/lib/python3.10/dist-packages (from matplotlib->stable-baselines3[extra]>=2.0.0a4) (1.4.5)\n",
            "Requirement already satisfied: packaging>=20.0 in /usr/local/lib/python3.10/dist-packages (from matplotlib->stable-baselines3[extra]>=2.0.0a4) (23.2)\n",
            "Requirement already satisfied: pyparsing>=2.3.1 in /usr/local/lib/python3.10/dist-packages (from matplotlib->stable-baselines3[extra]>=2.0.0a4) (3.1.1)\n",
            "Requirement already satisfied: python-dateutil>=2.7 in /usr/local/lib/python3.10/dist-packages (from matplotlib->stable-baselines3[extra]>=2.0.0a4) (2.8.2)\n",
            "Requirement already satisfied: pytz>=2020.1 in /usr/local/lib/python3.10/dist-packages (from pandas->stable-baselines3[extra]>=2.0.0a4) (2023.3.post1)\n",
            "Requirement already satisfied: markdown-it-py>=2.2.0 in /usr/local/lib/python3.10/dist-packages (from rich->stable-baselines3[extra]>=2.0.0a4) (3.0.0)\n",
            "Requirement already satisfied: pygments<3.0.0,>=2.13.0 in /usr/local/lib/python3.10/dist-packages (from rich->stable-baselines3[extra]>=2.0.0a4) (2.16.1)\n",
            "Requirement already satisfied: importlib-resources in /usr/local/lib/python3.10/dist-packages (from ale-py~=0.8.1->shimmy[atari]~=1.1.0->stable-baselines3[extra]>=2.0.0a4) (6.1.0)\n",
            "Requirement already satisfied: cachetools<6.0,>=2.0.0 in /usr/local/lib/python3.10/dist-packages (from google-auth<3,>=1.6.3->tensorboard>=2.9.1->stable-baselines3[extra]>=2.0.0a4) (5.3.1)\n",
            "Requirement already satisfied: pyasn1-modules>=0.2.1 in /usr/local/lib/python3.10/dist-packages (from google-auth<3,>=1.6.3->tensorboard>=2.9.1->stable-baselines3[extra]>=2.0.0a4) (0.3.0)\n",
            "Requirement already satisfied: six>=1.9.0 in /usr/local/lib/python3.10/dist-packages (from google-auth<3,>=1.6.3->tensorboard>=2.9.1->stable-baselines3[extra]>=2.0.0a4) (1.16.0)\n",
            "Requirement already satisfied: rsa<5,>=3.1.4 in /usr/local/lib/python3.10/dist-packages (from google-auth<3,>=1.6.3->tensorboard>=2.9.1->stable-baselines3[extra]>=2.0.0a4) (4.9)\n",
            "Requirement already satisfied: requests-oauthlib>=0.7.0 in /usr/local/lib/python3.10/dist-packages (from google-auth-oauthlib<1.1,>=0.5->tensorboard>=2.9.1->stable-baselines3[extra]>=2.0.0a4) (1.3.1)\n",
            "Requirement already satisfied: mdurl~=0.1 in /usr/local/lib/python3.10/dist-packages (from markdown-it-py>=2.2.0->rich->stable-baselines3[extra]>=2.0.0a4) (0.1.2)\n",
            "Requirement already satisfied: charset-normalizer<4,>=2 in /usr/local/lib/python3.10/dist-packages (from requests->autorom[accept-rom-license]~=0.6.1->stable-baselines3[extra]>=2.0.0a4) (3.3.0)\n",
            "Requirement already satisfied: idna<4,>=2.5 in /usr/local/lib/python3.10/dist-packages (from requests->autorom[accept-rom-license]~=0.6.1->stable-baselines3[extra]>=2.0.0a4) (3.4)\n",
            "Requirement already satisfied: urllib3<3,>=1.21.1 in /usr/local/lib/python3.10/dist-packages (from requests->autorom[accept-rom-license]~=0.6.1->stable-baselines3[extra]>=2.0.0a4) (2.0.7)\n",
            "Requirement already satisfied: certifi>=2017.4.17 in /usr/local/lib/python3.10/dist-packages (from requests->autorom[accept-rom-license]~=0.6.1->stable-baselines3[extra]>=2.0.0a4) (2023.7.22)\n",
            "Requirement already satisfied: MarkupSafe>=2.1.1 in /usr/local/lib/python3.10/dist-packages (from werkzeug>=1.0.1->tensorboard>=2.9.1->stable-baselines3[extra]>=2.0.0a4) (2.1.3)\n",
            "Requirement already satisfied: mpmath>=0.19 in /usr/local/lib/python3.10/dist-packages (from sympy->torch>=1.13->stable-baselines3[extra]>=2.0.0a4) (1.3.0)\n",
            "Requirement already satisfied: pyasn1<0.6.0,>=0.4.6 in /usr/local/lib/python3.10/dist-packages (from pyasn1-modules>=0.2.1->google-auth<3,>=1.6.3->tensorboard>=2.9.1->stable-baselines3[extra]>=2.0.0a4) (0.5.0)\n",
            "Requirement already satisfied: oauthlib>=3.0.0 in /usr/local/lib/python3.10/dist-packages (from requests-oauthlib>=0.7.0->google-auth-oauthlib<1.1,>=0.5->tensorboard>=2.9.1->stable-baselines3[extra]>=2.0.0a4) (3.2.2)\n",
            "Building wheels for collected packages: AutoROM.accept-rom-license\n",
            "  Building wheel for AutoROM.accept-rom-license (pyproject.toml) ... \u001b[?25l\u001b[?25hdone\n",
            "  Created wheel for AutoROM.accept-rom-license: filename=AutoROM.accept_rom_license-0.6.1-py3-none-any.whl size=446660 sha256=d8b321ccd0a21589ee54eea1dacbb23d9786523ccb7280bf7391bc1ef495e768\n",
            "  Stored in directory: /root/.cache/pip/wheels/6b/1b/ef/a43ff1a2f1736d5711faa1ba4c1f61be1131b8899e6a057811\n",
            "Successfully built AutoROM.accept-rom-license\n",
            "Installing collected packages: farama-notifications, gymnasium, ale-py, shimmy, AutoROM.accept-rom-license, autorom, stable-baselines3\n",
            "Successfully installed AutoROM.accept-rom-license-0.6.1 ale-py-0.8.1 autorom-0.6.1 farama-notifications-0.0.4 gymnasium-0.29.1 shimmy-1.1.0 stable-baselines3-2.1.0\n"
          ]
        }
      ],
      "source": [
        "!apt-get update && apt-get install ffmpeg freeglut3-dev xvfb  # For visualization\n",
        "!pip install \"stable-baselines3[extra]>=2.0.0a4\""
      ]
    },
    {
      "cell_type": "code",
      "execution_count": null,
      "metadata": {
        "id": "U29X1-B-AIKE",
        "colab": {
          "base_uri": "https://localhost:8080/"
        },
        "outputId": "90021b32-c1e2-4b59-bbea-464a0b887986"
      },
      "outputs": [
        {
          "output_type": "stream",
          "name": "stdout",
          "text": [
            "stable_baselines3.__version__='2.1.0'\n"
          ]
        }
      ],
      "source": [
        "import stable_baselines3\n",
        "\n",
        "print(f\"{stable_baselines3.__version__=}\")"
      ]
    },
    {
      "cell_type": "markdown",
      "metadata": {
        "id": "FtY8FhliLsGm"
      },
      "source": [
        "## Imports"
      ]
    },
    {
      "cell_type": "markdown",
      "metadata": {
        "id": "gcX8hEcaUpR0"
      },
      "source": [
        "Stable-Baselines works on environments that follow the [gym interface](https://stable-baselines.readthedocs.io/en/master/guide/custom_env.html).\n",
        "You can find a list of available environment [here](https://gym.openai.com/envs/#classic_control).\n",
        "\n",
        "It is also recommended to check the [source code](https://github.com/openai/gym) to learn more about the observation and action space of each env, as gym does not have a proper documentation.\n",
        "Not all algorithms can work with all action spaces, you can find more in this [recap table](https://stable-baselines.readthedocs.io/en/master/guide/algos.html)"
      ]
    },
    {
      "cell_type": "code",
      "execution_count": null,
      "metadata": {
        "id": "BIedd7Pz9sOs",
        "colab": {
          "base_uri": "https://localhost:8080/"
        },
        "outputId": "4ef8c4b0-56f6-4ce9-8fbc-a3eb544432ba"
      },
      "outputs": [
        {
          "output_type": "stream",
          "name": "stdout",
          "text": [
            "gym.__version__='0.29.1'\n"
          ]
        }
      ],
      "source": [
        "import gymnasium as gym\n",
        "import numpy as np\n",
        "\n",
        "print(f\"{gym.__version__=}\")"
      ]
    },
    {
      "cell_type": "markdown",
      "metadata": {
        "id": "Ae32CtgzTG3R"
      },
      "source": [
        "The first thing you need to import is the RL model, check the documentation to know what you can use on which problem"
      ]
    },
    {
      "cell_type": "code",
      "execution_count": null,
      "metadata": {
        "id": "R7tKaBFrTR0a"
      },
      "outputs": [],
      "source": [
        "from stable_baselines3 import PPO"
      ]
    },
    {
      "cell_type": "markdown",
      "metadata": {
        "id": "-0_8OQbOTTNT"
      },
      "source": [
        "The next thing you need to import is the policy class that will be used to create the networks (for the policy/value functions).\n",
        "This step is optional as you can directly use strings in the constructor:\n",
        "\n",
        "```PPO('MlpPolicy', env)``` instead of ```PPO(MlpPolicy, env)```\n",
        "\n",
        "Note that some algorithms like `SAC` have their own `MlpPolicy`, that's why using string for the policy is the recommened option."
      ]
    },
    {
      "cell_type": "code",
      "execution_count": null,
      "metadata": {
        "id": "ROUJr675TT01"
      },
      "outputs": [],
      "source": [
        "from stable_baselines3.ppo import MlpPolicy"
      ]
    },
    {
      "cell_type": "markdown",
      "metadata": {
        "id": "RapkYvTXL7Cd"
      },
      "source": [
        "## Create the Gym env and instantiate the agent\n",
        "\n",
        "For this example, we will use CartPole environment, a classic control problem.\n",
        "\n",
        "\"A pole is attached by an un-actuated joint to a cart, which moves along a frictionless track. The system is controlled by applying a force of +1 or -1 to the cart. The pendulum starts upright, and the goal is to prevent it from falling over. A reward of +1 is provided for every timestep that the pole remains upright. \"\n",
        "\n",
        "Cartpole environment: [https://gymnasium.farama.org/environments/classic_control/cart_pole/](https://gymnasium.farama.org/environments/classic_control/cart_pole/)\n",
        "\n",
        "![Cartpole](https://cdn-images-1.medium.com/max/1143/1*h4WTQNVIsvMXJTCpXm_TAw.gif)\n",
        "\n",
        "Note: vectorized environments allow to easily multiprocess training. In this example, we are using only one process, hence the DummyVecEnv.\n",
        "\n",
        "We chose the MlpPolicy because input of CartPole is a feature vector, not images.\n",
        "\n",
        "The type of action to use (discrete/continuous) will be automatically deduced from the environment action space\n",
        "\n",
        "\n",
        "Here we are using the [Proximal Policy Optimization](https://stable-baselines.readthedocs.io/en/master/modules/ppo2.html) algorithm, which is an Actor-Critic method: it uses a value function to improve the policy gradient descent (by reducing the variance).\n",
        "\n",
        "It combines ideas from [A2C](https://stable-baselines.readthedocs.io/en/master/modules/a2c.html) (having multiple workers and using an entropy bonus for exploration) and [TRPO](https://stable-baselines.readthedocs.io/en/master/modules/trpo.html) (it uses a trust region to improve stability and avoid catastrophic drops in performance).\n",
        "\n",
        "PPO is an on-policy algorithm, which means that the trajectories used to update the networks must be collected using the latest policy.\n",
        "It is usually less sample efficient than off-policy alorithms like [DQN](https://stable-baselines.readthedocs.io/en/master/modules/dqn.html), [SAC](https://stable-baselines.readthedocs.io/en/master/modules/sac.html) or [TD3](https://stable-baselines.readthedocs.io/en/master/modules/td3.html), but is much faster regarding wall-clock time.\n"
      ]
    },
    {
      "cell_type": "code",
      "execution_count": 5,
      "metadata": {
        "id": "pUWGZp3i9wyf",
        "colab": {
          "base_uri": "https://localhost:8080/",
          "height": 197
        },
        "outputId": "b94143d1-71f3-4f3a-d680-eba410767f1d"
      },
      "outputs": [
        {
          "output_type": "error",
          "ename": "NameError",
          "evalue": "ignored",
          "traceback": [
            "\u001b[0;31m---------------------------------------------------------------------------\u001b[0m",
            "\u001b[0;31mNameError\u001b[0m                                 Traceback (most recent call last)",
            "\u001b[0;32m<ipython-input-5-93125fcfeaaf>\u001b[0m in \u001b[0;36m<cell line: 1>\u001b[0;34m()\u001b[0m\n\u001b[0;32m----> 1\u001b[0;31m \u001b[0menv\u001b[0m \u001b[0;34m=\u001b[0m \u001b[0mgym\u001b[0m\u001b[0;34m.\u001b[0m\u001b[0mmake\u001b[0m\u001b[0;34m(\u001b[0m\u001b[0;34m\"AtlantisDeterministic-v4\"\u001b[0m\u001b[0;34m,\u001b[0m \u001b[0mrender_mode\u001b[0m\u001b[0;34m=\u001b[0m\u001b[0;34m\"rgb_array\"\u001b[0m\u001b[0;34m)\u001b[0m\u001b[0;34m\u001b[0m\u001b[0;34m\u001b[0m\u001b[0m\n\u001b[0m\u001b[1;32m      2\u001b[0m \u001b[0mmodel\u001b[0m \u001b[0;34m=\u001b[0m \u001b[0mPPO\u001b[0m\u001b[0;34m(\u001b[0m\u001b[0mMlpPolicy\u001b[0m\u001b[0;34m,\u001b[0m \u001b[0menv\u001b[0m\u001b[0;34m,\u001b[0m \u001b[0mverbose\u001b[0m\u001b[0;34m=\u001b[0m\u001b[0;36m0\u001b[0m\u001b[0;34m)\u001b[0m\u001b[0;34m\u001b[0m\u001b[0;34m\u001b[0m\u001b[0m\n",
            "\u001b[0;31mNameError\u001b[0m: name 'gym' is not defined"
          ]
        }
      ],
      "source": [
        "env = gym.make(\"AtlantisDeterministic-v4\", render_mode=\"rgb_array\")\n",
        "model = PPO(MlpPolicy, env, verbose=0)"
      ]
    },
    {
      "cell_type": "markdown",
      "metadata": {
        "id": "4efFdrQ7MBvl"
      },
      "source": [
        "We create a helper function to evaluate the agent:"
      ]
    },
    {
      "cell_type": "code",
      "execution_count": null,
      "metadata": {
        "id": "63M8mSKR-6Zt"
      },
      "outputs": [],
      "source": [
        "def evaluate(model, num_episodes=100, deterministic=True):\n",
        "    \"\"\"\n",
        "    Evaluate a RL agent\n",
        "    :param model: (BaseRLModel object) the RL Agent\n",
        "    :param num_episodes: (int) number of episodes to evaluate it\n",
        "    :return: (float) Mean reward for the last num_episodes\n",
        "    \"\"\"\n",
        "    # This function will only work for a single Environment\n",
        "    vec_env = model.get_env()\n",
        "    all_episode_rewards = []\n",
        "    for i in range(num_episodes):\n",
        "        episode_rewards = []\n",
        "        done = False\n",
        "        obs = vec_env.reset()\n",
        "        while not done:\n",
        "            # _states are only useful when using LSTM policies\n",
        "            action, _states = model.predict(obs, deterministic=deterministic)\n",
        "            # here, action, rewards and dones are arrays\n",
        "            # because we are using vectorized env\n",
        "            # also note that the step only returns a 4-tuple, as the env that is returned\n",
        "            # by model.get_env() is an sb3 vecenv that wraps the >v0.26 API\n",
        "            obs, reward, done, info = vec_env.step(action)\n",
        "            episode_rewards.append(reward)\n",
        "\n",
        "        all_episode_rewards.append(sum(episode_rewards))\n",
        "\n",
        "    mean_episode_reward = np.mean(all_episode_rewards)\n",
        "    print(\"Mean reward:\", mean_episode_reward, \"Num episodes:\", num_episodes)\n",
        "\n",
        "    return mean_episode_reward"
      ]
    },
    {
      "cell_type": "markdown",
      "metadata": {
        "id": "6hkyafs--gJz"
      },
      "source": [
        "In fact, Stable-Baselines3 already provides you with that helper:"
      ]
    },
    {
      "cell_type": "code",
      "execution_count": 4,
      "metadata": {
        "id": "s6ZNldIR-fce",
        "colab": {
          "base_uri": "https://localhost:8080/",
          "height": 322
        },
        "outputId": "a023b0d7-18d1-4f29-9b1f-69b1dd435b04"
      },
      "outputs": [
        {
          "output_type": "error",
          "ename": "ModuleNotFoundError",
          "evalue": "ignored",
          "traceback": [
            "\u001b[0;31m---------------------------------------------------------------------------\u001b[0m",
            "\u001b[0;31mModuleNotFoundError\u001b[0m                       Traceback (most recent call last)",
            "\u001b[0;32m<ipython-input-4-166e99328775>\u001b[0m in \u001b[0;36m<cell line: 1>\u001b[0;34m()\u001b[0m\n\u001b[0;32m----> 1\u001b[0;31m \u001b[0;32mfrom\u001b[0m \u001b[0mstable_baselines3\u001b[0m\u001b[0;34m.\u001b[0m\u001b[0mcommon\u001b[0m\u001b[0;34m.\u001b[0m\u001b[0mevaluation\u001b[0m \u001b[0;32mimport\u001b[0m \u001b[0mevaluate_policy\u001b[0m\u001b[0;34m\u001b[0m\u001b[0;34m\u001b[0m\u001b[0m\n\u001b[0m",
            "\u001b[0;31mModuleNotFoundError\u001b[0m: No module named 'stable_baselines3'",
            "",
            "\u001b[0;31m---------------------------------------------------------------------------\u001b[0;32m\nNOTE: If your import is failing due to a missing package, you can\nmanually install dependencies using either !pip or !apt.\n\nTo view examples of installing some common dependencies, click the\n\"Open Examples\" button below.\n\u001b[0;31m---------------------------------------------------------------------------\u001b[0m\n"
          ],
          "errorDetails": {
            "actions": [
              {
                "action": "open_url",
                "actionText": "Open Examples",
                "url": "/notebooks/snippets/importing_libraries.ipynb"
              }
            ]
          }
        }
      ],
      "source": [
        "from stable_baselines3.common.evaluation import evaluate_policy"
      ]
    },
    {
      "cell_type": "markdown",
      "metadata": {
        "id": "zjEVOIY8NVeK"
      },
      "source": [
        "Let's evaluate the un-trained agent, this should be a random agent."
      ]
    },
    {
      "cell_type": "code",
      "execution_count": 3,
      "metadata": {
        "id": "xDHLMA6NFk95",
        "colab": {
          "base_uri": "https://localhost:8080/",
          "height": 250
        },
        "outputId": "e896cc8c-fa43-444e-86d8-e8b4c7c9381b"
      },
      "outputs": [
        {
          "output_type": "error",
          "ename": "NameError",
          "evalue": "ignored",
          "traceback": [
            "\u001b[0;31m---------------------------------------------------------------------------\u001b[0m",
            "\u001b[0;31mNameError\u001b[0m                                 Traceback (most recent call last)",
            "\u001b[0;32m<ipython-input-3-1e6ce0ee5216>\u001b[0m in \u001b[0;36m<cell line: 2>\u001b[0;34m()\u001b[0m\n\u001b[1;32m      1\u001b[0m \u001b[0;31m# Use a separate environement for evaluation\u001b[0m\u001b[0;34m\u001b[0m\u001b[0;34m\u001b[0m\u001b[0m\n\u001b[0;32m----> 2\u001b[0;31m \u001b[0meval_env\u001b[0m \u001b[0;34m=\u001b[0m \u001b[0mgym\u001b[0m\u001b[0;34m.\u001b[0m\u001b[0mmake\u001b[0m\u001b[0;34m(\u001b[0m\u001b[0;34m\"AtlantisDeterministic-v4\"\u001b[0m\u001b[0;34m,\u001b[0m \u001b[0mrender_mode\u001b[0m\u001b[0;34m=\u001b[0m\u001b[0;34m\"rgb_array\"\u001b[0m\u001b[0;34m)\u001b[0m\u001b[0;34m\u001b[0m\u001b[0;34m\u001b[0m\u001b[0m\n\u001b[0m\u001b[1;32m      3\u001b[0m \u001b[0;34m\u001b[0m\u001b[0m\n\u001b[1;32m      4\u001b[0m \u001b[0;31m# Random Agent, before training\u001b[0m\u001b[0;34m\u001b[0m\u001b[0;34m\u001b[0m\u001b[0m\n\u001b[1;32m      5\u001b[0m \u001b[0mmean_reward\u001b[0m\u001b[0;34m,\u001b[0m \u001b[0mstd_reward\u001b[0m \u001b[0;34m=\u001b[0m \u001b[0mevaluate_policy\u001b[0m\u001b[0;34m(\u001b[0m\u001b[0mmodel\u001b[0m\u001b[0;34m,\u001b[0m \u001b[0meval_env\u001b[0m\u001b[0;34m,\u001b[0m \u001b[0mn_eval_episodes\u001b[0m\u001b[0;34m=\u001b[0m\u001b[0;36m100\u001b[0m\u001b[0;34m)\u001b[0m\u001b[0;34m\u001b[0m\u001b[0;34m\u001b[0m\u001b[0m\n",
            "\u001b[0;31mNameError\u001b[0m: name 'gym' is not defined"
          ]
        }
      ],
      "source": [
        "# Use a separate environement for evaluation\n",
        "eval_env = gym.make(\"AtlantisDeterministic-v4\", render_mode=\"rgb_array\")\n",
        "\n",
        "# Random Agent, before training\n",
        "mean_reward, std_reward = evaluate_policy(model, eval_env, n_eval_episodes=100)\n",
        "\n",
        "print(f\"mean_reward:{mean_reward:.2f} +/- {std_reward:.2f}\")"
      ]
    },
    {
      "cell_type": "markdown",
      "metadata": {
        "id": "r5UoXTZPNdFE"
      },
      "source": [
        "## Train the agent and evaluate it"
      ]
    },
    {
      "cell_type": "code",
      "execution_count": null,
      "metadata": {
        "id": "e4cfSXIB-pTF",
        "colab": {
          "base_uri": "https://localhost:8080/",
          "height": 346
        },
        "outputId": "6343d4a1-e2e9-489e-bb72-72bafa6ba747"
      },
      "outputs": [
        {
          "output_type": "error",
          "ename": "KeyboardInterrupt",
          "evalue": "ignored",
          "traceback": [
            "\u001b[0;31m---------------------------------------------------------------------------\u001b[0m",
            "\u001b[0;31mKeyboardInterrupt\u001b[0m                         Traceback (most recent call last)",
            "\u001b[0;32m<ipython-input-43-2854c059393c>\u001b[0m in \u001b[0;36m<cell line: 2>\u001b[0;34m()\u001b[0m\n\u001b[1;32m      1\u001b[0m \u001b[0;31m# Train the agent for 10000 steps\u001b[0m\u001b[0;34m\u001b[0m\u001b[0;34m\u001b[0m\u001b[0m\n\u001b[0;32m----> 2\u001b[0;31m \u001b[0mmodel\u001b[0m\u001b[0;34m.\u001b[0m\u001b[0mlearn\u001b[0m\u001b[0;34m(\u001b[0m\u001b[0mtotal_timesteps\u001b[0m\u001b[0;34m=\u001b[0m\u001b[0;36m10_000\u001b[0m\u001b[0;34m)\u001b[0m\u001b[0;34m\u001b[0m\u001b[0;34m\u001b[0m\u001b[0m\n\u001b[0m",
            "\u001b[0;32m/usr/local/lib/python3.10/dist-packages/stable_baselines3/ppo/ppo.py\u001b[0m in \u001b[0;36mlearn\u001b[0;34m(self, total_timesteps, callback, log_interval, tb_log_name, reset_num_timesteps, progress_bar)\u001b[0m\n\u001b[1;32m    306\u001b[0m         \u001b[0mprogress_bar\u001b[0m\u001b[0;34m:\u001b[0m \u001b[0mbool\u001b[0m \u001b[0;34m=\u001b[0m \u001b[0;32mFalse\u001b[0m\u001b[0;34m,\u001b[0m\u001b[0;34m\u001b[0m\u001b[0;34m\u001b[0m\u001b[0m\n\u001b[1;32m    307\u001b[0m     ) -> SelfPPO:\n\u001b[0;32m--> 308\u001b[0;31m         return super().learn(\n\u001b[0m\u001b[1;32m    309\u001b[0m             \u001b[0mtotal_timesteps\u001b[0m\u001b[0;34m=\u001b[0m\u001b[0mtotal_timesteps\u001b[0m\u001b[0;34m,\u001b[0m\u001b[0;34m\u001b[0m\u001b[0;34m\u001b[0m\u001b[0m\n\u001b[1;32m    310\u001b[0m             \u001b[0mcallback\u001b[0m\u001b[0;34m=\u001b[0m\u001b[0mcallback\u001b[0m\u001b[0;34m,\u001b[0m\u001b[0;34m\u001b[0m\u001b[0;34m\u001b[0m\u001b[0m\n",
            "\u001b[0;32m/usr/local/lib/python3.10/dist-packages/stable_baselines3/common/on_policy_algorithm.py\u001b[0m in \u001b[0;36mlearn\u001b[0;34m(self, total_timesteps, callback, log_interval, tb_log_name, reset_num_timesteps, progress_bar)\u001b[0m\n\u001b[1;32m    257\u001b[0m \u001b[0;34m\u001b[0m\u001b[0m\n\u001b[1;32m    258\u001b[0m         \u001b[0;32mwhile\u001b[0m \u001b[0mself\u001b[0m\u001b[0;34m.\u001b[0m\u001b[0mnum_timesteps\u001b[0m \u001b[0;34m<\u001b[0m \u001b[0mtotal_timesteps\u001b[0m\u001b[0;34m:\u001b[0m\u001b[0;34m\u001b[0m\u001b[0;34m\u001b[0m\u001b[0m\n\u001b[0;32m--> 259\u001b[0;31m             \u001b[0mcontinue_training\u001b[0m \u001b[0;34m=\u001b[0m \u001b[0mself\u001b[0m\u001b[0;34m.\u001b[0m\u001b[0mcollect_rollouts\u001b[0m\u001b[0;34m(\u001b[0m\u001b[0mself\u001b[0m\u001b[0;34m.\u001b[0m\u001b[0menv\u001b[0m\u001b[0;34m,\u001b[0m \u001b[0mcallback\u001b[0m\u001b[0;34m,\u001b[0m \u001b[0mself\u001b[0m\u001b[0;34m.\u001b[0m\u001b[0mrollout_buffer\u001b[0m\u001b[0;34m,\u001b[0m \u001b[0mn_rollout_steps\u001b[0m\u001b[0;34m=\u001b[0m\u001b[0mself\u001b[0m\u001b[0;34m.\u001b[0m\u001b[0mn_steps\u001b[0m\u001b[0;34m)\u001b[0m\u001b[0;34m\u001b[0m\u001b[0;34m\u001b[0m\u001b[0m\n\u001b[0m\u001b[1;32m    260\u001b[0m \u001b[0;34m\u001b[0m\u001b[0m\n\u001b[1;32m    261\u001b[0m             \u001b[0;32mif\u001b[0m \u001b[0mcontinue_training\u001b[0m \u001b[0;32mis\u001b[0m \u001b[0;32mFalse\u001b[0m\u001b[0;34m:\u001b[0m\u001b[0;34m\u001b[0m\u001b[0;34m\u001b[0m\u001b[0m\n",
            "\u001b[0;32m/usr/local/lib/python3.10/dist-packages/stable_baselines3/common/on_policy_algorithm.py\u001b[0m in \u001b[0;36mcollect_rollouts\u001b[0;34m(self, env, callback, rollout_buffer, n_rollout_steps)\u001b[0m\n\u001b[1;32m    167\u001b[0m                 \u001b[0;31m# Convert to pytorch tensor or to TensorDict\u001b[0m\u001b[0;34m\u001b[0m\u001b[0;34m\u001b[0m\u001b[0m\n\u001b[1;32m    168\u001b[0m                 \u001b[0mobs_tensor\u001b[0m \u001b[0;34m=\u001b[0m \u001b[0mobs_as_tensor\u001b[0m\u001b[0;34m(\u001b[0m\u001b[0mself\u001b[0m\u001b[0;34m.\u001b[0m\u001b[0m_last_obs\u001b[0m\u001b[0;34m,\u001b[0m \u001b[0mself\u001b[0m\u001b[0;34m.\u001b[0m\u001b[0mdevice\u001b[0m\u001b[0;34m)\u001b[0m\u001b[0;34m\u001b[0m\u001b[0;34m\u001b[0m\u001b[0m\n\u001b[0;32m--> 169\u001b[0;31m                 \u001b[0mactions\u001b[0m\u001b[0;34m,\u001b[0m \u001b[0mvalues\u001b[0m\u001b[0;34m,\u001b[0m \u001b[0mlog_probs\u001b[0m \u001b[0;34m=\u001b[0m \u001b[0mself\u001b[0m\u001b[0;34m.\u001b[0m\u001b[0mpolicy\u001b[0m\u001b[0;34m(\u001b[0m\u001b[0mobs_tensor\u001b[0m\u001b[0;34m)\u001b[0m\u001b[0;34m\u001b[0m\u001b[0;34m\u001b[0m\u001b[0m\n\u001b[0m\u001b[1;32m    170\u001b[0m             \u001b[0mactions\u001b[0m \u001b[0;34m=\u001b[0m \u001b[0mactions\u001b[0m\u001b[0;34m.\u001b[0m\u001b[0mcpu\u001b[0m\u001b[0;34m(\u001b[0m\u001b[0;34m)\u001b[0m\u001b[0;34m.\u001b[0m\u001b[0mnumpy\u001b[0m\u001b[0;34m(\u001b[0m\u001b[0;34m)\u001b[0m\u001b[0;34m\u001b[0m\u001b[0;34m\u001b[0m\u001b[0m\n\u001b[1;32m    171\u001b[0m \u001b[0;34m\u001b[0m\u001b[0m\n",
            "\u001b[0;32m/usr/local/lib/python3.10/dist-packages/torch/nn/modules/module.py\u001b[0m in \u001b[0;36m_wrapped_call_impl\u001b[0;34m(self, *args, **kwargs)\u001b[0m\n\u001b[1;32m   1516\u001b[0m             \u001b[0;32mreturn\u001b[0m \u001b[0mself\u001b[0m\u001b[0;34m.\u001b[0m\u001b[0m_compiled_call_impl\u001b[0m\u001b[0;34m(\u001b[0m\u001b[0;34m*\u001b[0m\u001b[0margs\u001b[0m\u001b[0;34m,\u001b[0m \u001b[0;34m**\u001b[0m\u001b[0mkwargs\u001b[0m\u001b[0;34m)\u001b[0m  \u001b[0;31m# type: ignore[misc]\u001b[0m\u001b[0;34m\u001b[0m\u001b[0;34m\u001b[0m\u001b[0m\n\u001b[1;32m   1517\u001b[0m         \u001b[0;32melse\u001b[0m\u001b[0;34m:\u001b[0m\u001b[0;34m\u001b[0m\u001b[0;34m\u001b[0m\u001b[0m\n\u001b[0;32m-> 1518\u001b[0;31m             \u001b[0;32mreturn\u001b[0m \u001b[0mself\u001b[0m\u001b[0;34m.\u001b[0m\u001b[0m_call_impl\u001b[0m\u001b[0;34m(\u001b[0m\u001b[0;34m*\u001b[0m\u001b[0margs\u001b[0m\u001b[0;34m,\u001b[0m \u001b[0;34m**\u001b[0m\u001b[0mkwargs\u001b[0m\u001b[0;34m)\u001b[0m\u001b[0;34m\u001b[0m\u001b[0;34m\u001b[0m\u001b[0m\n\u001b[0m\u001b[1;32m   1519\u001b[0m \u001b[0;34m\u001b[0m\u001b[0m\n\u001b[1;32m   1520\u001b[0m     \u001b[0;32mdef\u001b[0m \u001b[0m_call_impl\u001b[0m\u001b[0;34m(\u001b[0m\u001b[0mself\u001b[0m\u001b[0;34m,\u001b[0m \u001b[0;34m*\u001b[0m\u001b[0margs\u001b[0m\u001b[0;34m,\u001b[0m \u001b[0;34m**\u001b[0m\u001b[0mkwargs\u001b[0m\u001b[0;34m)\u001b[0m\u001b[0;34m:\u001b[0m\u001b[0;34m\u001b[0m\u001b[0;34m\u001b[0m\u001b[0m\n",
            "\u001b[0;32m/usr/local/lib/python3.10/dist-packages/torch/nn/modules/module.py\u001b[0m in \u001b[0;36m_call_impl\u001b[0;34m(self, *args, **kwargs)\u001b[0m\n\u001b[1;32m   1525\u001b[0m                 \u001b[0;32mor\u001b[0m \u001b[0m_global_backward_pre_hooks\u001b[0m \u001b[0;32mor\u001b[0m \u001b[0m_global_backward_hooks\u001b[0m\u001b[0;34m\u001b[0m\u001b[0;34m\u001b[0m\u001b[0m\n\u001b[1;32m   1526\u001b[0m                 or _global_forward_hooks or _global_forward_pre_hooks):\n\u001b[0;32m-> 1527\u001b[0;31m             \u001b[0;32mreturn\u001b[0m \u001b[0mforward_call\u001b[0m\u001b[0;34m(\u001b[0m\u001b[0;34m*\u001b[0m\u001b[0margs\u001b[0m\u001b[0;34m,\u001b[0m \u001b[0;34m**\u001b[0m\u001b[0mkwargs\u001b[0m\u001b[0;34m)\u001b[0m\u001b[0;34m\u001b[0m\u001b[0;34m\u001b[0m\u001b[0m\n\u001b[0m\u001b[1;32m   1528\u001b[0m \u001b[0;34m\u001b[0m\u001b[0m\n\u001b[1;32m   1529\u001b[0m         \u001b[0;32mtry\u001b[0m\u001b[0;34m:\u001b[0m\u001b[0;34m\u001b[0m\u001b[0;34m\u001b[0m\u001b[0m\n",
            "\u001b[0;32m/usr/local/lib/python3.10/dist-packages/stable_baselines3/common/policies.py\u001b[0m in \u001b[0;36mforward\u001b[0;34m(self, obs, deterministic)\u001b[0m\n\u001b[1;32m    615\u001b[0m         \"\"\"\n\u001b[1;32m    616\u001b[0m         \u001b[0;31m# Preprocess the observation if needed\u001b[0m\u001b[0;34m\u001b[0m\u001b[0;34m\u001b[0m\u001b[0m\n\u001b[0;32m--> 617\u001b[0;31m         \u001b[0mfeatures\u001b[0m \u001b[0;34m=\u001b[0m \u001b[0mself\u001b[0m\u001b[0;34m.\u001b[0m\u001b[0mextract_features\u001b[0m\u001b[0;34m(\u001b[0m\u001b[0mobs\u001b[0m\u001b[0;34m)\u001b[0m\u001b[0;34m\u001b[0m\u001b[0;34m\u001b[0m\u001b[0m\n\u001b[0m\u001b[1;32m    618\u001b[0m         \u001b[0;32mif\u001b[0m \u001b[0mself\u001b[0m\u001b[0;34m.\u001b[0m\u001b[0mshare_features_extractor\u001b[0m\u001b[0;34m:\u001b[0m\u001b[0;34m\u001b[0m\u001b[0;34m\u001b[0m\u001b[0m\n\u001b[1;32m    619\u001b[0m             \u001b[0mlatent_pi\u001b[0m\u001b[0;34m,\u001b[0m \u001b[0mlatent_vf\u001b[0m \u001b[0;34m=\u001b[0m \u001b[0mself\u001b[0m\u001b[0;34m.\u001b[0m\u001b[0mmlp_extractor\u001b[0m\u001b[0;34m(\u001b[0m\u001b[0mfeatures\u001b[0m\u001b[0;34m)\u001b[0m\u001b[0;34m\u001b[0m\u001b[0;34m\u001b[0m\u001b[0m\n",
            "\u001b[0;32m/usr/local/lib/python3.10/dist-packages/stable_baselines3/common/policies.py\u001b[0m in \u001b[0;36mextract_features\u001b[0;34m(self, obs)\u001b[0m\n\u001b[1;32m    638\u001b[0m         \"\"\"\n\u001b[1;32m    639\u001b[0m         \u001b[0;32mif\u001b[0m \u001b[0mself\u001b[0m\u001b[0;34m.\u001b[0m\u001b[0mshare_features_extractor\u001b[0m\u001b[0;34m:\u001b[0m\u001b[0;34m\u001b[0m\u001b[0;34m\u001b[0m\u001b[0m\n\u001b[0;32m--> 640\u001b[0;31m             \u001b[0;32mreturn\u001b[0m \u001b[0msuper\u001b[0m\u001b[0;34m(\u001b[0m\u001b[0;34m)\u001b[0m\u001b[0;34m.\u001b[0m\u001b[0mextract_features\u001b[0m\u001b[0;34m(\u001b[0m\u001b[0mobs\u001b[0m\u001b[0;34m,\u001b[0m \u001b[0mself\u001b[0m\u001b[0;34m.\u001b[0m\u001b[0mfeatures_extractor\u001b[0m\u001b[0;34m)\u001b[0m\u001b[0;34m\u001b[0m\u001b[0;34m\u001b[0m\u001b[0m\n\u001b[0m\u001b[1;32m    641\u001b[0m         \u001b[0;32melse\u001b[0m\u001b[0;34m:\u001b[0m\u001b[0;34m\u001b[0m\u001b[0;34m\u001b[0m\u001b[0m\n\u001b[1;32m    642\u001b[0m             \u001b[0mpi_features\u001b[0m \u001b[0;34m=\u001b[0m \u001b[0msuper\u001b[0m\u001b[0;34m(\u001b[0m\u001b[0;34m)\u001b[0m\u001b[0;34m.\u001b[0m\u001b[0mextract_features\u001b[0m\u001b[0;34m(\u001b[0m\u001b[0mobs\u001b[0m\u001b[0;34m,\u001b[0m \u001b[0mself\u001b[0m\u001b[0;34m.\u001b[0m\u001b[0mpi_features_extractor\u001b[0m\u001b[0;34m)\u001b[0m\u001b[0;34m\u001b[0m\u001b[0;34m\u001b[0m\u001b[0m\n",
            "\u001b[0;32m/usr/local/lib/python3.10/dist-packages/stable_baselines3/common/policies.py\u001b[0m in \u001b[0;36mextract_features\u001b[0;34m(self, obs, features_extractor)\u001b[0m\n\u001b[1;32m    128\u001b[0m          \u001b[0;34m:\u001b[0m\u001b[0;32mreturn\u001b[0m\u001b[0;34m:\u001b[0m \u001b[0mThe\u001b[0m \u001b[0mextracted\u001b[0m \u001b[0mfeatures\u001b[0m\u001b[0;34m\u001b[0m\u001b[0;34m\u001b[0m\u001b[0m\n\u001b[1;32m    129\u001b[0m         \"\"\"\n\u001b[0;32m--> 130\u001b[0;31m         \u001b[0mpreprocessed_obs\u001b[0m \u001b[0;34m=\u001b[0m \u001b[0mpreprocess_obs\u001b[0m\u001b[0;34m(\u001b[0m\u001b[0mobs\u001b[0m\u001b[0;34m,\u001b[0m \u001b[0mself\u001b[0m\u001b[0;34m.\u001b[0m\u001b[0mobservation_space\u001b[0m\u001b[0;34m,\u001b[0m \u001b[0mnormalize_images\u001b[0m\u001b[0;34m=\u001b[0m\u001b[0mself\u001b[0m\u001b[0;34m.\u001b[0m\u001b[0mnormalize_images\u001b[0m\u001b[0;34m)\u001b[0m\u001b[0;34m\u001b[0m\u001b[0;34m\u001b[0m\u001b[0m\n\u001b[0m\u001b[1;32m    131\u001b[0m         \u001b[0;32mreturn\u001b[0m \u001b[0mfeatures_extractor\u001b[0m\u001b[0;34m(\u001b[0m\u001b[0mpreprocessed_obs\u001b[0m\u001b[0;34m)\u001b[0m\u001b[0;34m\u001b[0m\u001b[0;34m\u001b[0m\u001b[0m\n\u001b[1;32m    132\u001b[0m \u001b[0;34m\u001b[0m\u001b[0m\n",
            "\u001b[0;31mKeyboardInterrupt\u001b[0m: "
          ]
        }
      ],
      "source": [
        "# Train the agent for 10000 steps\n",
        "model.learn(total_timesteps=10_000)"
      ]
    },
    {
      "cell_type": "code",
      "execution_count": null,
      "metadata": {
        "id": "ygl_gVmV_QP7",
        "colab": {
          "base_uri": "https://localhost:8080/"
        },
        "outputId": "e3f87a1f-733f-4b22-8a48-89b11b46f81a"
      },
      "outputs": [
        {
          "output_type": "stream",
          "name": "stdout",
          "text": [
            "mean_reward:2000.00 +/- 0.00\n"
          ]
        }
      ],
      "source": [
        "# Evaluate the trained agent\n",
        "mean_reward, std_reward = evaluate_policy(model, eval_env, n_eval_episodes=100)\n",
        "\n",
        "print(f\"mean_reward:{mean_reward:.2f} +/- {std_reward:.2f}\")"
      ]
    },
    {
      "cell_type": "markdown",
      "metadata": {
        "id": "A00W6yY3NkHG"
      },
      "source": [
        "Apparently the training went well, the mean reward increased a lot !"
      ]
    },
    {
      "cell_type": "markdown",
      "metadata": {
        "id": "xVm9QPNVwKXN"
      },
      "source": [
        "### Prepare video recording"
      ]
    },
    {
      "cell_type": "code",
      "execution_count": null,
      "metadata": {
        "id": "MPyfQxD5z26J"
      },
      "outputs": [],
      "source": [
        "# Set up fake display; otherwise rendering will fail\n",
        "import os\n",
        "os.system(\"Xvfb :1 -screen 0 1024x768x24 &\")\n",
        "os.environ['DISPLAY'] = ':1'"
      ]
    },
    {
      "cell_type": "code",
      "execution_count": null,
      "metadata": {
        "id": "SLzXxO8VMD6N"
      },
      "outputs": [],
      "source": [
        "import base64\n",
        "from pathlib import Path\n",
        "\n",
        "from IPython import display as ipythondisplay\n",
        "\n",
        "\n",
        "def show_videos(video_path=\"\", prefix=\"\"):\n",
        "    \"\"\"\n",
        "    Taken from https://github.com/eleurent/highway-env\n",
        "\n",
        "    :param video_path: (str) Path to the folder containing videos\n",
        "    :param prefix: (str) Filter the video, showing only the only starting with this prefix\n",
        "    \"\"\"\n",
        "    html = []\n",
        "    for mp4 in Path(video_path).glob(\"{}*.mp4\".format(prefix)):\n",
        "        video_b64 = base64.b64encode(mp4.read_bytes())\n",
        "        html.append(\n",
        "            \"\"\"<video alt=\"{}\" autoplay\n",
        "                    loop controls style=\"height: 400px;\">\n",
        "                    <source src=\"data:video/mp4;base64,{}\" type=\"video/mp4\" />\n",
        "                </video>\"\"\".format(\n",
        "                mp4, video_b64.decode(\"ascii\")\n",
        "            )\n",
        "        )\n",
        "    ipythondisplay.display(ipythondisplay.HTML(data=\"<br>\".join(html)))"
      ]
    },
    {
      "cell_type": "markdown",
      "metadata": {
        "id": "LTRNUfulOGaF"
      },
      "source": [
        "We will record a video using the [VecVideoRecorder](https://stable-baselines.readthedocs.io/en/master/guide/vec_envs.html#vecvideorecorder) wrapper, you will learn about those wrapper in the next notebook."
      ]
    },
    {
      "cell_type": "code",
      "execution_count": null,
      "metadata": {
        "id": "Trag9dQpOIhx"
      },
      "outputs": [],
      "source": [
        "from stable_baselines3.common.vec_env import VecVideoRecorder, DummyVecEnv\n",
        "\n",
        "\n",
        "def record_video(env_id, model, video_length=500, prefix=\"\", video_folder=\"videos/\"):\n",
        "    \"\"\"\n",
        "    :param env_id: (str)\n",
        "    :param model: (RL model)\n",
        "    :param video_length: (int)\n",
        "    :param prefix: (str)\n",
        "    :param video_folder: (str)\n",
        "    \"\"\"\n",
        "    eval_env = DummyVecEnv([lambda: gym.make(\"AtlantisDeterministic-v4\", render_mode=\"rgb_array\")])\n",
        "    # Start the video at step=0 and record 500 steps\n",
        "    eval_env = VecVideoRecorder(\n",
        "        eval_env,\n",
        "        video_folder=video_folder,\n",
        "        record_video_trigger=lambda step: step == 0,\n",
        "        video_length=video_length,\n",
        "        name_prefix=prefix,\n",
        "    )\n",
        "\n",
        "    obs = eval_env.reset()\n",
        "    for _ in range(video_length):\n",
        "        action, _ = model.predict(obs)\n",
        "        obs, _, _, _ = eval_env.step(action)\n",
        "\n",
        "    # Close the video recorder\n",
        "    eval_env.close()"
      ]
    },
    {
      "cell_type": "markdown",
      "metadata": {
        "id": "KOObbeu5MMlR"
      },
      "source": [
        "### Visualize trained agent\n",
        "\n"
      ]
    },
    {
      "cell_type": "code",
      "execution_count": null,
      "metadata": {
        "id": "iATu7AiyMQW2",
        "colab": {
          "base_uri": "https://localhost:8080/"
        },
        "outputId": "18e9a0b6-e4d2-4f9f-c024-3b9def759a19"
      },
      "outputs": [
        {
          "output_type": "stream",
          "name": "stderr",
          "text": [
            "/usr/local/lib/python3.10/dist-packages/gymnasium/utils/passive_env_checker.py:335: UserWarning: \u001b[33mWARN: No render fps was declared in the environment (env.metadata['render_fps'] is None or not defined), rendering may occur at inconsistent fps.\u001b[0m\n",
            "  logger.warn(\n"
          ]
        },
        {
          "output_type": "stream",
          "name": "stdout",
          "text": [
            "Saving video to /content/videos/ppo-cartpole-step-0-to-step-500.mp4\n",
            "Moviepy - Building video /content/videos/ppo-cartpole-step-0-to-step-500.mp4.\n",
            "Moviepy - Writing video /content/videos/ppo-cartpole-step-0-to-step-500.mp4\n",
            "\n"
          ]
        },
        {
          "output_type": "stream",
          "name": "stderr",
          "text": []
        },
        {
          "output_type": "stream",
          "name": "stdout",
          "text": [
            "Moviepy - Done !\n",
            "Moviepy - video ready /content/videos/ppo-cartpole-step-0-to-step-500.mp4\n"
          ]
        }
      ],
      "source": [
        "record_video(\"AtlantisDeterministic-v4\", model, video_length=500, prefix=\"ppo-cartpole\")"
      ]
    },
    {
      "cell_type": "code",
      "execution_count": null,
      "metadata": {
        "id": "-n4i-fW3NojZ",
        "colab": {
          "base_uri": "https://localhost:8080/",
          "height": 421
        },
        "outputId": "52c16315-2bf3-4f07-bf63-57374fc137ee"
      },
      "outputs": [
        {
          "output_type": "display_data",
          "data": {
            "text/plain": [
              "<IPython.core.display.HTML object>"
            ],
            "text/html": [
              "<video alt=\"videos/ppo-cartpole-step-0-to-step-500.mp4\" autoplay\n",
              "                    loop controls style=\"height: 400px;\">\n",
              "                    <source src=\"data:video/mp4;base64,AAAAIGZ0eXBpc29tAAACAGlzb21pc28yYXZjMW1wNDEAAAAIZnJlZQAA8zVtZGF0AAACrgYF//+q3EXpvebZSLeWLNgg2SPu73gyNjQgLSBjb3JlIDE1OSByMjk5MSAxNzcxYjU1IC0gSC4yNjQvTVBFRy00IEFWQyBjb2RlYyAtIENvcHlsZWZ0IDIwMDMtMjAxOSAtIGh0dHA6Ly93d3cudmlkZW9sYW4ub3JnL3gyNjQuaHRtbCAtIG9wdGlvbnM6IGNhYmFjPTEgcmVmPTMgZGVibG9jaz0xOjA6MCBhbmFseXNlPTB4MzoweDExMyBtZT1oZXggc3VibWU9NyBwc3k9MSBwc3lfcmQ9MS4wMDowLjAwIG1peGVkX3JlZj0xIG1lX3JhbmdlPTE2IGNocm9tYV9tZT0xIHRyZWxsaXM9MSA4eDhkY3Q9MSBjcW09MCBkZWFkem9uZT0yMSwxMSBmYXN0X3Bza2lwPTEgY2hyb21hX3FwX29mZnNldD0tMiB0aHJlYWRzPTMgbG9va2FoZWFkX3RocmVhZHM9MSBzbGljZWRfdGhyZWFkcz0wIG5yPTAgZGVjaW1hdGU9MSBpbnRlcmxhY2VkPTAgYmx1cmF5X2NvbXBhdD0wIGNvbnN0cmFpbmVkX2ludHJhPTAgYmZyYW1lcz0zIGJfcHlyYW1pZD0yIGJfYWRhcHQ9MSBiX2JpYXM9MCBkaXJlY3Q9MSB3ZWlnaHRiPTEgb3Blbl9nb3A9MCB3ZWlnaHRwPTIga2V5aW50PTI1MCBrZXlpbnRfbWluPTI1IHNjZW5lY3V0PTQwIGludHJhX3JlZnJlc2g9MCByY19sb29rYWhlYWQ9NDAgcmM9Y3JmIG1idHJlZT0xIGNyZj0yMy4wIHFjb21wPTAuNjAgcXBtaW49MCBxcG1heD02OSBxcHN0ZXA9NCBpcF9yYXRpbz0xLjQwIGFxPTE6MS4wMACAAAAGvWWIhAA3//728P4FNlYEUJcRzeidMx+/Fbi9ZlgTzg8Y4vPABb9rmai4RJHxhwdqfC5tLNa6K7gdm2EkNjHrjmppw64mnkPQXiZS22MzCXZFFKFhLM1wl9fJZ1eHjEeB9imWSea/Zlh/a9fS3oKRWJNap+97sdxI5SR01px7g7QMYOpEBAMMrW5xe+pzEtkLxsAVRu/pn33AARcCsZt8eV3yVNRSezx9Nqv+wLK8AW30O61wVdY+39XhaiiXo47wT4yJJuN13d/uqk0IAhldZh3JMxecCyzN2TPOggdgmmI51tohBAnK0qLBlkWYWtA5xaLWP/bV699MoIgVO4pu1vWiLWdX2cx/tY230osx/Y/MdL+ICRR33h7U+S16IiOHgqPabI1grLbssK6jXolOslH9n8tj/DCT7VBlpGSY1T58bu/MXo8X92WUl49LpQEmFLK6etPzc8uJF+JRSMu4KbVLA28j3sHwuRzuQ64JJJehnsZEj/R/lWtcHvX6vDdngtbueAl5HRCHYwNoFJewBR/K3wvHGH1D7pyp0BsJuAFTTPL2kyCdSyxM7LWTTp0geff3Wown8sjlDv0MmhVnvQrxxMDZXVSfFE1aJ0Kb3vchxmc4vafWxmqrsYzgNaOmb8vo4A9yDHhZI8tEcoZ7yrkDZcrWUrBORBGj714hB+duw+a9udfaODO52C3niY07+/mFs303jMp2ZwOiNp3/rBR4yL5ET8j69y4P95Mi7inWdkFPjH4395dBPNLYoDV/0HIH26h7z9HM3H+QfhYWZJryUYjrs5/0UOFIZagesZ153g3XDAUlJZ3SIAPfatllelANXSjaQ4qUseq8pXo9pJn32+7+FxTnioWRAYkv46EZXb0JkxoObB8mbPEZb9lORymPETjqtSEW7Mb1CUi0ezrA+iUyYbwZZlBxHZUWhz6jPEQuh6tAqVuBznEvwe4ETg+/taKKZkHv1WkrGacdOMFHunzJQSU0und23P9nXRGsbZOJVCS0ompCgKwOpXdCcmqT8AZcsoM6orKKSxKaRJd2G1zN3NhZGqGNYtJtr4f3wwu3mdF9uUZxkUI5bJAms21v5/mN7LHCsIZfdqDwkVWtamEEYTSscKRpzRdmEEVXQ9ZevnVULi3ebAUUyQmm8xbFzUgQeSrLIBww1Y5gufoJ2NhTTDW//3yKOYEZdw7PbW3oKAw40T4+oXV/WXuJHzPI8BkTWE1op+NbAMnn60konhTcZvNrMYxTLPtgHxQFQacyXAypIpb+auGy7LGlC+CHg8FjMhPGVE7QzXDtTU/y35PKRbjBpRHwDqiWG9JYfyMKb0m/Ozw3OUqPnQWnOIxTTsS0w/aFyFGiIz/O4jJBQmOnbeH/FAAEiRPXznajatw6i9n9SdEF8ratQrtG6w/Qc02MaFu17+3uweV0PFxb9as9oSYVnjDEnOKy0GMkd4OghZWphlhAmnPSwyJjsNP1ITdOYHZk60I8qkqZRh3/x7jU4jL81t06TCjjnBZfDZ7t8ooVHa+x4NC5YJR4BfuApRfb5vMSPw8xPx5IcHV3AJBbn+I/9Eb8/eMq58V1jYASiRbB0h4KZGHbZ7zUnDeXM9YqxIBBZDVfWMxdzv0DyAmTVwcWIRXT98N1wYjeqQSrBi86rj0XTOW1WK59ffUXZJfJiCVycpIlTUIDeH6Rd+MqNCP65q5/cGWrsDWkxo6Q1xcCjn8TTb4HCtbq7AOTwxP1bKj2rwzsmPJRnND6yYSMnLwcAKZxDyy3Qgvgr+eX/uvqs8GDqIetLNqKX7fI7A6qsLxq5IzkQ/S5suT8mKSZOkwx/zcIJqfqaQ5GHrr/feE1w8kWlJ5+RUcrvEf7e4y7GGIWwEKfBJDWyxhrGUe6SuFNoEyXIkqtPFFZUOd2tf7x/N1VH3lkvVw1rRjLZj5PoZKLVg6ixc2D3FONOwKPPEcfjYAzzyKNmx04E2AVGZtHjG1jNJ5BPPJBez/ezi7xt1Likz24wmR6olTJTUaI6HwuOrDaySCx3cF+Dg4fqyKVwFFWh05AqSWUYH/NT3JYMJNu6p4V+sinGR/K0geYbc14P4getmlvU+gWMIi8KW9kntzKWqj7YbxJlZw+GuduwmY9uproQcQXLxoXcZOps9JuRslVt6S+5hSBzPjFn9003+8gyZZTSj1A1MMjbH+Jch70+OgWVWMf5T1bP/+YfuXcAneAWESiXCp5w9gbxxHKw5jbSs973fUbY1bz3BiVdposMv7MzipgRA6Ga8UD83WaxUfVDLgDohwTgEvGd9i5iurztNo7iQAAAIBBmiRsQ3/7AbdvJ8Tk6ZsswOM9+sActVIKFjkB2m2X//xfw3Y+ojXh2XRkCkgaYFrpKFa7NwYeWM7crMVavxTVEA3A+fx/dCnMtsdjZG1AueLpXrxZng+4G/5r9xItxgpiADLCu5zHu+/P604jb6Zduy+nqOeFNKXZ4gwwJ8W+PAAAABZBnkJ4hX+NO/OI9OvcnoZliFbJalibAAAAXgGeYXRCf5HRR9X6HdWmABw7sSQ1B7xtThs6f7rmyRzFuwSMbWhSuq75L1b4MJ0hq5y2jGCkrSxOxAQPHF1l7iGh+7TyEU76gF06wpBtptFewbpkVAaRoxG61aFNRzgAAABRAZ5jakJ/ASWu+MAC1HCkhqD3janDZ0/3Vn38bWhSuq75L1b4MJ0hq5y2+90CW0kv0EWQ4vxUPkiE7dBYNxS7UhcOcGzYGAldXMkdHYiqx0Z/AAABCkGaZ0moQWiZTAhv//6niNHn4cMd8BQ7ku6v8/9KwXxdZFnoIcfBe5A9c1BHhqnI35VGsWBWBwyjdw8GN7Hx1qZloSyCSQYOWePnujjfyKaXqX/yChVEGohiIbkVpCb2uM/EIaV5FXwd5xCTep4UoNWvZAVWlRRf/b/dPly2VtPbMKe4ibuT5wGX+o81rrjPeWZalgTB0YkngSOirXn7Nf/YFdnKZBIEktiNZbzj8nUz9jE8WULP4jAS4gx8tWEyIxsRaiU/pzjXdYwlmRyS5VvZnjr916Hi+tIyZP3DJCKAfz9wy8TnqImZOj4bD4MuTVMNu4GxjZx1B3g1w4+UHa9Itav9pMaDIhiBAAAAF0GehUURLCv/CXruOXIY3dKsAjPibgVPAAAAFgGepmpCfws9gQEaSLnvd0tq2MnECPEAAAB6QZqpSahBbJlMFEw3//6niGCp/IACmYNzn+KrWsTD/6sUaFg08X3fvlx7UOT38WwRXgV9CrkB9FUiMYtqYzYP33Hmw0j64zHpCGK5dnullrIw8wmlFWl9IU3tiADaBl/qQcb6AnGgTL0IZqQlI04m8nEzA86mFRr4dBAAAACEAZ7IakJ/JZ0RhDprD0XBT2F7gCDzp4hFmiOitg3HDpxt1DOhocO4F3NdbcaugKk3+TdJpHuA4UgSc3ubtQMHR61zlF/qpWiHI5581phgmxHjKfYPDMAr+SMH203clvNfnXGOmceZJBFQi1mlurSbE+PeFybY+9K8Up8Y+Gcq0Cmbv7YMAAAAPEGazUnhClJlMCG//qegZOSAFsHzN9Bselr/NgBAnn+xggncVzNlueMnPGvh/YYPfOSW+RuXb5sDUKByhwAAADBBnutFNEwr/yDknREeKgbHx7GKRAFAKo6btVMO5YzmjjTxtAaiQnNuzVH3mcSviHgAAAB1AZ8KdEJ/JRjtda9D0Vu/mN5ewDJgg+/wI1WpbDoQE843I0PAfQTitdK1ZLvaClaFQ/zHJC4TXqjUZeGCiarQRWWwRV1pi2e2qfkDlzC1ku9yZorv7D+ZzTJxRMR5nNgN7AgY7Z3xXLZ7D7sKB35ittUpv83DAAAAdgGfDGpCfyV5BQ6AyaehVelgAyYIPu6+0/ikVpHYomZhrrQBR1mfncka7VVRDinsdwTr7sO1RvAKHqRaiIWMZGRA7TU1tUpdO3FNw0Cx+q99q37E3L4zFC3j6UvsZYdjqZlq7xZ2w6TMU1xLR4lB9lRf74putHkAAAB+QZsRSahBaJlMCG///qffsFcARNb1OqcvlLtZdMk9o0Oba15yslUwG3cob1Oz1Gp2k/mh3jHvn9JvJfB+4Q//j+BKuCuXA15trTpJx3QvenRX4P8NMvkZ97GXaxOm8U9Yiv8g85U9ZKlsPZVs2CthW6u5KWnd8EQ6KWZPqVczAAAAMUGfL0URLCv/IPYKolc4VG+4xsA1mCwAUGzOG6cl0Z+VAwZRs0EvuwVvPc0AAC2ib0EAAABvAZ9OdEJ/JRkNlg+nXn3kHH5NIS0IBqUkwS7xu/Ngxi5MfBKnzfl37G5t4TJDrrUg/at14KCASo85PKPpgJut5S5TEC2pzUGfaE8h/3yQg1dzN2jSoY65OMeRLAn+aMjoHzZ1r9xG4FgE3uqM+aBgAAAAbAGfUGpCfyV5JCmJ5ecZJr1+5gDUpJglQ3TBZdv2JvDBNQVym9ZvP2zd4yXRji4pekrctG2x2l2yfKPpgJ0szjiWFtt+UNe14vXJYKOXSRnlwkvw9OXa1DSpYE7KcyiO3UgIx3x5HMJmMZ93kgAAAEpBm1VJqEFsmUwIb//+p+3SjWXmOttjDDW5ZbGEFTFG6JADfRw4/1jafwtkP7yzc9+jn4/lQccVZqycGIfwVnCywMlVr7uZwAzzNwAAADVBn3NFFSxn6xrT3/U8V+IXpxuLZuCtxZwXgOBTu9bxqmwENLSFG155C5HulUIN91Q9xok1wAAAAI8Bn5J0Qn/3XyEPinekAOgVv1lTiULPExdsmohWNDU71DREjJtfa16awm4FRkdxgl8qIONVnbSUAm6S5jPu9vWaYeREsNxbetcyaWtSVnJa5qr3fs5CF/gTX/VD0akE5zEXIB6iNH/yW79Sc3vPGxzJDvQIs6WzlOGwvHvO4mZVpjsbYKn+bhoVwwxcI8CEgAAAAG0Bn5RqQn/zSSEtJxZUjq//fvLwp9AAM+CBnSe1L3BcAeYb1j5+sXAlYZPjEGT2mQNdafrQthelP/HD8fxgaPhSlpf3DDllCfMk918xPU7YvTEf17DQEbEY1zmten+OQZ/gURBxYnWAFlk+h6w9AAAAOUGbmUmoQWyZTAhf//6M/xrcFZWpydj0a3AAcu9dfjCOweU3HFzqs9eE0+kgRj9+pg4vLafkabOqjwAAAD9Bn7dFFSwr/yD2BNl7vd9lfvv3Cf7MSrxAA6R3J65cWr6wP+yUyGwOmFd7D8WyxjhqFUKJDuQAAAMAB4vceyEAAAB9AZ/WdEJ/JRkO616DoAx82K/m57/+lgDaqEDOLaonArYseugXf2v0sMqQ3WKcVLd1NEnjnMJ6kqTjyAvCohJhmdEWeAmJD4trlLm0HnyCudgHQkpx1Tw3Yih9WUg1i9K3yjtiAi8jJigMg36pq/BQydc86ctbdjY/BrB/CEEAAAB1AZ/YakJ/JXkEIdtpdFj9xTeSDDAE0mOiI72mK6PQ5M3JfJBRJAytmVJxBzd3dzbwjqGbkrctHSGgbgKDAmkVF2euAmkCJuJYW21eJdMh/7siWBqCLF3MzAT45jrkmyv4RTz3rpKhp7dS7bcRB2htGqHRuTNwAAABo0Gb3UmoQWyZTAjPvzHff9TxX4henG4tm4LV2S8WMWW72+AtS83/d/tNrrbPIIBvXT7D9tS22t1ET1RJPx98CnDoSSHoWwoKZJ3of5NIzWvDjhw3ZAIdAECtRZZYd0uR1telZ7J8Z6dEgBh5eGK8dctzsr5qYwOIA8OCFDFz5AAAAwCkKf1PPzKozf7k+h7+113rX05Yc0hAssx8d8PmRYrtZw80KrD0Qqw4+MV3lZzpmwdF24QDrdWpc+mJz8q5fj05fmrqDX5nih1Jnu35XwIkgwLcmmCibawMfGuxtjxyjx705t63m9tZK0qafxsQwgNa6HT7WxLAvCFEPZod/JfUpProxyzUzE7dBDWH8f4oMUuAFEYUnb2qyykwPNSkoXaXjCbf51PKCAyac37Kdz6LHrbKBPbOehcKJY6hAKhCv9I7EyqC8h8CUwFZ2M/sYdCdOkec+J6M1Hftg/cmpjyys3QaqYPjyxnvFevlk1x0wfRB3eSqoBecUzADADPtqHyb1QU52OAqRGTqd7vbqzArRsPIZKz1ARHfHwxoBwpJ7d9xAAAANEGf+0UVLC//9ABBQBY1IwgDmHaCY+FGaA5Mvux+DS+I7niUel8izqXNNAAAPBcykguPr+AAAAB+AZ4adEJ/JRk2ZHaF5QAWdBrIBaKc3PXOne8N/QiPVQ5v0j6r+7DvjTSmdINkzmZ83Pov9UGjr6MTcZ4dhXvmUXn9QAKgYnslxsA+cHJp/+xYaFfm9Hd4kzEx6c/5DSZhZMaYlEH52XvJzOwV9HgiVrty2cv4YQNmf1QRSHyXAAAAagGeHGpCf/X2j/uboAoBC6JiM1k6a6ZqoLDQIrgOdbl8daBps5K/GJIuCWi18mjbJjkU1HnJvx/GBpJrp7l3OXP1vEJ3sk0AHEg1i9MO2ECgcPScY8JNjv7H4bAAMCBobgV7k+E3v4uUvjkAAABxQZoBSahBbJlMCG//jf1rnaRbhWWzJ4AEP1l0X0gBFHfRVnPRCU02oM7oezs0iLML1t3RuDH0sGsT5pjE0IblHTLC3nSs18gcNKKZffA2KspopAhbC4U7I8oo6CnAwMp1fuEDvnD+XN7VYtTRDj6u6fkAAACBQZ4/RRUsL//yMHt8yY8j6mjXysp9zLbCa+0AJUpRjvE+jWLzAfCP8gSQ+dLY+h0V0gVrI9tMgDfuM6k9FL/pxVc0SAz3F0PFLeWhxqFTbUuuUBmA0Z8ptHLoq5Hyqg1nlS3xxC1shJ/h502otO2ipNGueXNBgZLxEABqbWGbZGpAAAAAigGeXnRCf/HMmqU2JE+2CgXLCbtbKwpSp830AON4romKdlHSxLCDCUL6qcypXbt6OcFa7Y0tHPghWy9il1QX6zZ3lD7CEUxOipWxGj+wa+7WWcDLtzCo1kUQJCGxyKuCQWrDggziXaBcUphemcbL4gOCYIUWMJT3ARSuOMrOEqU5dYDHT8hB55ar+QAAAHYBnkBqQn+/ym0Nh0UXWxQnPQZSgI6eMpZ+UoBr1TrCSwymldf2pOTwC0QyfHL2X7Tga64pPw1w81jSlaAVi9oH6KASoAVByaf/sWGbkc0R3eI9wlOnP+UlHWp6DK4x+7mlj3jlMTJ0XF6VyMT4/DCBsz5LV6GAAAAAM0GaRUmoQWyZTAhn//6eUN38VFQTD16AI4EgdboaKTEks2/9iGRTQ0lAbG7sC6w7nG07ZQAAADZBnmNFFSwr/72h6dzS8EJxLdyu53kfIgYnVH/5YdaScYAS90dNasqg/40tBUpMqGAAUlrkaoAAAABvAZ6CdEJ/vMqme/n3fALrfBBqAJhhdExZ4MHb1apUOZ/SyaEs7bpX2eMFIUxa9JzNPakRScAhgq7+305kxsq8ODgouIu50M+KLgymx6rzRvYPjiMMoDh50sKcQMePafhGkgL4ddHG4FfKmlqR6b5hAAAAfwGehGpCf7/JwmDqZ8jxURIOaAB0c+WI1zrKt+wX3Wn6r7lsa36wKwGm3/x+t5tvPmfLv4ruG4K69fe0kdIeQqW3izHCWVQ1BtnH5RIOEuU6AtsCmHA5vnuyWOazbF4hxY9lQzF2sZBZNfx867hdGEDE4VnQxPj9eqlN/xiyMYEAAABvQZqHSahBbJlMFEwz//6eHBd3gAv9tT28bUa8f2YFWq/OHuL3ejRMybsYu81iw6674TtVWIAvhrN72Vs1zSAV4LQnQoV5Y6gzyd51tKv4H+beczYEc6D8UW7efpauH+rwqSSf/+Y2girsc7hcVLrRAAAAeQGepmpCf8DpabCkbi1sXpAGfBB9/gRqtXxSWd6HZ4zNbPQ3WFi9Vww1/XMTNfVr92Hao3yebEJVKsYCvvs3m4MZY/gnu/ZCG/Eqpu2AWLuCFat28YoNeetiC4+4AIK6HLkoyIkCzzzP1R4HWhxsxkrXE1aldn7mF0EAAADeQZqrSeEKUmUwIX/+jL9bT4VMZsALBRcJl4tGvxwoPVRNSmH/Xm4sEtRDmpt14LdhNICJPg8OI6Tf39C5yyxhNiZsKGLUy4Z0kPrNkIo6SVEv+TDqdwjpP7pc5a3nf9pOR2BHvpMH7ShXNluWO4Fn0Jtgn70ds2TO2PY7cI/lVwsp6K030EFMtzEya2EpdKCAn/UlFQ7IQxEn4nkcXhwbLp/xVRuXLgCOXD7KMAOzjYFWylX/MWJzMM3noe0SXBiCHGRgT9kXBOy/fpKzgO2fpu8xVMLoA76TbEyMn6OsAAAAY0GeyUU0TCv/vOYAMquAlAHKLo6bXkug7A5ICe0xW+Gif3G2xKWz31crj/Wq2AwXFUAAi7hue34KoYlmtOJEqfPdcdmp6uoHOE0T0d0H1bL6fN+1OK+aqxcU3zAoAAKWPLQYiAAAAIgBnuh0Qn+8yqZ7+nmg5ggA42Usw+pPclF2AcJPoC2bDrBkdD4EZfFXNvmkfS/Si3abYD/IxAseOcifygV7qCB1oU23FUefnjHGP8vslMEQ7SU6EtXiUT1bV+TFFwQjP1oPCabO9phIXoM6tAYQI1suQNWtThH/fwNlNYyWCynGqXSBmac+fTtZAAAAZQGe6mpCf7/JwmBrUgY0pdZY7F48UANwcGz1xkujHHrV/O60AcFm2BuhEkH5B15R9MBPcFduJYW22GDSvZ9Y6ZaDj6SStiDyN7J05dtSWuTWefXjAc8xecC2J3igN7RqlN/0VYXOAAAAj0Ga70moQWiZTAhv//6niF4UXACaa1G9H5/lRQXOp4JxSsGdYo9Z6xrCQGcyu0dDqCuhH+anf6f3GtupyIYbi9eB9HmkOl/GT0lvlUlumrUoIeTsJL7Kdo/Nq4dJOS5J3k0X4BdxJqcZrWvEZ4AdAwYCOcToPmZNLe61RSW98ZM6nUrwi6DKIe50KLX22ndIAAAAV0GfDUURLCv/vaHANRUfD9CFgCHwCVneT1extvAhkU7tntGU81w5XXJKcuZ65vVchSJRhSGcfvOzRb2B//C0bq5RCayI5DT7cpZWT8olsyUf97gAAbQWXQAAAGMBnyx0Qn+8yqZ8opjFZscshm9kUAFqODZ64yXRjj1q/ndaAOIY+CXItSqWTryj6YCe4K7cSwttsMLYXn1jploOPpJK2IPY3snTl21Ja5NZ5SOti6jli84FhifFAb2jVKb/3o0AAABZAZ8uakJ/v8nCYOpnvPq+YABajg2euMl0Y49av53WgDYKSD8g68o+mAnuCu3EsLbb+a3gmIOmWg4+kkrYkijZ9HqZQOw1yazwh/NikvOBYAMMpZG1p2fv1OMAAABXQZszSahBbJlMCGf//p4dWx3UfOQWiQMAUG3aswe5wssFOkXqiy/AblBV8dv/77mU1NQWYeRbAR6vW4v9hisIi4uXs4zrzTPV4+hZTjjLUf/ech1lXZ9AAAAAZUGfUUUVLCv/vaHANSAOVowfMK2DaABd9fGwgATuJw3Eg/esQGSOuL0CFofhMib4WidkLQZTUeYS/3TkGnxQtJLIeBZzsm7exqBPGeyOGgb7GQiH9YmqW9qsf8/nXT74Nn47iNGAAAAAZQGfcHRCf7zKpnyimMVmxyyPmdTv/sEAAtRwbPXGS6McetX87rQBvH0T54Lf4fkHXlH0wE9wV24lhbbYY8wE1WOmWg4+kkrYhUrTk6cu2pLXJrPPv9Mo5YvOBb3TxQG9o1Sm/58dAAAAbgGfcmpCf7/JwmDqZ8C6QykCIAyYIGdJ7UvcFwUS3bL3kBZmhDz4xBk9pkDXWn60PJVJxAAJRKf+OH4/jA0fClLS/uGGdHDlk0J6He2YSqSPLd60w0BGxGNc5rX/v8R2/k+IuUmJkTYi1lk+h6nhAAAAy0GbdkmoQWyZTAhf//6MsD/9eYAdAwQmU5SkI1XWZc/CVvdVcL///z/gZXar3GYsAx6rMZHEh6RCRVHmliZyjcwTF50sJVkPlwnVNxSgIeLOZsTIol+7JasxEJyTG8MrJbuTHY2fE8zV/V+CwBS/2ftp4ghgsBIbySQJlrnvP5UyQa97/uNZ/hdlVd8TJw0tOJ3lpqVr7MJkE59vS7TtQR1+KYyjJe1gT79TaiGIz1FDVSikis3oAZOxC1KP2RfEuUgKRhvjKRbOeN+dAAAANEGflEUVLCv/vaHANR09Yz8thDowAKAYBbCIDhtp/noc6bA80ONPP+rdyYz3QEBTOEI/GDEAAAA2AZ+1akJ/v8nCYOpnzJGcmQBCPLfRln5RvMdPOZqdgQE2ZSSSEBfgSKcXM6tY1u4mDAr8210IAAAAvEGbt0moQWyZTAhX//4+0v35xCZGACKwCVmhC6R12QDHBpIfGhwtbIn9iqQFPK6hD9RB1k593C2aR27/iP6xRLVZkD/3DO+DZLmHhJlR4YQACZv1FDe6sL3uOI39FPpbeB5Lqgs98lXfyjCt0Igrj/JSf1Zg9lxqGqo/x2npaWoD9UVXPP80TxnaEKfOewfivPsvA4aiNND93nh8tno7IKXxlfSNgo9rfibT9st4YsOLbhuEgQDRcoZT78uBAAAAXEGb2UnhClJlMFFSwv/+kC7GK/oN2gAWryhMGdpKpKnWhdmlvkohR+/9UHLc/9RPv4BMzUKGBr0JXr8DnKrTr8YR1sIv/7NbGsOWdjHJ8WQ2aazu3wn28W1jYzKBAAAARQGf+GpCfx9oA0oKXNqP4tuUAtFObnrnTveG/oROD6YDflv1kZQkBr3qbuQ+rcfcPN6I7ypvZzdoMiLHnZ1Yny7HBwWdgAAAAPtBm/1J4Q6JlMCGf/6hPPPgfMjgCt9VUoeyPn+VsaFirMWKuPFtW7fNal1SDcYKqf+zBpACCILeaf6keJkbxubwJTjZsGtzm3YORDboUnpe/HdA0cBAmJXdkvrjhRGka2qvqpt7fWZa7uSp2hfKGKeivVT4EGOJDO8kmYuzgq9yDnWeh3+Tw39pJ/8yGPTKLChJaYKT2rlzCUd7oTpQvML5M3JSoo8B+pJmCamjHnq2ih1FzJEllED9U+ei1j5EEjtkw42Flf/WwcV8+ObeLGKY//jHD8TuuNxRacb15Z4/+0H948Jh/6ZGOgyH7se/NTPEZ6Cb33+Q9Z85qQAAAHlBnhtFFTwr/xsxdnzgCEecwfT3XR4bqxZmBpF195CX/1AOOq0Ty19l1nnxLFF1V4u//ppo5g1D0ZQgLwFrS/yKujXzKyERT6gUUCtAOkZCFEojEmd6EhzUxrFaivfW8EoPL4Qk1mGm1j2b2YMCxjlwCwFhGHNIyOQoAAAAbQGeOnRCf6TVATwIuV2gt9LZrQCyHZla73zYWgRCtX5qwaZROeO1OuMl0Y49av53WgDab/weTryj6YCe4K7cSwttv338zVY6ZaDj6SStiepmn0eplA7DXJrPDynRyxecC3B3nRXaNUpv/GlA+T8AAABkAZ48akJ/ID1amTd1IvGIuvmADcHBs9cZLoxx61fzutAHEIEptWFzlVLJ15R9MBPcFduJYW22GBOc5qsdMtBx9JJWxBr1T6PUygdhrk1nn5llFHLF5wLytePortGqU3/RZBrmIQAAADRBmiFJqEFomUwIX//+kGHM9FAmYoZTXOAOUsOATd5oYytRO6XN2TyipHcDY3UZopaJghBwAAAAckGeX0URLCv/oBEA29+XhAFW1R2Kkwfau1WNlmcc+Hs0mbeOlSkOEAAErU/Z/r0WkYNXPBajMm7yUFseuhy7H3yI8teibp1GMWvTtQGLrXGurlRHCDaRiZmFXZgxjocteh1f3PXCwffuyM2jUur8Zp/D4QAAAG0Bnn50Rn/qVnff9TxX4henG4tm4KOh3EJi8WKbY34imj914Faj0C+EBeGdPmf5SwYiqZoYOR1XZyXW1KhCOnWhvo1jySXEeelPn5StlWE6Bqjc5LPQ4S4YyolQlJUjz1VmQd4I0FN5M7LVWpvhAAAAawGeYGpCfyA9WqE91dUP5iALHz0RBy6g2+1CJ6jkr9jc28J3fX1qQfuRM9olGEhXWclQ0uz1wE3W8pcpiBbRYOQj7hPZEsISEGruZloOLDHXKJE2IFnn5lX0WTGzrYwyviShMAIxn04wpzygAAAAMUGaZUmoQWyZTAhf//6MsELkVAA5vzr8YR2Dyo9boP1Pyfhh2RlloVIeyaJPsMrUSuEAAAAsQZ6DRRUsK/+9ob6wHtuhQPXx28AKAVSK0zJ718/QMbNalE8pAABN4qft0gwAAABeAZ6idEJ/AmsLwAtZ1OsH9T48g8WKygEwzIZPjl7L9pwNdcUn4aQj/VWL2gfooBKgBUHJp/+/mUOlomIeyApYLOgDHvG5T0GVxj93NK+Qw6VxPmpSCZE+PwwgbM+1OwAAAGkBnqRqQn8DsaBiXAFBtCBnGRtG8x4yC7nTbNi1hk+MQZPbFA11p+tD298n4ezXs1LKxeWk+MDR8KUtL+4Yc5t4n5ZJ7r5iOp2xelap7NUMxdskP4gY8fmUysDf+20OA22J1fttUOjdgQkAAABhQZqnSahBbJlMFEwr//4+0v558H/IwAWAEyLL56qws2aDVe/gPX0fzKicTiAgxSGCDON676tHatTQjT6mhMgbeQ+bmQRRItS+vh1HwavG/oRP6kciUCn6WTcoA/85QHwRcQAAAIoBnsZqQn/A6W080ZJSCANvxXRMVQSHfKbCncI+H/vefZ0DTdAZliAAGfsMuQK/+a+f2xuwhXolsFKgQm+jWjEyOAI/UyV5BdFFCTeZXZGBpzsH01Z3GWYZaAlN/uhRHSnfKxdS+QNjPHURCr8tOKk/MxMERDGIDUYV/M0Y7SLP67zJaa0zd+JGP78AAAEWQZrKSeEKUmUwIZ/+oN3WznUABD8pA81eOOBwb+eF/6yVFW47Klq5KUJ6ntR5iZDgDzVhsRiilut8GXR0I9Mp08XkV3+WJoXC4SozH+4lDPxh1IGgaMJeOeEUYQvnmdKXi02eNKWVqB3sUhfvsC7LlgflLhn4fikZFn0Va+9SXXK9K2/CpY9/Oq+T/qNzpi3C5wG869RtV7V58/sXsjUJVklhPdqerhx/fZjgYonz1Id49rwD/g/tnFSZ/LkeFI91t4UuJWPEuTbJPrLo64UWDI9Aa+c0qgyhPbo1kXJ8II6aOndpgvH/FzftwRbGDDXPdNQzEVR9p/z/I5eO645z2UoeS2NPF2vcqSL20cXg+nmJqvBleFQAAABUQZ7oRTRMK/+85gEdYiEVpvxoATR4lvP/v5Zme00DYuT9zBXRU6LZMXuE/bvxHMEcdmjaaEc7oPG0+RQShAFUtQIcmCOqaAJ3RhS4Pej2GrQmfAHAAAAAMwGfCWpCf7/JzG/p3YLEzlrCfl0it2UAsbhla73y7yPHWMrj9tS6aARX2dbWighD8DCNCQAAAH9Bmw5JqEFomUwIX//+j+D+XvJABxjChMk/8zkT0yxmne4P4tqdtQjt4tYBEafwii5XmA2/llW3K9mrNE6VpEPKvspT8GolFouT+L2sJURMujkXcrNzTKXOX+1XT9KhqwWQrPGyWLpVZ4DEg81oBmurQvyxHkK0f/KsvL8PPTxvAAAAvkGfLEURLCv/vaHBfi4NLeUoArU+SoZRdZX1NwE4cTjLx7w8XNax9punCv+il3TPmha41r8K89P3Qlbku1Pufvw4u+XYnUyaWZXw5hr8lOfypUFspNt2bLUHeoKVzVAmSPnkzoAeIH/PiHChNz57eUN87tUe70yqY4OF0ibiQPzIPY79OuSPkhOmVoT+QGDNxii5Gl0bBQwGg6HEJSXO9AaJrtKdInrl3sOPB+qCfn2i/APlOlB42o8s2So/QYAAAABsAZ9LdEJ/aNtmNFplZvtnXEEcRqioBksmCXB1Fpiiq38V3tbxg7QN6xq8lIDVIEvjK4hgAGZaqzgx/hDKN6Q8J9RQ9jBkssrrNpdIwU9TJX1wsoeRdi6j9QUEydhAuufNGclFVQ+csXJXs09BAAAAdwGfTWpCf6TVMGyKKtl3dKboNfEwDYlPLEe8l3jZ9sF0039Yf2gDoiDl1COel21CW5N6xq8n4DVIEvdlw+r9PggVmrn+EMo3pDwn1FD2MGSwBFLMffLft6mQddBlDyL4EUfqCnVO3gIGfNkeSqWKc9exPWNK9JO9AAAAY0GbUkmoQWyZTAhn//DDo3pgmYAyIg7S2bAFdZ4DcoKyftHriZsekNgv7aA3XcAJoY9C87/fOhy80bZMSfyR9/+KBX1eD3mnTtKlYzTRO5tLTG/9JUYLtD6rtohIO3PCjTzyJwAAAHdBn3BFFSwr/7piUgFhwjuYRxCsUAIrAJWd5PV71fvXh/8v2c0xxrHHIYv8bKVgmWERHx5avoPLmpbUf2932bapZV7WpG9WB/JFEShtzmtG9Jog0L4/Wfg2h8EUVUckx05zG5ougMlws0uFBfTA3EAwACHxCyxvZAAAAG8Bn490Qn+8yrP2uSgZx6qhAD5keIidjNFtektkfIDHsLSjIFCrO+QF1rIya2pEpzzxPpB7EIXpN5v02UFpiyWrNhDDXupIb/D/uchgy9YbyyFjslUXix3kILATccT2GW49tDi58dDu5SohPpPypUAAAAB7AZ+RakJ/X/UDjpQekcjbsAB0GSUtURxAnmRPmJ7TQ5JRGCnql0t9GWA9+iqNfiZAgTxWvFaGRgSZ/yqd0anh+GlSqYe5MEAssd/P31vH3P3Tu7VwQTsfTi6Msobsfm1mbkZ5q+MeH5J7cDOxYnSlRoP25QaLs7Py717BAAAAPEGblkmoQWyZTAhP//32yBNAFAIXRMRmsnTXU5RtBJ9lmbB8kCAIdx1SlSlpgSIcoIcspOctcQ9THqcMpAAAAFJBn7RFFSwr/3BA4vhKc+ckucgCDzWVowkxvJ46/709Fo+A9yJ/AymurXAXY3QEDeCW9vc5nVpektnoofjm1nfiL1i5k4o4c154kWQGYAHeBwpGAAAAaQGf03RCf151XspHVpikA0b9Ac9c6qFwIhWsqE9pBHtVbhQgcMxzte+UQeXGiPu/EfY+0m1nWhSu2CDI3viCGce7aIjR3eghp2jq/PCOSq5cJPRbpmWodUFoU2IVvatreKoPwzIbhPeBeQAAAGwBn9VqQn9f9PqDGqEAbfiuiVDdK2AN49f8V9fNztrezIBCsKpDTGfCyTG/dyTTn7eMUcTIntqJnjsid920SFe/bQx+D908x3rDTCrNOhqpj3MMUHnddBDrh5SN/KzHQHZ/MNteTd2aWtfy8GMAAAEUQZvXSahBbJlMCM+/Md9/1PFfiF6cbi2bgtVUn4ijuZB8xSYgzyGsCaWQt67O4Bss6zNeE2K73UrDve/0EdDd++tWwKuPHDftDbdTOp0c6hiRyuKBjAl8fjzDcDbjKAdk7aycDcfCDNd9cVT3iE37TpLOAOHLsSMi0aLvXFxZyiE6rFsF80ZkXV+zYR4/VSc9yJufA7UcOOmSCMk0qzM2ekGdKI60sxC/T7Iu5Wa6pn6piIul4lhWZ9BgrmDL1C8MWyVv+jhdCpYX01lsWg8KVIRXFDynEJQIakdXJ92Tvwb+4mxfOMKtiGlfPDGHLICB9KsQ17MvKEFpNn6tdtBUNip+h5Q+z00Ja9I5Z+2OzD3shT/BAAAAcUGb+UnhClJlMFFSwn+AC03o8KjRWN//ZwAmiIQlk0kk5WMUbqhrQ9JEnzt5FK0X/O6lycdO0KGeIlGDsQSMw4rmZw9pDv3PTb/Bhe6hZnCq4DYZS9w6I7tTFNZGZ6A5651RTQvfK59B3Y8ZnjKoTT/TAAAALAGeGGpCf/feFBwXqahj+YGEOrvtk/UAmGF0TFngwdvVqlcRWkja05+kd/cwAAAAbEGaGknhDomUwIV//j3bnFF8WDVanPasrpEnn/wJHoAj3TfsHUfP8WAPED/nwtpyTGeQ5VRuHrrJhh+f1HfeRmf6vqfNvJmKGHYW6WdyFChR7O8JMSHvzPUwNZlLlRm/9Z8SobSzygDIkBysWQAAAEJBmj1J4Q8mUwIT//39PD+CYPahxyCROgkEMAEvW/WSdjNFtektnFXoDmayJbpRGhwhi7uzpxm7Di3GdQdIUfJrHA4AAABqQZ5bRRE8K/8bTzAnD2orCRkrepfEAk1Ceua1GgcGRbTPm6GP6oy0LWJji/dsuzP+MgbX/UfTtZ4ousvWAocMf+irhCUQcFxebKOq4wFo9cwFbU34yBriH/AoiVYLaAEbAF7NALQPOwp9wQAAAEYBnnxqQn8bTbRAi8iSLm+zANGqdYQqmePKJonJtQQDIygnGuK1eM591uTaMgAQlDgXT8PUY0nMeVTfWNSJiwy1exIoCrJJAAAAP0GafkmoQWiZTAhX//47bwD8DqEXyxAJin2LmWNA/LiRyJK22OoGv93lqMfZ2XwhkL/qvWT6r2f9AEzJz9ZhoAAAADZBmoFJ4QpSZTAhf/6OmTee62139vfy80GrYhPgA5AxQX2Sih5jswrm1YPo9xJDSTAZ57/anNoAAAA8QZ6/RTRMK/8XGG84nN5I/HcQBWqagTJHxgGjJFn/yCV+hw5/lY79av6iRY1uZAKhw9tTqK0qnPaaGnztAAAAJwGewGpCfxc0Rg3roOTr7xTSHXXgDapJgl3jd9qFmP03SLd79v+PwAAAADVBmsJJqEFomUwIX//+jZh/OH+5Mem0CAL8X1+MI62EX/9mN+Qqf56OWQhAwcHmC8xLaSh/wQAAADpBmuVJ4QpSZTAjP78x33/U8V+IXpxuLZuC1iHFvoGygFd4+auOtSiFf93+y2zIWqvt54wQUdPKgINKAAAAdkGfA0U0TCv/8MBMOtDt8A4FnYXzLbIQICFWZw3TCTWk10MHFSvg65BKlB20flcZHrWLA6uytgUe2byLIlW9P1r/qGxe8Djusui1hGNHTt/4ph/Z2dbgP0Fnxn9MLNxWLQbEc7hgbCn9xcIKYDxYEyHUJp+QJ6EAAABMAZ8kakJ/9facOLrB1DekAUAhdExGaydNdMJ9wj4Fs4OxvkfYj1rtnjmgFvJ8E5jcurWAVEsIInyqyroXAabEXTZ/5DNb+OOhERBsQQAAAGxBmyZJqEFomUwIZ/+J/Mg9UQli7tiAIdPRsr2gTJSAIlbVZuLOWdxSo87lh4wzq9YI+CpTTSjvcfTugh6F747ZRI5Q/pHrVddF2EVQfQReGh9o/INCE2hgFjPcAqTkFDDTcN1aNtI1GLpT5uEAAAC8QZtKSeEKUmUwIV/+OWeSrDnhzS4T+kpCYeudgABPq1AmWM4GE3LPJOSWFHHdmXr0cG0s5F7NP6++GWQsFw5Q5UWxJzfHCXloky4Fo9d9p6t5nd2OFVRAjU4zfoXM8BFXtdFP6No7cm8MK+8t9s9mcJGz31/1jxywWhpNCWC0UaOwgDJBWI1IwXYjyAMJZRjTyHEF6Kjb4EbgLxfgSRorTOvmm2z9zYQPXhcnHHsfauWPwWvduMzBFOItOoEAAAA6QZ9oRTRMK/+85gAqUXhqdpgkAS90dNasqhA+E7ZEzy5vr6Mk2ENH6uRRzglSrH30qVVO+qQgAVwttQAAAHQBn4d0Qn+8yqZ7qhCTW/FVIBqVCD7/HMozmefOtojxtjLh/LUJuhQzjiEuPb/byMERbrAyJGTA05TqJ/WdjpQxPRNTWY2jVuDsKEDXJQkKvMQjd/VN47sA6WRfk53B8AfJjGakmkfS26KDXfewSyzofjzu4AAAAGwBn4lqQn+/ycCTH5EwkJwP+5gDSxqhqPNRXWBRD2ZAD8S83l/mW4+F3E6+pZMzqacIYGM1eAeNpYKCzH0tysVVzoPGDPzzxGmoauRDjNH0+9vHgC7HKf6ghIvFJkKXGzUX9Yvdqeiesaunav0AAAEmQZuNSahBaJlMCF///o0K2nw1dObACMAfSZWL+6KFqRRbNaf/8mV8BuUvvH0ZuQLaNEAE9DhDUxnG/fuNr5ygImBF099tMShX4k2WqhFspn50WOK1x5hGAUxqOCYv2K+tVeuWSt1qXxjrbb/Op/VBfZKKHmOzCufpQe1KHhNPp3rJ3zBArEPoi72JI2sk2aEfT8yvuo1xDuK8IM0ZSWGj4mp3YkiZYug1hJiVP6NyGQLXOttVXggEz6MXH4AdrEwaG1rxlih7ce6T1UUZqGkwceCHY9lUgOZ0TOTM72mlNQNC9prKY2GkePJR0E0JNZSSVL3JXrB/Qt6BLbNbLiSkrhXNMTMgwg2X4mhc2rfNI9d0QDF07AUzn9PU59k5onm9ShVkH3LKAAAAdkGfq0URLCv/vaG/ywZO02BgBGAveFMLiKVA0CA1FYjERxdOY04114duJ2ZsNY/CSYnUcQyJ44SxJo/bwD2DxMa47UZcKPX40iYG83+vIv0/Zd7ZWi+C/D9WlwjvkI6ioYjj6plVmx2hCMHS9lT1duAAAAisL2gAAAA0AZ/MakJ/v8nAqZNUjL/Y4ANqkmCXeN37SlID7ufclLVEcDDmHUe0N6kh+C0SboS/FeqfdwAAAHhBm9FJqEFsmUwIz78x33/U8V+IXpxuLZuC1dkVjG/7wC1gHitZPLGIAU0Vlp36m2ypmfFN4isAUKP/1eDF2KpD+JBSSxfLSoe/EeFO/Xli3hoVLMQKwQX07I97oNLilqfsulBBJAbaZ1mAI3Jz6y92KkCxJMqeq4EAAAB5QZ/vRRUsL//0AD269njssAOkdoJj4UZhNK8xe3t5khBzaBGs6YI5lrMlvYm/vfrTcj2J7smT/mwFgCTrdSQp464+KHFrjkgDHVxrdswgX5nOwFH0WFhGAPLotmqkT/sX/IzBqQvP5n1rcp87wgy1LkZ1OSwWBlUUsQAAAHkBng50Qn+8yqmcl7xrMBgADa/5ueudO94b+hEbTT74g5+WPCSOblJWJjZQWDznDr7E/xwxWk5bkNiWdF4ZmnGNPrGlXLaB5xsGgHyDhNwmnkiG3m9Qw8yPXxydGOJ4yHjr0xKIbjsv80Gi3B47Ej5rqM9mmFqieC7gAAAAcwGeEGpCf/X2mlLGKeu1wBQCF0TEZrJ010t/8rEYWgU5aJWACvsGrv2bNOMrjpdbcvd0qGglK6GghrYL6WqE0hAOJVnsogPvXFWewwOFpH9Wj5RbnzCOprjiC6rv/psoa6nIprQQ2NdvfoNalSOoNFjQyq0AAABSQZoVSahBbJlMCF//i1SrSuPUQv727+N47mD2qM0gCEepQmXvl78ce9Hw5ip6UHjIWd1CnmPKUfhP2Cb05lU2n10y3dGKHlGLbcQ6YDsGoi6aQQAAACBBnjNFFSwv//IwjfHE/u+FygrjnzoQSnKznpz+KIgGfAAAAFYBnlJ0Qn/xzI8X/s3wAcO69nrjJdGOPWr+d1oA228SpZOvKPpgJ7grlu/hzN/S8UTELPuaR9KZp0E2KH1ThuA7DYpwf5LcYSlGVIZj8zxYXAmNdfbqgAAAAFwBnlRqQn93INETjzwCJLbTyZVQAOHdez1xkujHHrV/O60AbpATVLJ15R9MBPcFct38OZvyGJExCz7mkfSmadEToh9U4bgOw2KcH+AjJNgtTCHA+Z4sLgTGuvhiQQAAAGpBmldJqEFsmUwUTCv//j7S/nnwf8jAHwWhSz7euc/c/IAeWtK0nPb4+hjm9/Fr/9GrUFzFc2ysYC03k2rTOEGOseQbRYYy6X/EVQYbWDv70KxR6ADFAoa94URiAthECGGU0D6MJPI2QaLOAAAAagGedmpCf3fv/UsWjqdMgCd95UZkABtUkwS4OosSqoIEYgZDzM35d+xubeEyQ661IP2bbm0xKhpdnrgJut5EisLbbhcqvtDGJ3LEhHhl06/pwQ7d6iROKIt2fGQQmNWCEXjcCw/0JwdeqckAAACsQZp5SeEKUmUwUsJ//fuzrx/4BmTmsepcgyUfJnGx8u0A+aYJXgawJVDvx3PUzbyowhuX6/1XfcdPhU4AUwmn04KG/8ST2XtCxKphoYOT2WvgYrNNlCzf94VOZ+a1rFpK3Cm7f+wyamRvGDqnlf8UuMyPm7dPCmtAyeGI2aQMEa4mVcVj+mI30ddZj7qHEUkMQ0cXpONjCs61e3f5Fb0dCQP8/W91HcaBdunjrwAAAIMBnphqQn8crkRCAnzncALbWcmC86Vd/EqTnMwn7mRriuI+gACeCU3DVEdP3zx1jKJvDa4iJ4wPWuvAXbtyJIHfAdUmGhqvQJ+sAH25Peoxm7mhnQzfeCdBi1YPnLTsIhMGCyT+VRXf774uVyMnXFOEf+vCYqxJzcT4SP4kwHCKzL6l3AAAAMhBmppJ4Q6JlMCF//6QHQEv6bARmONFZNpSSBiFt/f4I6GaZgxIIaL9RtUONTOixFjwo7/Blbx54N8qD5tF8VmliwgQfDrIERx0sroNodJTSuUExkypdvTDf/3/Nbb7c2AVtLuGU+g4TezsuazjZkGDWHp8UK9Mznx0uCJegSTMWwW0Fd6YeCPHdjWCCyWG9HpfQAVgv4lLrsDDyZy9DJumgmpT85BDQGRdGEWpbaxJapwx/6dpR21PkqmnB0SM+tm+iLXjEmklKQAAAHZBmr5J4Q8mUwIV//4+1h+81SP1Q/qGNORbB2kveKI7YuZInurJArf+773aOxn8MeLa9JbNdXnCBwEcF7EJuiP8fYW5QTtuAIz0bpntl7W0eFfWgwBCEFUs1UJFE62JZrU/Q9FkNiXtO9BokAq8refKrmDMy/mAAAAAMkGe3EURPCv/G08qOzG2KxA+Qv6fiwAfNCeua1GgcGrRKfNR6nxRE/4Szo6kAAAeURSBAAAAhwGe+3RCfx/dIhB9ZABOy7vWuRTJwix4lVWV9I/lpqy33/qCACBOJCu8sRrnWVb9gvutP1ZJbn+xjOktnJdRZWHqBbt0jEY9atJMKrIjCfsOIwAayVqH24vb/bhjprPuw00jnUAKXAqyWaQzjEf0zB+V+QGXHtRoaBqHSsDpbwgV4uh7aUxYjQAAAHkBnv1qQn8bExHPgAulDXWuRS6uFMzxUL2XI2J/BRvCcgfpU3DUFjMXGfgd418BX+AzHtn/+PiYMc+DRoilJorw+PsuAf/uYKSHzqtrN45/uHsuOp3M3ZlS9rT1v3sOeJNXbiXWbhLTi74U2bCw+9HZbupjcfJM84bYAAAAakGa4kmoQWiZTAhv//6oUJFnZnpLZ+Y3F6PO7ANYDN+WwJg2s3Ih3v2AOUo3//P2leCay8BwDHuGusToKju40drWSwXEeLG+585TgGTgqKakahmz9bHGP9LJ8Z8bRhdPP9C9ydAXP6fUsTQAAAA+QZ8ARREsK/8XGD/ZsZXgB0Ag8+Soc3fbRGkt2d32RTUCZI+MA0ZIs/+QTDXjlmP+wsfXOsaOcHRgAAA6YksAAACCAZ8/dEJ/GxNnXO9AAfxd3rXIpk4RY8SqrK+kfy01dKInXFRX8IgfhAn4EKllT6QUEPOUfbKpqJ6Ew/CSu9piRiYzpcBshqoDMXvV3h05tDg9y5ppOfcU6xdengWWYY4W/JEcTRYPOOfb9+y3pCsuLnvJ+SA+8xKiQhw5iyy+dVZuWAAAAGwBnyFqQn8XNFHPgAulDXWuRS6uFMzxUL2XI2J/BRt0QGpjK2qI9CyuzFwUOiIAelenEBCoOaVuBzOsYjx+YdXMDzVX4irB52I95tDiBqRjCO+1L0qk9y5YJFDF3AMUsXXr1+zmfZRmRkW+VYEAAAAqQZsmSahBbJlMCG///qft0m58FjIFu3egXsW26JRqNseFFwBmCPOczgUwAAAAG0GfREUVLCv/HbgaJig5tVYdj8ui4UriMuLLkQAAAGcBn2N0Qn8lGTOh9dQyACdl3etcimThFjxKqsr6R/LQ9QUN7FNWqJUMzFwSEdNQHpTT8kOVdBzN+XNNJ2kMDtNVXlBne9SE4HSdEz3362cVDx1CPvwiUMMl5J5yanRKVw0ldnhqMVmxAAAAaQGfZWpCfyV5EWvCMABLQC2Esil1cKZBGxlMuRsT+CjedSq1rVrVYuCh0RAD0r04XnCwEPWMR4/MOrmB5qr8RVhHpRdcBf5tRL4TQvUfqimK0hNaGDx+8tRd2Lru1DppyUmzumkgBF+NCQAAAC5Bm2pJqEFsmUwIZ//+npRDSo5ayV2FutbdwQYA63e3F5BAJ3ONmO8Vk6cC5T9xAAAAUkGfiEUVLCv/IPYHV5IsET24hz8VhhA+bL/nEAJokGfDFx3JU/xFCDQxCOveUbFWFTrjAczLpacakke1t/hq1ZtYAzGAlQDyAHRRKU7IWmBmPYAAAABpAZ+ndEJ/JRkdYIcmoAAmpd3rXIpk4RY8SqrK+kfy0PULgRnZXyMzFwSEdNQHpTT8/I1RhnlmIhwId+XNNJ2kMDtNVXlBgqSvHovNyFjX6tgwAVOA7IBAMerz1NI/r4PbQVs7iGTbTHBnAAAAiwGfqWpCfyV5BCGTkwAt1DXWuRS6uFMgjYymXI2J/BRvV8r2LszDyhdUxKRx3VT8HzerjC2ivK7W5VjP2HXqB8XNY0jI/DiXnXpnnP25mXQ6gv9IefSFQXfCJ4BPgWOWbdO5Zo1OXeV/OYmJpiDMs7ON1gWY4L5kLC0Fff/DuQAQ95i1FJUJlAMDYkEAAABIQZuuSahBbJlMCFf//jj2/4GyI0Wq8ac4PZRBAGr50djLmVIa96nBTBsaxdi5ljOPPFVz8GjoNXHoY33UdezZq+zyVACY0bCwAAAAI0GfzEUVLCv/IPYE5CzbpP3e7eO4LEyUZ/TYIXcjFAAzwqSAAAAAlAGf63RCfyUZDZD66hkAE7Lu9a5FMnCLHiVVZX0j+Wh6iEpu/Ef67/EwjiU/x2kIkHL1K9r5a39FRJhdxVhBIf/3zHlRqT9AbvctUh1TQ9HxIXk2o8qk6wUumJV5BftkD4SaThzJ8l58JoG4+weKO5H5VwAslk5kkEMZJFckEkgB7SEGM51rtX2595G3hesdyzPBX8EAAACBAZ/takJ/JXj5qpOTAC3UNda5FLq4UyCNjKZcjYn8FG9/iGFAcxVV74lrJ6jdz/PRQhTE4mEcSn+eBGOvE0a094fe+tnwQsmor3ebROYmPwwrvqFDDltUOtVRIY+KP8fzArdafpaePEpcm9vW4H9qzJq957Ertgkab1Eq46WymR+ZAAAAaUGb8EmoQWyZTBRML//+jOk0891Ju2cTta6QBt+pQmXsLY5KKqQUJBJPX47gk4NNoXJROH3vUGKOnrUbr922qiEYqnor7KhiPE6yI1Vt6O7qNZP9UhoiXG2gzr3Z1TTWignb7qLPepXVgQAAAIYBng9qQn8lnRgmbZFPgAfxd3rXIpk4RY8SqrK+kfy168U2JANC9bpFTIiyW/Rf8rb674lrJ6jdz/PRFP0a7J+QoFD1cYWxEWXa3IYAW04ACBhe8B9nL3DnmtSawKqvKDE85+M3+Xvomc64f2fiR6qQwArO2+RpmCJJppOT1Fvdb4Jtp6TueAAAADFBmhJJ4QpSZTBSwv/+jZq3RANX0EJl0Sa0mz65Mdqn21FNTgYy7Qjtj6t4qrUZ26d4AAAAfQGeMWpCfxduQOvFjgAulDXWuRS6uFMIjez2XI2J/BRvQz9zt7m565073hv6EV2h+HIqZEWS3ZS8WFCWDSLNdRLjC2ivK7W5VjIemeXgfZTptQBpRmsC7ZTucEhTd96JiFupCxT0SYl1m4ElealYSAxPPo7d0It5Vps2ndjtAAAAMUGaNEnhDomUwUTEf7OLQVpK//sUNZfT3UU7FqEyXI6thcBwifRC1wxXY1TSVjMGumAAAAB/AZ5TakJ/9faP+5ugCgELomIzWTprpu7C5nJhr4y1pmfVnIqtA1rCH/m3ma+iEqlHCYrOWlE3tLL/IJ+NSdgjqKLTp8f5Jhz/2DbvmXpc/bD05w/OkDuuWM4DiLYjD0rDsU5y6Jhqsm/Ih4mBhDAXNink7NyOFhrcdjsPNURghgAAAFtBmlZJ4Q8mUwU8ZwrtRs/+MugvkLvZP68GjCYrv9qZRq1g7QvI01337/k0ssfdOBbojHDnPBwOv4jujHcjx5MHMqbiqTaJ3qv1PvKfFnC1N/e7dY6bQN+waeq5AAAAmQGedWpCf/feD/gGQAL8Tv1lTiULPExdsqt1sajVfRZ4zOjrPvhyt3kxOaewQ9/z1L09ljwZknlusgszlpFQNBrSA5EOh45shM2/zFyaPdcxXrkiKrO62qrZSA4i7mLjatnJJJmL2g/rjDBPk9Iws8z+rU0szNHHzeOF22o2ceFEtE5PFq1hwY9QwAHuqFzRpPcxwVx5N8j5gAAAAIdBmnhJ4Q8mUwU8M/+ChTtGiMe9RlfC0UO2lZvCHZVFW35ABYfXhecuTif40tdBkiJmSrhfxMOHrYaV2zVIZ4YBj///f+cYXMiUDimcaQ5AJLA7+IJPAnBr2YhHWVqZ0cT//f+9STtwjEPBvOSpxWHVNawrgX1vkW/djy4oywZw2gNz5fxl1MEAAAB6AZ6XakJ/80kesVc/AwAmpd3rXIpk4RY8SqrK+kfyzi+h/FVnBA8nf4mEcSn+O0h93wrV+fb6I+Mm4FjYcLCvxKHYjUoVz6b+/yp1z5VZ3TMIdaqI3oXAtTnIZu0ku7ohJLrzB9CljQlJd2FObLaSrJxD/iol/lBe5v8AAADbQZqbSeEPJlMCFf/+OGTzNH/U5INfQxHAHzQlaRtEzLXaj09jr5QJX2ih5O8b1KrShfDXp1Wpeab+NIMMV3E6DWi6L0NcJmk32NIFeFAUvrjZUUTlFCDHkpskfGZzFDCaetC1s2VPsXq8BOSUfPelsletT7wvzmPuf//ypp4pngVskbBNgQ+NQqig++C2mf41cvugatgXk/3LyhNwjT4Z4Vsdln7jd6ZVtca91wJzoisoikrIaL+RGIoKIrD8fsbCKs14E3v6I9E6zf5KGRgmA/6HWQEUTeBLNmFqAAAAV0GeuUURPCv/CXl/KBgAulDvxfZOOnQSpisbbs9RNhkCaFw47/Z96JOvEzaszALYRAcNtP89C1VpXFJs2J5L+YD+nY36YeVMJAA49/hYAvOAZSfujvEoKQAAAEsBntpqQn8LO20BVnuJ4EqD0T9LUAKDaEDOMjaN5jloX7vPbTL3ZbTu7GlIu+xibu4AGwYwTRbxQ3crrYW/gxH1okJ9oQmGp3QzVIAAAACUQZrdSahBaJlMFPCf/fElB100eASYordFLKz+Ct7CbSPRVO3Dm2/QxWoW1d50sa6wi/dybnF+5GEwOtLjl0YF3Nz1zRxR89ItRI8J1JEA2bCaNIn/LQWy/Og+V/H5/P4Kei5sPW5qV0+DLFQfw1Aky2SHWB4PGa38qB8bsxjbfiSMc2vubBHseP36Jn4uhNAzj0zV4QAAAJkBnvxqQn8ia6mdlLeSnIASp6sjgQsAwKo2AzdKCOeo4dveQlG6zY+PPQN49Ac9c6qFwIhWcmbQwDPy1iMoqehsBJ7kvv0PO4LVtLI9dez1xkujHHrV/O60AWWuZbdmqg5WIHXlH0wE9wVy3fw5m0rHaqn9ZZ/BaaZdV0UkEkfo13/e67jXkh3DvsKMeUzHd/UeJ/E9ofQed+sAAADTQZr+SeEKUmUwIT/99QbOAChZe4aojp3u7edUIQYOSK36SVCOgaMrzZsOSN+W/94plToppTKL+DF8OWRLYpkTgGZ6DUV0oJ9hGMh5kzvP6MeCj3ENg/EMCsKyQ9o/DQI0/TQ4IF1jVaeEg52D13ddgVSB8VNMSeC/RQml+K7T3LB7uUidz9tCOOItyLzaZRV4rgEmRBSiNIh8dY020VIhCkvYuLM/xSS9LIW4Q+ZE/iFFOk28cqNyYKrfFf/Xd2CQUSAPifkXZmGGSYAtjyxVqQW4gAAAAN1Bmx9J4Q6JlMCE//39NatcVs/xiAemd+si4Q/ggghPrxkyhjTudHiFJXgx43rXMp8I7EjI6Kra2JyAnm0OFjZHh+pawYtNGwpdrmt0PR8i5Pf/5pOodvVDc5dEpbrpTIsZ1IGRJXL17WJ2KUO1ANkIcc29x668pHWb85iyt8TB22thlyt+vKL9GjV0civaxjS3iKvKbNoekk+lmTSCr4QaIzp56k0xtaSNvqmPDRTRsO6yjQjWO4cdetIuzyo4KPD+XI5QqcmPH/7Z6jGWdD42C9AO/dIuUchLy6ujIgAAAGVBmyFJ4Q8mUwURPCf//fsy4eFuAOpp4iJdmCa8YE5u8l/asR2GXdkgZ/UrkAL34DDKQhjadWstvH6z1OXjYGY59l6c+XI67YhJm8Fc7Ze9ZSRQ0cpQ39NZqUFKQfjURFSuicLVwQAAACcBn0BqRn/rGtPf9TxX4henG4tm4Irwyz7Ps5pgqgpEzP30LmzTeTwAAABzQZtCSeEPJlMCF//+kB0BL8aRGwpWrBQDH4iwidnZffyIkl8yAG7UMdWPIvCrrKf1nA/uCQero3XIduvc5x5U+7MEXEMv3KsNrHNtpTV7fjVrd8fd5Ra4Q/lGg97X3A3vxrKoflZVgCrP+Q0BsQdUSdAXiQAAAH1Bm2ZJ4Q8mUwIX//6QYpcHjtUD3c1YGvjNkokGS9wMxAF+MAwm7yr20/z0SwLbNo/9rSL1mgQAdF//v93v0sqb6mLbsDsazMKIXgBQ/bQIm9Hxdo84c1SjH6rdLEdGQ34Mkc8+tMAa7C14u1s0qEgM16f9K/zkhrgAyOVTtgAAADJBn4RFETwr/xtPKjs0Dsd3n6p8Hnwy7MnwAl7pFbGnUvcFw9Bdi/evLXuocQAACOKSsQAAAHcBn6N0Qn8f3SIO1GhT7alN4AH8Xd615sa8YOQNVdDgu7+zATUggAN3hXIKZVMSkcdTAIEzjsMmxIZL743Kqp9/MmhiT9lOm5gGumawLtoQaODHrtFXWWSRTET8ydV3ss67fmwe1bBWvYpmmkteTV01MbdMyN1YoQAAAHoBn6VqQn8bEwYN6e6cQAJaAWwlzY135cSLxajtQdygNf55V/r4Qvxli0tvehOknCasMeP3msvvGQR/dGE2ne9FEj2rqVo6bWj6s5pusBrBwla7aduYZAJ9cmQTErmQ7jUJwucXmuJSMOlp29SonWAzIeM1U+2ZCey89QAAAT1Bm6pJqEFomUwIX//+jptCBsdqge7neN8WIgwAbQaUJfOBXJFX78+q4wKZml2oh5cAN2aoXddiuDf/0X0E1PSlAsXaT4jxw0y6qYnojQ/ZbdGi1rcw8tBGByBlVAoAXQ7mK2SiEaOIeJ78AYCil+dNVdDAJzEZcJX5E16bCeiVtDDFfMvtS/QV1+G7Jo14Hx3LJov3KXxMYV6nbfbqecQH1RaxXP3aGF9KTm9LZva1mrZ7vApe15OrITxijkmoBbmPx9dSMal1AVedEuc97bD2d7+9g583A6cc8SGd7R3VwM9zU3/XtsbdedXLf6HWyTHE/+AylFMYSO/yfldLrat0kFPbmmfWHvo/5HjFgFFN5X/a73x6zdJD50jmtmkTw5+a4VQtbfYqVcQ8KIfN0hr3SJXxgQ+TI/ZlloMX6wAAAC9Bn8hFESwr/xcYP9mxlgQGACae2UsiFsAoBI63OijIkEq8b6DvgU0PiAAAFDMWwAAAAGYBn+d0Qn8bE2dUqHn8SS/ENPIxVYAUG0IGcZG0bzHdMSGEqh3EsWpB0SSLu80ddhUGopvEnJgeiqtxOIdbx7kaM7EWghhaimFAefx+l8YXz07T+1L/KtGUSAXJK3KTb7ftodElhEgAAABeAZ/pakJ/FzRGDenqGBvqdKuVpsZBABajgY52vfKHuOgFC/9H/HUy0G13QBmi/Eb3xRE6ih7GDP0SqDwRdV+eEccmQrts9FmSm1tiAWiOjoF5zOxNb7k1O7bZhc/46QAAAH9Bm+xJqEFsmUwUTCf//fUGJrL9OCTICy0x9ACNEkU/oTz+2LvEWn//64Ti6f0rdcoZz9vgl2m3uNQ34luC/rk7DhGvgGe6UUc+anZcGOj17DhRNq3FZMafT13W5ZNq75dH7iOUvcNUR1RTUXVvXNsyQpWFgu2zYq2wfiVtxRt6AAAAggGeC2pCfxdER7gv7vu33D4lXPKHicv+YuAG68V0TFOyjpYlhBhKF9VOZUzb0ganPXGnHcpIW8VD/Zg0g3aR1/+teJpUUQrBBCUFtzAJhaQhbzM5aEwknANqqnMbqbud5eYrJlvoq1Oi7Jd2fg086z/DM4vSS+1D9v5riOQTZBB+2zAAAAEhQZoNSeEKUmUwIZ/+nn/sH6vyruN9IsAGjTk6PIWp2IPgKh/lgrgpHPduSDPLSm+cHl5B0sI3HiGJZ2yL46MTFZrMkkM8XtZFSdloVkVNDMIHTji3FWdcJ17g1OZq+OhVm6fUg177/0sP2SKkVv/oLK4OUz0NHZaihjRaCXyNt88gF9FkvUaVynTs9ArZ2f2AlicbYhEMwWc1wPNCzuXG8Rf7Nm18c1Gk9lIbtuRXGI59tHI30kGhGxdJ/8jxzc2uL95dus84oPUcJ8YP7tu99F2eIc28VxamIIKHtEpdUlmv70dBfXmZFQsB7yNQyBKa2Lf1ZXdg8Vf27GVmC0wJPn9NiD/4fInHlmIA7T2zCaX7uJeAGiXMy5QhRCHrtm284QAAADNBmi5J4Q6JlMCGf/6ef+wfq/KwdkEyUgAV45k55QVf6ndHKfqP+H4Nr1bX8UiS27fnAYEAAABHQZpRSeEPJlMCGf/+npOyyQJAq67+FIR2s0AMZvpMAOLrRrcoK0nco8iaC9KrkD4O9+XpOGwsdBw6lwz27ay1duxn2ujq0lkAAAB+QZ5vRRE8K/8RQIlCYKmlm+AUAEAIv4r1Kw3Pkh36b/hJcFp0SxdHUxsuPC7qIqgbe4RdGrwiQmVkl6FMvyLzu8mPOOecnbT2Q1NGNx3ATucZz60qV8I5q8hN4QZ4XYk0srS03ph29WqUXq91Ac95ukCTAAA/IgbI9SLid/eAAAAASAGekGpCfxGZ2iBF9l8xVKzwHf2oAZ7JglwdRaTOS2ODTwCuQ9N35hhE+HmnW4ypCvyB/KYUbCsxVdoNrS/QPsURAlAsvRQcgAAAAD9BmpJJqEFomUwIZ//+nlHdQU55ZqzOZUQBWDmoM9DRSYklm36P3cjlRKEtur2/z+nQZR/M7sQfV78LrgjSEmkAAABKQZq1SeEKUmUwIZ/+nlmm5IEgVdd/N0FAAK7Y+Uz0NHZaihjqVgZimqJPxvgJJWp4qzuQLwBI8tZtEVNh/7q5+3+46n3NqGSqBEQAAAA1QZ7TRTRMK/8PGjecTm9gVD4O+TEAk1CVD4pjThJNXlcGLsTe/qcK5jIfW/Z7ogAAAwEBxhYAAABFAZ70akJ/D3ojBvcnIvwoAGvoZKWqGNk+N49/7GA4OPEROxmi2vSWzjfJn9KD8h0dRY3BT9PDW6rQaLkPOzqxNc4zsHRhAAAAVUGa9kmoQWiZTAhn//6eUVe8ADjGcFULKXQdgrerZ//s8m9HDzQ91Hg4B18d2gs+kVoEuDNAvhJLgB8d29+Oob5H8WT1ciLgSau7cJ9ice0MsOjDaMAAAABtQZsZSeEKUmUwIX/+jQCY5lyRbtlO0uC8kUWO3rP7fYGY3wZDQRqC5/pEAmdTv//cDK0Ei/ZCR+7J9sJBPAuvLd2UvlFnyn3G2rToimpZtbZlubQ2p99Q2e4scLd1O2434EN81+fw76CuRSCA9QAAAEdBnzdFNEwr/w8aJ0TakR0zViSgehs1DQSPTj7wABZXUdY5YTijV/8XyqEtDkIhALz8eU0NkyJbX+oS4GE448l5tDtSsfYTawAAADQBn1hqQn8N2iMG9TaOWLAYF3NqYmsvnyQCRDQv4E2gABbCWXiQBbtD9K1yqpEmmXHsRIMeAAAAOkGbWkmoQWiZTAhf//6MzvI1oWC5n/7wJ+pHv9Lx2uMP+aCQAG5rOha6ldQSOodY5sXKsIYrUsAPF4kAAABkQZt8SeEKUmUwURLCf/3xrETWX6cEmQWHrz0abui8399QyAt8KAQfpz//9gF+ApGrczDMMBMNh1WzFOoIEqSmZuZi+xhumczunEl5VEPAEVWTHoTNMN3NITEA7JEfD9Kg8fUzxwAAABwBn5tqQn8N4iPcF/iNIZhhsm+T9gAig0MxGdnTAAAAZkGbnUnhDomUwIZ//p4hc1Ti4wZLrSxTtycaF9QiR92CgL/YkAkD8dLhvm+7sB5NrssWSCgNjj02bssxbwm5CoYRXuHCbsHGatHUVPlaWTcKZozI9dpUkJYFbd94X+K9aH9Q1AndIQAAACtBm75J4Q8mUwIZ//6eIXNU4uMGS60sU7cnGhfT3dY6wVFLF9bnhVgOzPy7AAAALUGbwknhDyZTAhf//ozGplepy6neUEVv9HiSDZ9luAC20oP47Z2sOdtxAW57GAAAACRBn+BFETwr/x24DOOimxWwscLHkgFvVni4x6RYbUr3EByeSyEAAABfAZ4fdEJ/JRjsyH1U0orJLDD8VGAA4d1sc7XvlD3HQChe+TWrjXeSNrugDNF+I3viiJ1FD2MGqpY25mC5JBkyNyTy9rpu0uPRrmwFM7kBMFdVoXRDx3hEsyGCkwNom3AAAABcAZ4BakJ/JXjk1TYQZmkv7TxLIvHABw7rY52vfKHuOgFC+cNh0X4uo2u6AM0X4je+KInUUPYwazsJ+W9HM0tEhuQQZgmm7S49GubAU1IizpbQuiJBkCnMyGCkztkAAAEYQZoDSahBaJlMCFf//kNVRPz/2t0Nf+G/AI0dL1+FaLjFmpyTvMH2R+cFXmFv21qFRY2sSSBjHas8x6/pUozE/l0hdH3x6IR2RyeSVzSXmrsbrDGo4XEUIaT80TW9gHLf4kbxPx6MkA8Ibc2mujbiempzlBEsBVUw5tckndSppDGRu+c/LPL6gEorNm6P8v++0Zy48/FiJdf3Nt7+gVrqax/00tTfC7SD6vkKJReztyJ9OOUJkX2gETnsnqcJpI/MLI44fIaAghl0I2BXUx0c+FT1YBRjJiL98agIOpJSlhc5npowmRjr0ftvW7+mq+WBgUfr6YDUk43T7+5u55doqSnqEj8TqAkJLKIkHwuciUTOrdO7v3gwEAAAAFlBmiVJ4QpSZTBREsJ//fEoGH9sIAI0fttbSS+eXkvnr87vad1/aLDPLvDQ0+L+N+HpqLMOUkhpEuEKHbqFRKq/Wc9CUxWn5vzubbqWJc6gD8EexbfgiAXv3wAAACUBnkRqQn8JIdBpQVRDQ4QnoA2qhCEebfOShr34a9ZqgaRd9bpBAAAAPkGaRknhDomUwIT//fEkBA2zAgA/dYs7nmuwsGy8dphrJ9RGtGyfG8e/6AzsK+Rat/BOGkHAT1/v60U+53LBAAAA10GaZ0nhDyZTAhX//jhky/waTosBm+dHY3V6t8NyYzkuZtFPxzK4DvXmOQnPjSvwZRN1UceD37FSgfQKUbndJX6C1IWhc83xmunuhEvht5vroU+HZprUc8cYik/d85tSV5uieKGu1tzjMO0mV/7O1lkYaT7ThHU0zAPjCazbPxb9g6V7TjaT42i86gYd8aUduebwzirMGJwkhwikhOcdWa+nDd4qJIvOLrgvRJuGvqVLMyUErB7gWP+/yaIvE90RvkBNRkfEKwmmwntpqAtns790RcRY0hdRAAAAe0GaiUnhDyZTBRE8J//98UgPHSEAxoa04Lv6GJ/zf7eo2Iyi9qnhnYtWzCHm0ZnhsvXCti/s46DHiRFlteZtqJNLzsoz/8LcMh37Tg4uftXAMLj6xOl7XhtbGz+wnt2nNpzes2rYTxcocfGAF7hqiOqKai6t6v1u32jXKAAAAFwBnqhqQn8R7TcAmk6eEioR0DRlgwSYepkvTjSohN0GC9kp+51ftZBwvm9vynmY0haIwF7RE7Rmlz45vJ1p6/1LLQgrqZSWsHJWNSFKdxTrniOwvWP6IUMtHSQfEAAAAE9BmqpJ4Q8mUwIV//44YRHvDYA4XgL6EaoFaGzoCqycLZBbAiwxW58wfodpUAVuAC6n5N8hTpv2EQIYZTQPomPd8noehGTWnMyiZXT4/YeBAAAAi0GazUnhDyZTAhn//p4hdKV8jsVdvSYuW0YqSEyDg3sKSPKv436Jes0oVjGBGp7oTygrIqNLeJsU11GhE2KH2xSio+i35f/MQi5v3OxB157KQWa6yCijXlTCxLobg8vmMcANZUJIAjP0JxRy/Kt/UhDeYc6RzzbUp5mbgUxGS944BZ4jDFnfr1dQsoAAAAAwQZ7rRRE8K/8g5JniaQyeWe7eZGUsB+4vYPVkwA+X5Wj1SeL22tDYbYQAAAMCI4oGAAAAOgGfDGpCfwxk+zjfI+ejIiXpvRC26wBA8LomLPBg7erVK6AcsTvxi+JA3UYLDFtcnnPq0AaJSHUyGEkAAABVQZsOSahBaJlMCGf//p4hczXlExZGUqIRkw1f7i1zziuBFIAbqKoM8oK0nco8iaC9Kqr2mMj0Tf14/K76ElcKAvxTQazZU8GKoF2r1VzndGCc/GymmQAAAItBmzFJ4QpSZTAhn/6eKix+Jd2Ku3sVuu1nhhx8WCW3qgBtbwWjgPmi3nVQL514NY3PeHZzmfSGmYnH7RNj9iQAAAev//f96QWojNZnu80ggBDtXjdixsUgBp1KzUVx94NR1f/vyaHYEB7l+Qh8M04BGPcvYE1TPwzbGsMFrDVwwGK/ApvgfGmFBCwRAAAAMUGfT0U0TCv/IOSasmkMni7L5TJ6ySU7eSZKbzAJNQnrmtRoHBHERyhBeuAAAB2+OtAAAAA5AZ9wakJ/Ddo0Ry1maTgGy5edVoAsfx1hCqZ48oqgba8JGfRKxha+aGbXSaoRhbAehpWa/j3BtNnIAAAAbEGbckmoQWiZTAhn//6eKiooUXlspAArtj5TPQ0dlqKGOs+zLuTDsxJ2k7ODMP9PoDbX7haSfCfXcovcaB5SOky3VhThmHswIccm/qLNq3lb2STGDy6MQ854+/u5SGq8/zcJJmI6JnTGAP9pgQAAAD1Bm5RJ4QpSZTBREsL//ozh+iwmwApNw7kCM/VYbANp6kL4I4/aFtVYA6OnAJu8wRlNK+irQEordoLr3W7AAAAAOgGfs2pCfw96NEcqGXwKEAcpklLVEcQJ5kT5iezv2ZAUBa0fUA/rb9CY6IjOFuJcPXF9aV/M/P2wO8AAAAB/QZu1SeEOiZTAhn/+nji6uuqO8wiImQm+Mu3wyhin4WXG/RL3D0V4tEGleTcoKv9TujlPOx8FopsSH8q8Hv//XjOx2VDq5rEdDLiCrzRRKDQ5sH015PJ2eAEfktWouR3ku8zHL+NfPzn5IpjsTxEymEk4RsOvjhFUI/qRSMqKYQAAAEpBm9ZJ4Q8mUwIZ//6eOLq66o7zCIiZCQCg2wZaeloAIrDGzHxoMHz+b0+8+RiN/hs9ap94ihBtrezSTf6NZNTRuiZENNH46R+HrAAAAENBm/hJ4Q8mUwURPC///oz/FlhNgBSeTHlsBMXpZl32prTxAETGqBSjzspnb6TJz65AkiNViiKomorwWnHoNLAT1LrRAAAAMwGeF2pCfxF8lEcqHg2xAPtmgAigwAz2TBLg6i0eojMgqhnQ9/ZXqI2rAI8EQvEnW0tGzQAAAD5BmhpJ4Q8mUwU8K//+OOHrlsyvKMpVwIGB2c3W/buqATHixcyxnVx7Z4wjL+1b2buYHeTUaWQ/mUs3wP6bXAAAAI8BnjlqQn8RfJQU1ffB2ZA/rW8gCt1VA4I1S8RqQqa6yIssBBen+PepLIb+dG4XoRY7F+qXP5wR4jhfc4TWrlZ5eoBDQNeWCcF6X6FjPRb7ZgtBktZ6idbQBzo8pdHc6Q4s6fK0Ie07z6uzXcWFHQALmWUUsUdj3BjSyBgu5KpEZ2zQM71gdV+l0dk2DgiC4QAAAOVBmj1J4Q8mUwIX//6NMU/RyV+Ck8nSG4ABGH7F0o844Jv08DtZAJFbrK8w1N60XVGi8jYs4RzM1nqT/dRuqnRG7r1V/x6xVLq+57/+Vg22SAN/yCpF4zISQ3p5SX+9Pz5h1Yc1VNKfJSncEydc/F8MBciC9p3zwlGlLUMPry3v/P4fZDpTHtBAbVbX1TSU0YPmHdBWbUgpbYZsGa+bCntPfIm8IxMG9AZjjucHLvGw2XtOYbJBoZedO1Gn37tQZSmIxg0ejluZjiCk08YZiGELBzLt4/YP0vyWDodxL63ICC9bpRVwAAAAOkGeW0URPCv/IKq76WdORgIxD9ZmJfCNcALBIkWOtRoHB5u/sjNMaM2qWRrnvnjSuJEjaMLgABSUYSEAAABIAZ58akJ/FAf2cb4x0zADb8t9Gb8vsFE/2OlQrNqrACS103DVEdP3zx1jKzF9mjQKNIEivBx9tBrpIyTpwQHobvxDmUNkV7ihAAAAVUGafkmoQWiZTAhn//6ef+rrqjwR2KjZ/wlA7OPouSSlVfs1lUeTvQPYmdBZY7oTygrIqNLeJ4qZGDhJLeAtTBtAl+KZ8ChxzFlYu1ZUdg38xu0zI8UAAACFQZqASeEKUmUwURLC//6NmJiOKmtxM1KsN1BaJVlGtXbQNAAc0dUClVngMSDzal+E9PYIm6JTtDUNZbOXg9bgOi//3+736WVN9TBFokiGXsFEJEP5QZLoTekiZMYpag0zyj1d4X4YxITx/eu+c7bX3Gbxt9G4/VzILAdE1nMVDEk9XMqmJAAAADYBnr9qQn8XNGiOVD/p8OyAN131SrcSphCAOW19RGudZVv2C+60/Vg7OfO34l1dUho/o4DDXiEAAACeQZqhSeEOiZTAhX/+Ofth7BrJCcKHKOpwMOC2QKASq+pp+v7m1/N6ctUMy1uHq07NaGSPm7nn/6EavO1apSMqq8JH6se7V+svhSUKd4URc6hvbFVdBCAMeSYCZO+7yMFNf4p59N53vII3k04MT5863n2QzUbn2Us2LPln61X39L71chgIaAKNHCBWQHIq0z3ophWCcn4J9vIhLXzAQkAAAABNQZrCSeEPJlMCE//99Gui+jaNjyzrvtAJoiEJiJXmSd68pLWcR53esf+Cn1pMUqZVC3gZOA24aojp3u7edTZyUDRvgYIyZRPpemxoIxcAAABRQZrjSeEPJlMCE//7M/+D60LamFs3rnPx+ANvy30Zvy+wmxkDzBayXNncSSED7Tc2ekpayfNzjuYHzdGjm8jTstJFyMhc7tKpKvfoxoWWaxWAAAAAOUGbBUnhDyZTBRE8J//99rdbPmgVwU3K9+y2/1510/0vSwsgFop8S1k9Ru5/nolDGf/ZSaBIclo4cQAAAEkBnyRqQn8bEyiOWluVhkAcpklLVEcQJ5kT5ie0S05v3OXx+wVeE0FjVCDeCTy/SAYYdHlVXmtipqxQbdW14bYdybNlM9u8TlgRAAAAm0GbJ0nhDyZTBTwn//37M8t17iMkeYwLaAtARBhEEh+wBmDlO7ws1LXS4fMTlB8RUbAM7GMQouUwzULDDv6njZE/Yo3XdZc2VCl4/IT9YUF6Xd8ZWu982For+pLrR3LvXcTrI7b7FgrJ2C/w0jcEmCVCYr8q1sQQPh4eKErdKLsVwYtZxzfb7UFHtKpDBYJWHSc259pF2oPSXtRBAAAAbwGfRmpCfyA9VTC0Xvjo8f/JfB/pmcDPU0Amvlvoyz8o3mPIA6yCr0/2LWGT4xBk9sUDXWn60L/p+45uaWk+ME1/WClivKJFrpCe/89m4ng0cBdFrpLAmbV/cZQd0g9WTWMlh2xRjLE9v2fCBSvHOwAAALJBm0lJ4Q8mUwU8J//9+/cu7r+qlD2mEkA1P+bnrnTveG/oRQWbmfDu0PFf+TCuI2t00bbFX4eOIpfmgm40WmbO5Jiaytgzw5osXtVRbV4IN74EuoOE76Zzd5pfSDsQlx1JqyH3xHWYWCigjhbRvjTbo5FYYCdEp8esQmzY0a5qlK0UwGL1m/YDEMiR2aGK1WWIKC4kPvVKIx3PXkgO4dXZJZtxhBhN/vUeGWJpwb73saWYAAAAdwGfaGpCfyAnxyIaovsoAAa9+gOeudVC4EQrWNqirJBM4gIa4XhWxeQcNs9cZLoxx61fzutAGDk9FqPvvSN6wdeUfTAdVChMHXYSXNLgryCNXbZOvrrc/wHwTOntHa/9+KzfRv/tN6GJY6teSexC8CHDwfOz9A7AAAAAq0GbaknhDyZTAhX//j4yquEfUwx6AQRPoLPfJQxB/+hV862P+d+sA9mmU6mo0KJbpbVa6BWPWlO2v/hCQFyClW8fu6p/Z6PoAYq9JEik/O7EzQxW60tCbw4P5wOs4Xm8036C3ZPA/fknGhQfHnsiVfq/rzBjerfrQB+2i30uWp/NumtPm+ZQ4wi9dmMV+//01l3RsOJoPtyrz/C5WrKuHbEXdRZVgfmCplMxgQAAAI9Bm4tJ4Q8mUwIT//39S3RjjzoAg8x0RKBZrSa6mL++2dOw5PFT/42frYg3WnohCI13OlOkBVFcX4HnDSXt4qnBBqjVeOoW1/kvd+txmTpjmNGnNB6h7TPTMK4z8SXRcD1Qjr9jZ074u4CNIcPTdXU+MPJLgftlSREhIW7u2W7qvJPwpu44xNqq0M8vLI91kwAAAHtBm61J4Q8mUwURPCf//fe0nUo8dUXkKXEmYBEU94PnKquTMd2+f7Q9v6zLzrvxUK5RYwcqC63a1fjGxzUotdQti3vgtt6jzQhuZk7TcTUOw6Ig5dQltjYCxNmbcSF7OH2zyWjkU0SfzGZTdvWJq2vyFZ67XBpVJB+OqLAAAAA7AZ/MakZ/6xrT3/U8V+IXpxuLZuCom5aKMimnXCFxg/uU0xh/IEBHal3kHULuRZh9vg3wEah3LIpJPSkAAABUQZvOSeEPJlMCE//98QTK00m4A4/rCEs/j+rn6STpuOjEU76z7OObAboYxx+nrmKSb9EUL459j7pXL8knai/mdkU8jDtsmBpG3vQBIu0qvSKmclFNAAAAdUGb70nhDyZTAhf//oy9+dzAPn0tFCA7vtAfCnQkYfuayrF7uVZmV7dWSQ4kp12U6BDzCqO3rdb5MQ5a9Js9oc+GB/xIag9+kCOGXQJaxOiUdyt4m/7I8QYKL0MF9rfDYulVoDUugLzWdy9eiRd66OdZEA/LgQAAAHRBmhBJ4Q8mUwIX//6MveGTHSGe5YArRicY7R2fTy7SUglrwc4w2IuXGHiHblw5rltB37krXKJrpvxhSMDdNFxQkoIdIGCzgGiucRtdABoYe7VsCYvLsXSqzsQIM57zSaS/SkIvVQJs5klBzmul7ehnPg7eMAAAAF5BmjFJ4Q8mUwIX//6MvyUYrosgAOXvVxLMVFTI2+57qM26gchasAUc3UMc+ccgHnoL1Xri0h3OPM4DE7KL9JcXxS7DUClVnYgQZz0VmjmCZ51TOFQ+X87Rn3jBRBfxAAAAREGaUknhDyZTAhf//oy+D2LGJwcBVLQ5XeykphoAWH1KPCGY0bzINMa2nJwMZoUYH0y7bCaom5rbBecjtjwlHEvyi/aBAAAAi0Gac0nhDyZTAhf//ozF0V6bAWhnwSmjrMFxsPUYGuz3QBtVMg9s/pI1XW3X4/Brjp3/Zlr+YKrsBKdacWhfke+3/16dCewT6hsDnbdDV0KdfIVdPB08oJ73Veh9PMKorN6G6ozCkjW5klik59p7/TkXrAnTJ6PYcd3DoQ0xtB/0Pt+IxhLevj3CATUAAABiQZqUSeEPJlMCF//+jMQnw80g5AAIvbo5EDl66/GEdg8puOLnob6Q2Q6t6Yk7MI5vfGhe8s3qsDQYkUdjrmZEgBnvyFD7MKlV9qy2joc+NkYeEbL3Wy3B8e0rHL1umCmcA5YAAABJQZq1SeEPJlMCF//+jMRz5YNyRO5eD6AOV+gvslEztCH9CMABKhqkzhybb9uBTh/b6uHtvLTh5t7/B4B6EVJ6g2BcwFlS3aSsJwAAAE9BmtZJ4Q8mUwIV//46TvsACeJMpskfN3PP/0KwIPuWtUIRGOloaNIVEoM4IJrK0mHBhOPob3njbIoAdYbg15q2R99li8w6Tw85OhKA+kzAAAAARkGa90nhDyZTAhP//fbIE0AUAhdExGaydNdTWf35FF1m4jWRqpj8q6dOLjTU+rq+5aPvGKKk7skS+Rq4wgHKvuWCSiEwygkAAABBQZsYSeEPJlMCM/+/Md9/1PFfiF6cbi2bgtZWuiqhCXuo0FnpManbgJZVzADABCwKjAZGR8wIhW/dPUe6n+LJzKkAAACAQZs5SeEPJlMCF/+CxXirWqN6Zn/L2+Dqf1h7MBOc1OjyUUjlUdgEPfonfPYOTX3OKTV/av0nQwI68QOcigPB4n//ewFaRvM9pQyYb9QEg78lvH3IEvmmasUJM26NGg/YMz1jGK1pIHSbGi/R9wOg6GWur0lLOaP3VEgeJ5FIQmQAAAjdZYiCAA7//vdOvwKbVMIqA5JXCvbKpCZZuVN+z/AeN9QA35aCS69pGksDiUL/4FeN7R7khCaMKS40TKE9siKe9Y+4RVoDRuEcqBI3cQulOza9+JkZee4Z0fTn3gSTRwURb0/nAfn9Ht7XXADvK8GHDkuQYNis4c1oyeIynPuizdEaZSV0l2BosG5Lv+2E2clM2G8XJmguf87X92iAH+YKh7RftmJebGmxahdxc+6TLDzKnL4BIdowp4WHtOAUTM9/VpFwsynCDeKVBQVVLbBSm+fg32w29KB8M1hzpB5FV1Ta32jQF+6H4jp1WrHg8tWiqDuQq28vgd+ESfbiInWaInorOGlYmRbe3ceHtSR7PMRHcwCLkJN5KX50rO9C622Z3u/xaKe/53Tuxqeg1jtc2ayi/mFaOIZFS/LWOv+fLPcpfeMxYiMIsIpG/+rEDVv5gfzVOnn842rVl79vs2xrHFYnJAg/MbE1j+Hj3tkvS4wobHix3E7oLYEd9K3BindhopgXjegCOtLzYcatfF5B1IHOFmabgD8qczNvNcCI0akyRwh7NLY0arG/OxVKmCQHn8XqRvPjPVEy9Ujs66F/4k58olr+T15g16yOe8oJEP1stXdUfML5eeTPyAhbyZ0orfD6oQmUa77u7F9WWOCee2pttweRWhk18AAlxayzvJJUVwkCHvVY5qqNrBo/2MHc9s1ua2tN9bmUOdQUxwyh1ZTVzLBGUtlgAIyYGIqd6n07K/iRPys0xkSA7bqM+1zWJeLzWiVCEhAuU5JLdJG2Aez4t3JoSCU9h7vl7V8lMJ2dCF1yBJnOuJ7chYRNhRzR5VsvmqbkIl2NQ6593ZUOeMJpQtuW7R8Rjgg5ujjW6DWoWTJ1MofnektdHBZYgPjuIF+bPLZlE7RyQTM0ydG7mfKZV7Am6bN0gYj/vSe2bTkYdGwpN7bImBSs58qGburahblKXrD+IoS/+zYNc/a/36nOaUiRHrwsGSjqqe1FcsyTQen9lnOw9QaH8OXkw1MVtdXvNOSSkc8Dgcpoq6hyEAYt4RFnvc3olImpDcy3AMDnrCoYozrFeKqf99FZw6aFOnQlTuVgZpEHG/ZxJMkcZW5zYNLNlEPaMz31cWyzUWyCz+zggV5Srt2eYwT/ycxJu7GmLLYnrtmWCJNBt+zd7G/itsWsLOmtt++mCrnLlzuGDNMIV8cWXxgyO7DzbIQ2WsnK/sSVwmON0Evw7bL47aeszgWyO0RXtiC1yDBnHSK1kcnvA2JFsYvTj/qoF8bG51BmmfJDTjDLXgm+Z8bRaQAzHFwOxLudUY2Z/X8sIZRsgnhxdOAh63xYRIdhL8Cw9D+jul8nj67fWrL0gT5ohgCIcLyZbHQ/ViIBpyJK9jZDv1xvU77Bh3Gzg+J/ypWqUAjk4svm+Ch+Lt9S/4/487S4QMaTwEXzTf+KX6yJNXDRl0ju/FjXz2sXUc7SJPMa31V3UcectY3HpJBHXx4DQwU48C/9kOLtj5GskZxkzXUAbxagu67J1syxRgtKdmowkVohZiJn6Wx219g/l2JcelF+Br+PLLyrx/ZRsBYntJzo1PSc8OgCpjlID89sinlB2zqFPg+9BWIbaCsyKkndCx6NsTaE5Bfg2xi/QyKpX1C4o488KqlEBL1QblCHro3+y61LgWHFKsTf8wF+WSYynQHDTQoRetxCk8lfY7Bbg7IH15uPyhJ+ZQZDuY9Kq1adjP2GAsDXrISKbFgMfXJdkGESlAHezD9BEKpmYobWkQHJuvB4oSMzw3RaakgMsTkjiWyk1D/FfRD1hyH7iOb9otFDzZU0EMKa0Z/46DMSZIWzGnjgffALM/vty+CQOEWAQmASjtwYjs/iHwzdIV2appdg2TzqlPI/3FVe4JzLBxCejwpy8+3txrTCbNBM+oimlIfpz+3p7QF3S/6HiOjTcjLjrIo9QDfTBK2ACEULaYEgKTrFKnkLkYfYiB5/hE1ul+4/OfuaeNY6PB4XBXger7E3wFBDPchKdMJU2VT7yCIr7LiZkSmgwmdcSdXw9iuCAl0IMLozW+qE04Lw1E1XKqNFZfpfZjp82z9eayMtLQdsTKN9ACc5mwkxEjaww4yAgrMQsdiMhlCAAiZsq/58KGgT3Js6kFKKk8wuFjinvLPjEGoAdo1F5+Ix78YFv8oKcJvKaVZUk2ehgP91J59BY4QTj/qglGJhUN1uLdHVYglOw0uks4DH4w06VZwMQ4GeN7/hUTvxr/fkHo6ySJ6A3scMomKK+FZFWulakzwo5ZHlIlc8gSDrjXkMlYG4RjdtuBHTqtWPLod2psMAgSY07JmSuq48x5EKmv/HbREtIVjb8L36BivMXdd5GvDrzGk9MIvtRVb88jhpAvIv4p7Pb3T4gYEQfnUkvoEcGxDm5ZFV06FgbG07TYennIbYYiD/23c3yerizLCnlCwYcKURQUeZmpup0gM9gh3zhpsLjOdh54seaLaBMm7/vcgfI3IVA/Ucm4BVP0dPZcT+9Fq0ogHA6wVctaVx6FnPu6MzR4UtEEWStgqeDNOgBcd9Fl/xMK8ApwZN+xK64iCHbu7reomEbkXFtmBOHolV93+0bxkuUZb89mRrUoEfhOVWMGMsHvP7W1Ben9ziJJLY/i1FSf0NIUYZ9Nhcw1tmasuMrIONk9z8erzFmEnn6EFg750ag+UEH/SFf+FNH3pLE0AaxJVJaTBWLuGKmqt0RFAytWJPs44HnX7P+aKVR0haK4p+x9kAu2YJAKUBEOfULz2Oc40vS4d63kZ/OHcHE87NsKHtqZCpin27znwqJ+cY3XoVnbY3WmZRoeAc8mzOIvF6F6bx1agsS2SMv4sArV5PQJqdVzR9mguBNVMF1uzYIs8yf3RC/BbBB0qCSQOLcQFg8XgUI4JFCnbYeh2MrBJwvRd+3acOq9fa1NPYEi5TGqNqnqLAgbpqQN1EU2l6E+oVuXX+7UOp1Lx43mxa1X2gQYtMiOLjP1rso4pZ+e6F6tPn6P/tqtMF2itdQlimwQAAALhBmiJsQv/+jpsTnY7sdWappS212amgsZxCeY+VA4mE1z725EpZMHn5W9UdpS8LSYaK0DJjRwCbvNDGVqJ3NrphHMvvx+T8z4Xc0f3HpT/Oe4mg52MCD7MmdDP1MiOQRm1RB1LNo5/KHcBGb4q3M2wPnIwbl0f1mokotU/ti+eSO5DGELEc2ocuu1/F54DAmqzlclK7KpSN3iBVIkuyBPuC5W5bqUOpPrxH92liCo2XNMeNL0WjlIfAAAAAhwGeQXkZ/+sa09/1PFfiF6cbi2bgqrOOAPB0tHy7wYk0z29YGW9E/vJBLzFh1xwVTQ/s0UKqBofmwD4b2dFzA9jyo1O4LslbRY5bnulHHQr1vvcR4POU0d2OBQU2kaKqu/2GhHuOJdFi0obj6ILA/b9KiVkr6teuiHl/b/RqCAOiKEoJEOePQQAAAK5BmkM8IZMphC///ozh9XWdAF/C7NnxeqMJNwTscyB/Flbs744EstGKe9Cz6ko/W6ZDlUGP0ikkrzIs462w+wnov6vtQW7CKSV/x6xVLq83v7hvBakl7Tjgg21g/+U3UiAY1p9AJZfAu3uJqZqFOGSHstqX23cr7WGQkXcGngXtmmk2tC5mqy93jph5F86c+kg7NvlR63NX5LKAXB8NOGJ2GArDleFwUcY2hgwl68sAAAAzQZpkSeEPJlMCGf/+njk+Y0hdopVh+VEh7VkiBuH7KABc9qb1uFtJu+yGjDIRcZ8KjsCAAAAAy0GahUnhDyZTAhn//p5Wy3e/I8IfuAyEOyxuAnuBdrVEBDG9pcjDHQn+Uzygq+CDm33WRuUp1QNysv+if11TRbZzPHZQyiChs9avmQSjXrwWknj2fkgQXf9XlospNAGAYN4AO3rV2gtJk5YP6IoZ+1NYG/eQdw+ojiuvXmzYwfYiUvaZei04XHKBmyvIqn9DXKlCrCg6+ToZFBGkxeqgHwNcGf33SQndswdYh3lsA1y5VjQYfKHG/JwnjyFBstI2rIezyglV43Gx/hZgAAAAX0GapknhDyZTAhn//p5Q1XZ8/BuuidLYWthCAI47yc8oKyftHriY+T/UZRMf+1Us9L0Fv8CExIUlxN/TXrBDL1U+FruOWaL87OvinkpaFLQvj4/Yu888q/SdwiYq0evZAAAAmkGayEnhDyZTBRE8M//+nlDbJZ9qAbwm7JKVcBkowA23uICrFmoM7XO2AK5U6E8oKv9TujlPkCWJ3/E57FA2evvys1Ld8M8gGUOMSrKwXIj2UjpGjEM8LG7YzH43kccekqjfD79hOi0/azm4pBBR/ZyigNzgTZqXkt1fJeWfGJ1mwgnUZ9Gbp4EW4i3VuW8ZFv9U/z78k/VflOkAAAAxAZ7nakJ/Ea34meBT57aR34bX8OUZ0AWQpM0lzEAa9U6wksMppWXfVN4WzsaQ/6s5YQAAAKlBmupJ4Q8mUwU8L//+jTFMRxU1uJ2Ohw4uoANGOJOjqZo3lAdNL9uIr05+byUcyk2ufhci7okU/xVENIWSWgkK350UhnxX/5rVUckrvinUkluSoor+nhz2Lms6Cm5Ha7YHEzD1LH/LXKZDQX2Sig+4t17fYjAwsOx2fyZqhSbosQOn6lThowcSRETkvzzpnyGj6f5z24nLnR3vEEkzoZ9wXxCcdanzIM2ZAAAAhgGfCWpCfxQH9nHYAkAE7MAsp2UrPTFe05Pxp2mk0wMf5lxcLFK8Zw94LfH2XLBxfJ6D3vvouV/XTcoKZN39oAjta3A3T4vfovkis1LpJ7A/weB/+eeksMN9dNcObYnZUjfbHQ1HsnymBwUYdtY7LLBznEX070ZfNr9p/BNOf1AFQdOIDuLhAAAAhUGbDEnhDyZTBTwn//3zAHiojiZZp7noACAFAejJ1DmM9cFFL/tb10v37ni+J4he1S6fGMP8VMeKjjXwC2Zmxxf+b+SzVt2uq/CqXgQ5io5tPh2NOK+k0JOB9zPjFm4ynliPeS7xs+1/zC+6YF9503NSYO1Rx0PnYe2f8fFoFSE5NjhgEEEAAACOAZ8rakJ/ElldLQJqMmgAuonk8XIzfrJctTemjGi808Z5fjT/KGxuD2ZrajAOL8S1RHWVb9gvutP1aEWCFXrrS+hpFAgruG8xrEy46e2gOMajhNfk5NaCq7rLoPdCSGSfwJw8DRfS9NnQL9pyzY/4klk3wag3kbjRAJhie4xB9yA05SVL7g/qunZpUKrMIwAAAVJBmy1J4Q8mUwIX//6NmHw4fNh0AIxUYZG0Nuj7OUnt5rdndz5v4MTYUVODpJTevVbIgyk9An/CgNtb//5vfFwgPd0sdxgiadmM07d/lC+S7gADWhbRq+8AZ8DB+sn+4Dw9PoCwvnhny7H0Xy7fvzvknmce2omwRt6x/H3thuMZGabFCQMJu8siv9S1ldXvZ4TSy5TvFaP/jP4Q0JOUumQtXmBECtNjrCLI9qYi+t54EsRTjQXfcKcoLGlYSUngmSuLPBHyN1KsNV7/TjbIObaAWQgetRROPoDZtndpwLD+QFeUx8sTXmpMeWKbFW7VsuMbgAtt+1UlS05m2qzcPJ41vWDP5aGBLmpt2YJsZnA7teT1Wxt8qaRgEIbnVLIni88Xr5cVYL8WC8d+HFSkgAGXnCHDOt4TQ73sgO54sO7ejTewQFfII76y5/WLQJ0D2TZMwQAAAFtBm05J4Q8mUwIX//6NmHw80gCUNLAXf4KABUsox6jBjxbjqoF3lW09wPNByl5i+3Posp92f9G6U62/rixyqyXLF8keAA1WB2ygyV/rrP7MP1Jz80Dub4RM0K0gAAAATEGbb0nhDyZTAhX//joG15qo/nTYORAIIn2LmWNA/LiRyHY+f9pe5poQK1dp3Bzyael8qM1yZIwT78OSGqhzuzNzM3bgAI6PctQyE/8AAADmQZuRSeEPJlMFETwn//32t1s+aBRC4AfppmyTWMJrXvrRICHNz1zqoXAiFa8kzjH9tL0BF4AWE3u7xsbcXJy5kDKlGFV8fkQa3pS5E00irRf6P8IV+Nner2np9evVd2slzC1XRrfMBbv6eG3fizFQ+O7zmfU1RxZOpflVoLoUa0hZuX+qHiHT0ldxsWLj4uu5GRUAC/2N9rvNkPhMZvmmp/GPZWjGF++GaY8dF3a8qKJ3pjck6AJzptzT4vDy+GnbpCXKKYc3XxbRRjlizA9kDcNr9rT/P6UcM22gP2dyZzJVE4gb98cAAABBAZ+wakJ/G1YZLFyqpgTkAB0GSUtURxAnmRPmJ7Rfhyfn54mIgSuiXeN33gR45d7ApvaOaPAnoACRTbcwIRuGn+AAAACqQZuySeEPJlMCE//99raQL/SplPx+ccQDU/5ueudO94b+hFhC9Svy4N1tC7zUGmdZMfKSvonYqOj6Mb+hmU0dd/sRSSzu1YqZLXFE5yvOghsmJPZJ65+dSe8oOqujie9Z4nUb7gyD70J1EJRIJ+IM4ecRh328YDVPy3hgevaIjBQH609XI6fDClRIVeBQIzrbafZqwXZD4FtlmtsTl5ExCJTqa/Zf1WdM98wAAAC1QZvTSeEPJlMCE//99tcop1wXACMcKQtmdR1df/TvYT6yAnwKVlS6X5Z6sfjI03blwIL8UF5QgmNDEGWjeqDswV9CIlRtDXe4W7Btw0+SyYYblQ98neseL1d4BdxLd3DouXBJYpBUAwBfDnkMkECi7DTnPCbWjUvGMsEu2SaqDC8eStr0TpL2ubGmLNold7zltTgBIPA8DxoOtmoFAT9eypxwu5K0Pw27Q+nwsSs7PfM7E+im2QAAAMVBm/RJ4Q8mUwIT//32ueIkQOEwE5NwyU7AQ5LJz+iBOwyOwpqUZPJhtftFREzQ7p+KDAC1ajp88k8bg7QT5KftMDUNy2tjnQr1o8eHMSEXAkgdeHrEZUmozlcLDz+7FLin1vzcD9k2vMW3M2RpdZJzAup5igxkKCU+LmKHreGSdsbmM14f8ZvpuNs2SC3wA2PICW4BnwpfSrDAM4aVgBobUG9EnVlsNswI8qbHMDrvEAHE9Iv6LBdcd2UAJl5b4rzE1HcA0QAAAJ9BmhVJ4Q8mUwIV//476JeFWfUWAI7VDve0WFk9lafKETAx8sa9SG6QBj101gVVjwE1tMAey4hL8SMZTyEQ4iaRROQLlXjTIT8B4YMi1Y8F4Gif8m1hqthO8gd8tMxUsDrgqJHTozhAlsmt7dqQ8RkkyaPphFh4SSusmUXK65teccP6Mbpaux5V/7dxBdO1zlL41LqM21oGP/lUPndA8i0AAACEQZo2SeEPJlMCE//98QDO6but//gRJWN/gt0vSIwAGfBB93X2n8VWGkylpziCI0xTcBtbyz/72XnP5ucTewUzuuejbiLo51Ia5oka1IjP1gFCiNvLBuXuhqVMC+UnvFF3gnoHpfGLsyJGNT+qmdmTsHLnv9pRZ+px25xecnn+MusH0Z3wAAAA3EGaV0nhDyZTAhX//jtNV4XfuxwAIdtIrTMrfRVR4FqTe1P8NRiYZJt1HtulR6ElaeWTFGQ+k9n0wi05VrJozoiYH2u+0RtNX9Pv3lU1ZOZQJpRouC+AzvTrrotfFsI3oxF1sTcpoj0qw/i8OcwUGtPTdnDGlOsJ1qXe3kTgvA9j0uVSv6mFPuuP8bNaygOIFY6EAiXMaJOmuJ7shT0l91f5sEX36MWbclVGt0dpGliVp64AjcLwzEJo/Doiz6Iov+IMKpub2FRUUJzis5Tq/uSw1dpCHCf7BqVW9OAAAABcQZp4SeEPJlMCE//98QCe3HEA0xclLVEbAR83cNZm9kItOs/JdAdPicKg/75WoB2+WjSwqZCPro4b/OR/hMmfUlW/4ljGAJT02R7tmkcJdVvxIjWYbWqFu03PpOcAAAC9QZqZSeEPJlMCFf/+O9hY4qgA43b2tIDtwwvVILJGT+vgLbTioMEJeBpACbeJN0rXZzIm0xYAjfkIvH9wuPb+oMkisOoIQxA6JUh9jFMxCXBtbtQvovXMLDNWs/9iR+HrzRcpEzK/DH/gR6Ggiuik99IgJYN0JPEXkfByQyQLg6hPiGud35Pk6H8IsfaH+QFx7XJHTFQuM8LxAOFIWDRMVSXyrfSh5gfOZixUSHJXqYtNQdjVXwILsQH6ISggAAAAakGau0nhDyZTBRE8L//+jpsTlGfGp1eCAL1w4BNkMlouVSpLi/+JsaVxLnafs2kY/mQ+zYGxDRVczkFCvn34ci9Ub1REnc9MHzlbWxMewk+NfY+Z+nyb0iKW2GyFZ/ytSmEXyf/4mufbO/cAAABdAZ7aakJ/G1YFOJQmgA19DJS1QxsnxvHv7fQRbDjfmuJbPtcm52bS7ozbwWAZ0M5L9lCYE/zeG2HcP7FETIlHhEsD1xJS40lIzZNGMkE6S5jOmntqUQctz/gT6QrRAAAAVEGa3EnhDyZTAhX//jjjYPABfiqOm15LoOwOwm3+wjLwk4bX8b0Q/5if8KJH9NhUZppWWZdguZku07zWIp1QVi2JdAJFtMMhWut/dXaBpTUC8S+w6AAAAHtBmv1J4Q8mUwIT//39Nazz4P+MQAsAGBaft7y8BYmfNREk+PPo7e0T7UFBq04NmVK8yffYjJYuL9e44CH+UdNRgPJKIOrBFlDCwuPWiiE+ondMBZb2AhchGb97nXLvu6F7qn4HUJKKnovu7ihBUSiDU0MuzfHZbmzOJYEAAABsQZseSeEPJlMCE//9+zp2//ABxiVXSpn3/L/JOQ1WyF0+D4xr2azKcKG5ZONuUBqUMPFZziUmXTPcbPvz7cUxBHSROX/YY4twc6LapgaWxzSEHAd1NXtngJlsM/3Psdofd3aOBHM3vkgfveyhAAAAoEGbP0nhDyZTAhX//j3bP/BQAXP3oSSObfHMUM0mie6gX+FktZ7poQiolK6rSfZ9xqSCGqGo9C7oLJQ4/2ayxzf7pI/AOlMiTy1ep141iS03vWMak4vA0Qqa8pmfSCvbcv3b0hQQiA+mXwrVfy6DZK5bVkQZ+Eoed7xCxk6/Ho2h+kjR2cAF2gU1iVwIaCM+Z67Pg1RL98LKouzQLn3N4sAAAAICQZtBSeEPJlMFETw1//65YQKL//3+iAD82zVDPH0nD24iR1T7QsWO5nbv2H4+LzfuPEqU8CI7sCoMeQ/6WQuc/2ZEPcWKhaY6bJ5+s9Pvl6VQujLJ6vBHpe05VUYYb41Wop+B0efMWOwXCO2y8xqChhFAKtah21OvhK39gs1pnmYPixPVX38MiRgesZkpiv9fESs+/4xJ0ojxXmkMlTFnBGNRuSSP2KkkRBrcjKsB6CCSOcMRFkwBxKaJZ6/bOr206VSdi+iniyRKIHEtFf2/K1dCNBf45g1GzCnlikZ2GhCs0YZQ2Ge2Z3DJi0ifoB37iga7J746wbBPLLrDiGmauTIHR+BrpMxPj6B5ymezGEsv4nx/RUPPe2PEL2KQokdt9e40+kCUJ/l/A73+oZxx6LT60MtyKkP//9R2ZSneIY2jZcQ6gtO7NSoREU/KGJSl5I57ltQhP7nUuLZKhvyP///aqXZGDKYmhgXJk0HVhHJwJNw18PCnbFxBHunk11Gjkk/jES7ZT1fpktT+T9q9HDIwqNDBLwpVoWliMpAUEAd/DhseSp5es22YWG5bBjiiIR+sOrRnvjxMVAUDA4MHjbIRwRLHjb+XPcAkgVABVd0sry/DO9wMYmvOvL9xuJksFenwFl0e1jh1Rna0imh4sqzP0oKpx3hOpbdAYVMHtx1bCwAAAEMBn2BqQn/19o5z1uYicATBW5PQJqwW1E39oHZ/muEA9RcYAH86ciGT4HFhmKHiz6j9PZQj6dzKo3N0CbGjWP4YND4gAAABlEGbZEnhDyZTAhX/iENTki2borLPzX+8D05Bqqok+rgSjFEz50djddpqFL5Io0Q2StXJKtb2EsUKUz8raqnWfAlreyZOL6eKTprB9qPExV9F++yHAVTCEax4b86ndop29me1gAEZ3JdAi6lboojAdhJUrLxx1uTFL23qsUgAaoXiGssExKLEAhsdAjVjls5BR/wlexLruEcGq/6rkBURiwAAgRwA1naA6sXMsZwMJuWfU8e+xB8fR7Ob7I7Lgkf/dhj2zf/WqhdOZBV0Atmk3/vXYRa7mr8SUHFGWMch0q2gDb8iiotPAly97BYRQVX0uCT+7eFjVOp+O8H6pFuVMCYmBdLGSLhUSDYKs4IZFk7/ToKdYxsvZVGKASBZa0L7zVp9F0kEOCxXf2wVLIgqkWkRxu3p1cAG2bZgTRRK/TkFaORirXJGnAIMuQTQWgQ0bG0OCec7pEMu99ILAnG5XP7r1Xrcna1BMpayPq6/BnbMB+F3wF4MrrrPai841HmHG9jCA5UvuPb4CNJPHPdpmQfUUYEfAAAAVUGfgkURPCv/8os6xH2y6eEVkPzjKVZSEi9rMdFbVKRT/UwBO4nDcSD97x4eTdJEZC/J3TyoBPo6z9CjYnvEHK6buzB6Ob3ypRbjzmzSrKuQAGhzC8cAAABwAZ+jakJ/GxMRz4ALpQ11rkUyb7siTu9PXSmZY/C21DTsXgAxGxuwyumSURc0jh375R+wjPSkq43zcc3T4yLT97qqs7O5pQw7xtZD9Hcpk+VCaa99BnAWSDK+9YuTfd4xRExqaMeOSwI2GlR28hhQBAAAAOhBm6dJqEFomUwIX//+jpk3nutwZ0AFBCJld/syPGsVOwTG6m6D5sv01wC9TpQr3k4t0EI8ZIsKyU5R52Dym44uSt92sd4pq/6TKyKVTrvNLN1vM8bsj3DEc8TxSJBjq11Uf8PoYaOp1gN72b/IVDyVHHBni/j3z9i1j2VxUykgXMpPgBXgmUSXlJK/4+ZihHfc///DMuk+cB8NC2ckyjlF5FqNyB76rKq6xgayDE/2RWcKSbt3k7nXJ8XzFQG5MjzZbWzlXU8Ot5Uh5HBWIANUkQZmuJdCVUN53DozSf28X/XpuKZwKK3EAAAATUGfxUURLCv/Fxg/2QeT/6VXm2XFtUAUAqkVpmT3r3wPtTUVz/5uSpw8H+Ig4EmC/93Kmj6pzciW2wqC7D8ZyV8v+PJ0/mLMwa6L1YAJAAAALAGf5mpCfxeJOC0cYI5DIwAIR5b6Ms/KN5jpTvyzyJIc0ydllS6/JTGxK1rwAAAAPEGb6EmoQWyZTAhf//6NnUDao0cAW+o6BAHFvXX4wjsHlNxxc38rE4/YqW9dUz7W15geg/FERkqKocu0LQAAAIRBmgtJ4QpSZTAhP/32yBNAFAIXRMRmsnTXU3vSWS83uZrKHiWC+gbeTezmRYG5rcORLUkYPQ8dmUHztyc6fv/y8qEz5UjObmqthUKsPSTlKqFz4PDgcS0cP7tefm8QMej/26buYtilnSUxB4Y+/GlNROVVitBJnka/o7cMBJamNQeYr0gAAAA0QZ4pRTRMK/8XO6TUFX2YlhXKAKASOtxIP3nJQh+TBa9xwb52AMO+jSc5yVDIJ0jmnRmqfQAAAC8BnkpqQn8bVjJ6wDV8V0SobpYF4GGO2bsy83/GanP8i5NMnnVywCgAAtcsY+TN8QAAAIhBmkxJqEFomUwIz78x33/U8V+IXpxuLZuC1la6V4NzVg//JlblYhrj7UQBE+2/FYvdx7AKweE8KmQgKnmFnc2roR9rMjLKVlgrlRgYiVuWNe72Xsg5wLXMEFmqLshDnVuTj/3nBVjniSRC8Us3BW5KFmTmW+X/YIOXRQJaEdA+1JWhx4FmFg5RAAAA9EGab0nhClJlMCGfgoU7RojHvUZXwTD7GtWbWGp09AZFatiJZggJ0wAcboY+in/a2FuakCAQJFAWEnI5xCH85fgw/P3Zo1zaHY+cxD6WhOAAU2+GfbgR/sxgGdfp0MwsQh36P9sf0s0ysqPbJgE00+XFgNygq+O3/984fj+GF5W7aAwUFJyfhBRncOv+gTY69cvyqzNnL5vQyRbPeHC9w9S4TciZizarOJD3be6iyQ7JaHYpKWyp5pW7qJ9Q3NqrS6Stc25ghr4tlZKE462j0CL8sKBiZvzW8aBhYnZLC2v/IQkKMK9ba/Y75G4i+ffCHek91IEAAAAsQZ6NRTRMK//yizrJsX5KfIQe77ymmzY6XsbD0yb1my0v12IsIsAAAFxQUsAAAAArAZ6uakJ/G1bLYtOsmKuWy/2GPJlTbSsHoUnAz84noAL4IkSOCs+g6RuYigAAACVBmrBJqEFomUwIb//+p6C9pPSipKi6Nb5GpellYMfTgXVnqB2XAAAAfkGa1EnhClJlMCG//qelDwDsz0ls/MnRNeiGG4AisgOXog8ORgmPqsohyddJ3p+SHPq/ahd2/3QQO0ZcYDPluXAY62HNbqR+ekRLGwH+cF/DbfOhFFfdgTtFfW67KUDIc9AQGtZiHn3ag51W6d/Z9c4KMlsLVryHY1Jo7LHwjAAAAHdBnvJFNEwr/xdK1xhRt2X8FAFsFsoAMMAFAKpFaZk968aISal2CanOFlb3EjviEVlIzwqrnsSmC8yL0TNOukJRvQIH4BF+a9xFxPxRxKz4iQZJ7Lkf+vlvvvM2nA7f8uTnNfe/Gw04bFz0SCmTeASMpjEtAR5XbAAAAJ0BnxF0Qn8bFCgx9dURABOy7vWuQMzfdmio7NSEhDStahkLiIvBtcFoTByyJiT/a5kPIuF6IX+v/89hz8YvEJFXVW6bYfIsZzON89Cqonw3Uzpav5f6diCvlwm0HL7raGMpCbjX2s8piSQ8kYrpv20oCUeZ1uIeP8PAuzNoNdVnfYpc8g1v7ReAuMtYMWCQRfpolIHYE2p/rUQ8YHpBAAAAiAGfE2pCfxtWslUqiABLQC2EsimTfdj5Bkz10pmWPwttRQ0MOgTAr+aOtIp+jh8e6CzIRXTAlsqOXI34K/NLWXTerrKhDxfavluPWhJXx2dx5xfwezcUUvZwYd8lV7ZaFtkBXKWlwX18Ys38KI3dOI5JU/Mb1/fRoTqt4Qz+0JzZyyVGPCHJ8Z8AAABIQZsYSahBaJlMCGf//p99gnABGBmO0kMVk6cC55enumcS4mLxsxopGy6imckH5mtk2nurSq78Wj3b5OWlGNmpAdVlgHe8lXBhAAAAN0GfNkURLCv/F1Z0+FG3Zfxjvn4Ag81laMJMb53NGR5QZNb4LoE3CPtkiC14ikcQUUhwABG1H+AAAACGAZ9VdEJ/GxQSYqcoBoATUu71rkDM33ZoqOzUhIQ0rWos/1opTOzK13vmwtAiFbGeJItvr3TdIk5WVYJ9DgRTf2L6BDReOsiHCLXZurea11Bp+S6/Qh+eekrNOAILi+hhQq3L52Yejh4PGwNEWjECUoHgBVzCBA8UvTItxgRL17vrHmjOqSwAAACHAZ9XakJ/G1YyesA1fFdEqG6XqYZLbPtg9EJcyb7sd2Zi/Bv5FPgLbUbGFvC+vx/Yrk4CUtUR1lW/YL7rT9WWpfARJLre+MIOgLlFvadGtzk3SC2MpD2s5ps0uZ/Ze8XrnVs66NF5jluiUvKoKNDKMcuY4JmBd7yEeBaPOC5mNe3SM69p5H0lAAAATUGbXEmoQWyZTAhn//6ft0aud81Jy1G9nP6AAT07SG8p28PgdblBWQgMnQzd8lGscZgAN7+K2w66GJXreaaomjR8D5+nFY4OKSOPeDWAAAAATUGfekUVLCv/Fxk7yHeQ9+HWANADesRNygvNFtektn18svvTaas6Nj/et13K4ZjM3PoU8Ag06ZTF2yPtZps4moe9Luq9aJ8biuzvxqrgAAAAhAGfmXRGf/TUd9/1PFfiF6cbi2bgrEGepxgfLR6Kz//XkU+SJ0b/9qxV5sRBdn1V6yJNblh1nhDOlZSc06OOpvwqlxFvKDNxqXoQUyk2cTNK103bMmzIM8E6zRHqGMW/F8m2fNkiog07VxB/uvcxFgJxnP/FUNYE52WH/CjoO+hO2QAAWQAAAH4Bn5tqQn8MZPHnQAS0AthLIpk33X4uSOTBPXlBtxII+N6KPI0qh7N+N6LqOXMeiI2ObSCtloJHInMkAb2N61xq54PVU32jzRhWZyVnjbX7JT8be879EvTZwi4Y0ORWAdQbAUTwV3NLIopj8k6r4fEGl3qFS4LfVhY3AKy4WuYAAAB5QZueSahBbJlMFEwz//6eI00861DcKXo4BsCRfT14h7gBwZxsx8aDB8/m9Pqrtm/TiFzkuBg3KuvTf/Wzl7FVEaNqKo8j+2VN0dFQE94gABcov1fEpKyVfZPvXIieuBWjpH6U+dm1FqzPX36zluHk6XHDfiSEP7UsjwAAAHgBn71qQn8Ma7Nrr0AB/F3etcgZm+7NFR2akJCGlnwCKYQIyAcJP+/NKxmsLi95i+iBdvNuOK+MKfDk3x1CTcxE8FcBiDqzJvaSWabVebBAqryauYHQeohaEw9+48BK/GaPmqCIKxWlMnwbVtOzxGoQFkHII9p35k8AAADiQZuhSeEKUmUwIV/+OGTzNH/U5IWsiDpUB1WjsbXZCnZBPusxVmbMu1WQGEIUjtSWZzr8Wls3ys+LcdAoXDx13jyMQpYpK6OZtLqiNsyBef9SzBE5SZ7JGw7zwwwa//qWLmWM6uPbPHSvKQZhn2zbDgZBSfeF+cx9z//8Z5KBR4FbzFwTSZR3KLJ11+9/mUheRAY6moNoMShTVIQNQRYlohYXmPkZz+sjyz/MmP4HEhT2k5zo5Yz9yHJz83dn6ukdiu3AlBDF+pMUW5TBuhtfnmeGGKfPNKfOlVo5muOB5yMiiAAAAGZBn99FNEwr/wl5fygYALpQ78XeIgIxsGZ7Ty23Aj22ktGiz74u7L+K7W/KnZHmhqaKGOp1MVJTmeLdV8RDsGYw8YdxKjhXbjf8qhLQ5CCWrsK8AKG0Naoz3bzyLZ4SLZqBnl9ZbakAAAA5AZ/gakJ/CzttAVZ7ieBKgqh2ncuTwU0ADo58sRrnWVb9gvutP1ZADTo/fMyAPVYBsz8+rHnLhm3MAAAAjkGb40moQWiZTBTwn/3xJQcG9HgYcpgyJ5tqBK9w0zCQOIxZeF/6rAYKa3Ilf5wAWUYCSNeDQXhDbbB7+KsvNWNs8tLhHxgoIUsLm5zEkwG39cWXFKhEB7DuLBngSE5Iyw9QDjgntjuoj5agAc9c6d7w39BGQuBTDbwDDOxU9lk2VNl2wSicQycIr5GqM+sAAACnAZ4CakJ/CRslHBAAAWZ71nZQDME8HnVMXnDIecC10fDEQ992ZT7eliVHNw8FUuSjcUbRK2HkHnUSD3lPTo5gWTUOarguJLDfVzpJs+aiaYuRoJlo5QIzzKQHkAG5RiyHQCMtplhQupSSCb2NsAATezVt8ShRVYYAYAzw8TDOLAQsWTF92SVnJsiHdALpcpvl3ND/HpFzEW1xTW7vyCFH+Y6ScHfESsEAAADZQZoESeEKUmUwIX/+jL9iKgAcxUcAm7zBGU0r9dhKgO8J7oa0lEH114Myu/8HgjoXY6QBZA0X6hgYeUSZn7JDI1CJtXgGiEYsTtIbqMf/KsvL8PLsNwq3FWv0bKGoyWKiHVMQROZpqELuWDFThX5wUaaE+fqS6AItHvF99lGffEvuFVOotqbW8BVCEOvRXQkWxAaam9/Xc383dLFPCf+bK4W8hdwJ4OaqMt1uTw2TRp+whICNIrSgw+wy1Ru0yuMFVTfKQuSRjjZ07jYA4L4Kt79N0pDjhyLomAAAAGdBmihJ4Q6JlMCF//6Mv2CdROXQGzXagvtTrcNteWAYd5Kco87B5Uet0D7MuPnvPmTpAJcXSh64TL3bojkMIg1ha+UHjBwea1r7dplAmVxoJ1ZvV4QARuzGhJrm06D70o+PAHvwbXjAAAAAVkGeRkURPCv/CXJqz5w80kQaoSSCQwKdQnfn89AFAKpFaZk968/AbqlUG7nd6ka1RCniK6ctwImbN69JQRTFSIGjZqW7+TLWYTlPseoB4k69Clq0mFSRAAAAiQGeZXRCfwssjQoADoMkpaojiBPMifMT2m5/rLmlyu71rzY135h3paUDhurHGEAkuJxUxn2+wE+i4c5ZE3ZTNe3nWdCO7bBvUMkMx/cvF7LMNU8PDsx4mXOynTdYQI4LAyrNGMwNGBniXPNOdd0W9IIsHSQ5jb23lqCPhTCWcyzWFJ2ZlaRztkxAAAAAfQGeZ2pCfwht99HgBbqGutebGHVM9Z3Lb2XLvCieuyeRX4702O3rYmDq6dUxI2UqKQjy/1twR4iM9zYXl6M2z5iuQ6wC6XUqMQdymFdwiHpzem0FkYUIhOeYf58BSDAx259+ZjDWVy4sIgOrBr47xXN7ni9wwgP+VKSQ8WJHAAAAhkGabEmoQWiZTAhv//6oNEHSAFuoDOV/SavBIFUgow/CeQo6vlCf3G8iW/IO+UnVmr+vlf4D06jNuUd7igKs0mGC9ohQv/n72FaJpWePeXUlOmIRCWHfigSePEUHt3MzeyO20yb5BU4MvoTLjOyQ55qCHUNZCLuEZJHCQpU27grcMcs/Tz5gAAAANkGeikURLCv/FzvwXIFhKiiZQAcSuV08/LkKc10/Sqyqqn+L2S/gF0ftD4iOhtT71SAABovKKQAAAIABnql0Qn8IbXnWXWACdl3etebGu/MO9LSgcN1Y44oIeM6fIi84ALIWJJTZKSE6DB7UL5Cn+Evefc6FU4cegsylTg58ibis5pFaq/ABFG8i2uqx+UK0KFTlWaMTAPv/zLO8TLQ+bMhxmOjw0jrG28tTOQ+YChJRtPw9XglnEcp60wAAAIEBnqtqQn8bVjJ6wDV8V0SobpcRwzYM7xh6IrRh1TPMD/f8aPOIEMXZPB3RagFW9dU/9SA5650/fPHWMrZuGYTSCZnkh3kbczRwezZkPnZeO53/VNuWBBoM1NANoFkOqvDEUF+tq6ggkJCMK1+BKDaB+DDNYrg3bvaH3eUzr8jmkoUAAAB1QZqwSahBbJlMCG///qhQka4jOQM+SFabs+ibZ8JhuAIr4N/9Y2rG1e53rUWkvW1+wf/8Zd+pJczQ+B6iAswwptPaCZnXx8EZLdY+zrr8PqIyhmykgqn7NXAoVYsLw7zZPpledqJI9s1rYK+b7k3QmbGdPIFBAAAANUGezkUVLCv/Fxj4WAmsDiyIkPqtChX5KrEAVs1QJkj55M6AHiB/z4g/nXU8QnB+cAAGp/QaAAAAhQGe7XRGf/TUd9/1PFfiF6cbi2bgrEDUdRT/Sxeis//7CXIhvNrR6Qt6iP+R79fXJkV5JDCN+WUeCHglhbU6GUDBZ+KnyCVthyHSAPtI+dh3X0uSZ/jk0Mta71phoucMmstFtjDAfAyVUId9m0kMN1Snt1oGyErImC5v7yvnRqFDBCQ0OSEAAAB1AZ7vakJ/BylwK4AEtALYS5sYdUz1nctvZcu8KJ67J5WflT7MsDQNTJRD9tQLRISdNFljByEb6WEhYyM/3sW8NOf0Vw+TVabTZcDE8Jgyq6u5Ojw7upjvZGb+m3M432a+8lr2gdBuacIHKLNH6art5N28eMYlAAAAKEGa9EmoQWyZTAhv//6nhN7Is7M9JbPzkhlsPyQuFFXQ3GlsF5kp7uwAAAAxQZ8SRRUsK/8Jk+rAJr50itZDhMXshT7a/KyvgjfrQS8dHfGDSx/V5d3SnoIAAWQuLgAAAH0BnzF0Qn8LQb5xIcCMACal3etebGu/MO9LSgcN1Y4EphYRcFjRTlq33+GEPi0PEqBAjQF+AUypzsznpWj0qy4VU0nCOMzAAOichX7djoF90BZ5Fi6P9V15Ms2w+KRg3F6yRw+iRUKfqAQW8I1g3JWAud8BwBenyy0lFebAwQAAAHwBnzNqQn8LMFoUAB0GSUtURxAnmRPmJ7OmEq1oru9a82MOqZ6wjBYlVeOcM9dk9SKSM6I7Tz8JXmLcqK5UB54swrFWaAG4Y28IL7hJQMjOvl9z9mXPO/7wttjcr31pFyhA/eNZ8uBWKWWRsvOQi3AjeRJf5xwZhnNhBjrlAAAAVkGbOEmoQWyZTAhv//6nhKlSbnwWMgW7xYF9h9sMIjKC8yALD7zOV/ef7zViT0hzFT1f3pt+Vw56fOwa11aQNtOu2gN4+D6NcUC1kTMClSAG8iEq8OIHAAAAGkGfVkUVLCv/BXEH+zYyw9vdUQ5UjHLh7+DAAAAAZgGfdXRCfwammOsusAE7Lu9a82Nd+Yd6WlA4bqxyzyLB5GI7xvmihWLgcL7ogSStRXZy4nkXfKdN1hEhB2nKs0Y/Juqd5Hh3sDU5yAlbwbKKbxb0b6CzZAW2fu/Pz6UvF3Vyx6zvYAAAAGoBn3dqQn8GMomFAALpQ11rzYw6pnrO5bey5d4UT12TzG8/j+X86kvhzRxblRXKgPPFmD+qkPWdY9x4SbK5geX3P2ZdHQr6FE2u7tTG2FV/MS8az5b/MUssjXKmieUFApaBFsTK8ECMxn3BAAAAgUGbfEmoQWyZTAhv//6nhH5kWdmektn51iChT8WRXAFd0GX+pB4rBzAKNd9cTjFK0hbcra6OWRzjzh57SFTmEwchwQ/+/b5kOrfdLDKv2D4w3GRZou8QIGfzJYWMLnQBnP8OKg6tdiZ5CTdxnRBK4RtW/TkAYoKncTxBVRL4h1NBMAAAAFFBn5pFFSwr/wUNZjs2MsQT0uZXTSNwoVkXPlgASznCWL0mHWiJtONJt90PS2CYwVxiYo6xFvlVurOSTuHtLy5YklLmdlt128fyOnRLJlLTPDAAAAB5AZ+5dEJ/BjKY6y6wATsu71rzY135h3paUDhurHHEyqJPBC1SgBt4TEfIt16zHd4upoehR4201r4nicHBVTHTMj8FpDCceWWm9Vj8oY9TWBlWaMS5qrBc4gdl6/xVt5xBFelNpPhdzZaexv/Urw3jdX3osYbMi4Fv8QAAAIMBn7tqQn8Fxvvo8ALdQ11rzYw6pnrO5bey5d4UT12TzbqLVeVDwSm4aojp++eOsaA1KK3VY9ArHPPd2l0e5Egtleri2CM/4WtjoERGDgWnOSH1TabLgafNTQBnn4PYtPmznCdyjnBBl67hl0CiEUHh2V42NkFfMf6POMkt7CfkXCulgAAAAEhBm6BJqEFsmUwIZ//+nhEtu9KOWsldhmncMGJgEpJ+Uv7CH2w6+4esLmRtaNblBWk7lHkTQXpVrMUVf++P0L/CKOEFm0OFgREAAAArQZ/eRRUsK/8ErA2dtolg4X5jG7/9gRQzMgDTZ+97fX3faSMHYAAABvPGrQAAAIQBn/10Qn8FxrzrLrABOy7vWvNjXfmHelpQOG6sccTLW1AXfXWI+Rbwc9ysHei0GVrvfLvI8dYxJ//v7UOz1hm3FKKzwvucHBVTHJ09I+eEvVnlpvVY/KGPU1gZVmjE4RsoWzBsUl2QStuH4Ir0ptJ8LubLTuF/0T+p9ywIcSxhsyLf8uYAAACCAZ//akJ/BWr76PAC3UNda82MOqZ6zuW3suXeFE9dk9PZ5wSnliPeS7xs+2JVXAXhYqY9ArLhUs4mUiPV7Tyz1wSYTMMe0qmZBFNCCR4L4EZD6ptNlwNPmpoAzz75zd/vAI519PCDF4j6XFylRCKDw7K/0EXIjPRutsPp4Zo55FwfIQAAADZBm+RJqEFsmUwIX//+jL9iKgAcxUcAm7zBGU0r9YEkPHFj29sByLmXesIgqoMSoAFb1QbvGtAAAABIQZ4CRRUsK/8JckcZBvPNb1ZohKS5X5OMid77TAC26ROi60o4nfSSDAPuBlaAcky1Dfkc47O5C4jhtUBrb4v3cjpmImR5Vo31AAAAgwGeIXRCfwtBrOuzwCTSPEROxmi2vSWyup7jF/oelhlglKnamzMm5Z38GVu+uJB9RHvJd42fbE2H2A/D8eGe/2GPr1lQDfqTbQ9SKrhN11PFKPbsdAvugLPIsXR/quRw+WzdnnyhK7rulPokHCn6gEFu7taF4/L5nfAfh2qt0tJRXpTjAAAAiQGeI2pCfwtGE2pAA6DJKWqI4gTzInzE9mXOQEDOTnYO/dpTetwd1qEJ+O0EE56ohb6N6qqoKku6Vhq0WEoq3j009h7cbAuULuYXkxP1QskxauD6nXxJ0sEvkVDriZ2y4bsV2/ebOxIoZOnujy8yb32vf0dWTt7Nl1PsjLpRiwf5OwF2brYdbXpAAAABFEGaJUmoQWyZTAhX//44ZPM0OvcF5OwAjtURN005CmopbzNC4swwo0k8ZjbrI2hQEIu5Y7APJbUSWpVchSmSd5etiq0JEGahX5aboNTl0YyI3u8St+nFJ2qmKuL46gQL65jAmpklEhvkaGWrCfazL5ChuFQckCMV7IYfyqGLOvbJkPwJv0akRfJ5CVBu9+yu5WYkcm6FI53idUe8Wq9m9KrOouhncuOGdBfH+GIErTEH3mgwH1UmIGXGpf9ex1svu6WUocT/6USE1DC39SYS5uVnFsm1FzGAN9OMNsDb8dLXB7hk0JpFrf6W60eNcJXipw+pKF/ag3uqblW/wh1qlnzVrczLGLqimVDZ7fjcpMIZoQ9ygAAAAJ5BmkdJ4QpSZTBRUsJ//fE4P+ez5nhQTEAG35KqtX9t0Hkf8D0ECTs5JyAZefA9sLE9SlDJ3Ci2nVdAQIB6Q17Ew2BSxXk3thXJv+OKqVJ2awWoC+EIp+Ixwon6wkFxJTD/6+Hb+IEbfhrrlBwDUHoISNxDIKfPoiNDirmSH818/YExEvwp1XwdAb6hbtlu0t129/qw/9MmMFZpIepmkQAAAD8BnmZqQn8KKJF7dreDU2dHgBWKEyMZB/pikMjSPd7CFXUHao8i4NqjwiXDAC8d7xtCMZDm+p8hUjFySQ9q6ugAAABdQZpoSeEOiZTAhf/+jLB+U0JbgjAIbYcxnycKF2gcXszkp34cls7u5X/whIeTamyA4ghmgjPQBgEadujpKzJsqGUdmJ0ev0jN4W4aIMvghd3GW0hjZmPbACgVw5ZBAAAAZ0GajEnhDyZTAhX//jhBSqi+Et+a1I8U+CbGLglCVICEOdP/7/d71OU/9Tq0ahzw6Q1rqPXR4iZhGGlklkhftTIe1sb+IvS9Xt8mdPToz/cGbRdFIkeIhZctiHSlNnIwvE0N3+naidwAAAAfQZ6qRRE8K/8DaBFeWcWTNpZ58e3ASo37jntzpXqu7QAAAGMBnsl0Qn8ESu9cyBOhO24AH0zXWv7iRTPgg6WvfezNdYC3cfHSXwbOq155pW9smFFy/KvcHBpVIiskVs/NBEfAUcgnwmd/P07YAwTJTj1OqVN8Gu/z89X817dxUXFChlFBuukAAABsAZ7LakJ/BEdEZpnA2rcALG3X0DAm1fWo3AhO6lZNcAzTGk3vUgsPa6rtkihckP/SJlbkDwgscV/LaxFoemJr482hD0DQqpBdHezCszlKoQWN9Wm1Fv/ntgi5dLKRQIuZaMf8/tUXs3uZR6k1AAAALEGa0EmoQWiZTAhv//6nhBizZ+6xPq2VNO79jzQO6icb+pgZKT+r661mpsxBAAAAHkGe7kURLCv/Az0xXlnFHhmyX8kX0qXt61nu9hV3YAAAAGsBnw10Qn8EDu9dOuiWURABNpN61/cSKZ8EHS1772ZrrAW9gSvW4bs6rXnmlb2yYUXMigDpkJp16/8HSqRFZIrZ+aCI+AnKG6a6H6T3p2wCU4cgjWwNnO7rtGMKBNk/oonQDvnP8g1vkVtiQAAAAGoBnw9qQn8EC0RmmejatwAsbdfQMCbV9ajcCE7qVk1wDNMaTfAY2w9rqu2SKFyQ/9IhWPS9brWItD0xNfHm0IegaKH+6ZZRDbZFYguxiJWPed+Ak6D1CYDdWkvAyVMfU6Jvz7fPczsGW7ihAAAAM0GbFEmoQWyZTAhn//6eEEXoDp+kOfpOYPevFdUZoPyLW71gM31gNygq+O3/987mWTx+VAAAACJBnzJFFSwr/wMTl8uoPbvrgthnGS9w0IJPWcxHUAA+VT/AAAAAagGfUXRCfwPcfmiD/ksoiACbSb1r+4kUz4IOlr33szXWAt7AnKd4ezqteeaVvbJhRcyKAOmQmnXr/wdKpEVkitn5oIj4CcodsHNia8/TtgCDGLESJ6ysqnGyU105QgQNe/38UDoUMooKsSEAAACKAZ9TakJ/A9l9qxvkl04AJGlYaBgTavrUbgQndSsmuAZpjSb4N29sBbedwcqsnEdevsf0l0wPDBDitalHjYBgDI+avDPI2R/r7xNXm/4dzK6W1Dpl0ACjDf8CZLowwZACrILXPyn5HS51iNMWQNAgydE7N0OsaeK9r+o8t8hb8KuCi7066ssUMw9hAAAAO0GbVkmoQWyZTBRMN//+p4QVlN6/VYCF9f0SSk8moAcIGIIHY0QauaSfEtw4evNWH+xPJucj7cYJUt1hAAAAeAGfdWpCfwOunbp/JNP9wAPpmutf3EimfBB0te+9ma6wV0ab/dPKIb/Ixs/2h+GJfWA5wX6VH3fSrR3sl/qoaInX6kHAAHF9fr8+Vvc6fFzTze9fqmpnBu1Evsb+5s/z40INhApb5bUkxUixa2fKUEdAllCJ+Ol+pgAAAOZBm3dJ4QpSZTAhv/6nhBFnO6bYdLqED6DEYqElVgAt5u1E/yEppyq/yToBUd6qnauTwhn+tsYKxx/rG0/hbIfy6tk6VP52s8bDHDeRF+R+Y3tFxXw7C6pZAm4xc8dPM/9HpjnR53oBGtAwl5TvU962d6cUPEe3F575ElMDSNbb9fHXpBjrlsKx4LOPj4VoRtFzameewMbQ0nWry5+LmPTjfBKaVigYPtvAG/m/sADdr5x5ZMecW0Xp4uN4I1ADdJZ3pRPyDahzNsDmgjh2TRxW8UgsJwoW2QtDvNbx9JSOdZkoj2mW+AAAAOdBm5tJ4Q6JlMCG//6nhBIjz8DUIgCJrkJN7GkS9u8ngVbkiCJ1S2z8fuIrDryA5F2msPasMQAqi2Dtvo7Ox2SKUt/yETlI3Dg2MXBgt/DVKIYREp3LmXON7W9R19yfK5qX97Noi18y7IOOOvtcYQCqhDf8KsYiCNbf3OSfbTs390vRakOqNrzmNcZ4/cxHMmCdpqkYn+dnjyPzh4ClzKRc9CBy04YlMqSDeqcBiDPyoGAlYa73WVSmvyfgo23hEvbXP/eTSbBCokhUXF/jMm89z2pIC+hEwxa4OdKWwOVXCsJW6dnwobEAAAB6QZ+5RRE8K/8C5q5KKLU+aADoF0djdbBH6YX/H/Ge5rOoQDVEDUk4e0UvGZTzMUwQdf57xKaqs/8a2bWs2PgCA0s/Fe5+1pzNj9nKt0axXt92tqQT4CN+HjFcq0A4REWJkx2nYb2HYPkTWyfp7GqDtacqHvfbnn89GpYAAABmAZ/YdEJ/A7HYIKmngRIeJWqqABw7r2euMl0Y49av53WgC71avZAt4zhKwH5B15R9MBQd45g6/hzFH17PINXZXw9ILc/wJgsfG1LgiZRHWSjf+Fmkpwl/UE4seMyZB5Nw83xnN18wAAAAYgGf2mpCfwOxnl4vVKLsvkAFqODZ64yXRjj1q/ndaAL1KO7epMfVKd0bSB15R9MB1UKEwddhJcwxK+aK8dWOvrrc/wJguJFlibHk5NVXoTGnWKYmEv6gralhyLhNFpsz9lrBAAAAukGb30moQWiZTAhv//6nhBItKKrtLOZ1l9/bzAETBhy9EHg3c/P8YvJkwkZd+qe8U+Q0fdY31a0NqF7gGwJfjd31QfGIR1qfMg8846UZUKFfzolO+yWbnoGt7Ub6aQ6LlctNCkA0Bb5shMcWKzcuLgcodxpA4sKpQlwd8NbjsX4+VHAYBwwClVwj6PvSC9h7n2TC0fya1wZe+F27Msck7639ttKIcfshmIZpP+069hnC3J3G4PicfQwfNAAAAHxBn/1FESwr/wLtxMQByi6OxugcF9O1B6qFAcMKeRUOYp9XFHQTUrNomsy5bB3kexIXnjkXbLypXZHT3C46USewussNOlnr3Api649gADv7/OZsFoWmDNi8boLZzY54L0HRoAC+AGNbjpcviGYA7dCnvZ8wS4DXOMCDpZLBAAAAWQGeHHRCfwOyOw58aTdtNAAcO69nrjJdGOPWr+d1oA2DHA/IOvKPpgKDvHMHX8OYo+bOVFeO9nX11uf4E0K40GBEHycmqr0JAZKeal/UE+xczJkHk3DzfU4hAAAAYQGeHmpCfwOxnl4vVKbOZY8IANwcGz1xkujHHrV/O60Aa5TKp1RrLYPyDryj6YCg7xzB1/DmKAwk21FeO9nX11uf4EwgmYMCIPk5NVXoTGoYlYmEv6gq4DxmTIPJuHm9gAgAAAAwQZoDSahBbJlMCGf//p4QD7yUgAWDYDrdDRDAhjnovgA85G917+5V1gjZzHsDtThPAAAATEGeIUUVLCv/Ad8dlo9UAS90itjTqXuC4Yih3Qf9gtfpewCKBcC5VpyG4u1vugtjyZXQ2RL9VOESM8STsD4tgu8db608gvyKJ20aMYAAAABoAZ5AdEJ/Ac6Z1n7ngGjQ6Ig5dQdUecUvUclfsbm3hO76+tSD9ov/YrnPKbpokRqVJUNLs9cBOuK6lymIFhz1jfSsJ6px1jeqC5MGa3QgkESsKAyUb/zZRguCv9QSXSupS/NFpsz6EbkAAABuAZ5CakJ/Amv/FwBsY1Q1HmorrAoh7h1LIyEi7kFo/jsKq/yyGxriI8lbt6k2Q+SlbOE/8u8UyYEVdsxDoj/wcmk3n4e7Qw5olcIJ/VFzDsNhSO3YymjGQB2a//p0alN4LBN2TpWNmfEmzOz6eWkAAAAkQZpHSahBbJlMCFf//jhH4uAAFAL6+HUfBq8b+hF0X92NPWqQAAAAJUGeZUUVLCv/BfKOFOggCDzWVpMODC6CbfrGX9t44EPxCWE+8woAAABpAZ6EdEJ/A7I9J6wCa+W+jLPyjeY8ZAh502zYtYZPjEGT2xQNdafrQ9wOmpe6Sg+8Bi8tJ8YJtDWClivKI4Yip2eN/noVS7yjfTsmOuXaWB1AYQh2AJ/nXkBxLM38KU4XVR+sGLZnzymBAAAAawGehmpCfwbkYAAa9+gOeudVC4EQrW/75ESmDg4bZ64yXRjj1q/ndaAOK2dO4ZHRg8A/k68o+mAoO8cwdfw5ihvVZJMVO97Ovrrc/wJmITiyxNjycmqr0JjUJguJhL+oKlP0ZkyDybh5vbnQAAAAUkGai0moQWyZTAhn//6eEqVGrNkt9+ZXAIOc06oUzspTUk9wmG0nEkov+uk4WTGPcYaECs0YPWZZWVHz6cVULUTDjojhlCPAjcYBWRwI7PdqdqkAAAAnQZ6pRRUsK/8XrYYAdAodbphJrSa6jA53pLwWJr/VTv8m11QSXMuwAAAAXwGeyHRCfxtmL6wAWs4dEQcun/DBktKpOw0dK/Y3NvCd319akH7gdjajzk8o+mAnXFdS5TECw528CSVT1TjsO9UFyZ38SCoiD4kOu2o/xUDzE1xv7m/GkEfmi02Z9sdBAAAAawGeympGf+sa09/1PFfiF6cbi2bgqUAsZE+78RTR+68CtR6BfCAvDOn0NYkyx8RY/W+lrPGAXnfHBZUl/99OcDfJBVvPTInKlwHLi2vQYjiBlPo0LTKee3ncXojZj5J6sv/hbRpE+DxLOwhpAAAAIUGaz0moQWyZTAhf//6MsAPr63mu03bFxF14hzuZRttBnwAAABZBnu1FFSwr/wDSkWsfRuMoNHviqmt9AAAAXQGfDHRCfwEmqO4Abg4NnrjJdGOPWr+d1oA5hD93fr+SCU61SydeUfTAUHeOYOv4cxQ7SUeg1dlfD0gtz/Amb01gwIg+Tk1VehMbOuOlOEv6gqlfySbIPJuHm9olQAAAAFQBnw5qQn8BJqjuAG4ODZ64yXRjj1q/ndaAN4z+H5B15R9MBQd45g6/hzFH2RmRU73s6+utz/AmkqKlqXBEyiOslG8wxw5aX9QTivjMmQeTcPN9Z+AAAAAhQZsTSahBbJlMCG///qeEAPGw1VZouy7ihmKp2t8920T9AAAAOUGfMUUVLCv/AMieudIAPUMUXGHdyWGK0u2H/asX1oy+N1KadB1z33ZfTYivD3b361a9dlYjLVJFgAAAAF0Bn1B0Qn8BNflKSXABw7r2euMl0Y49av53WgDh7E3tK7p4lUsnXlH0wFB3jmDr+HMUOX0XVFeO9nX11uf4EzdWsGBEHycmqr0JjZ12fEwl/UFUr+STZB5Nw83uJMAAAABdAZ9SakJ/ATWMQklwAcO69nrjJdGOPWr+d1oA4eYC4t8ErJAfkHXlH0wFB3jmDr+HMUONm63FTvezr663P8CZr4wssTY8nJqq9CY2dWsHmpf1BVK/kk2QeTcPN7iTAAAAnkGbVkmoQWyZTAhv//6nhAEUMheID/qrIKUjHkA13/f8E5hXgEhWaBsLAlLwJDMBfJK99nBQVAGLpMaDGBRv//4Y5smzhkXJBwJ97LNPOKcsrky7jn6AzxxgoE9zndI/hG03T3jUHdZPaS5AKrUD90rlx1RckwTNj6e7aJUaHDbUtNmYhWnLhSkWkcsJUonpXFxYjONDyA8SibiGeIVBAAAAGkGfdEUVLCv/AOICVXObwkReeVD3L6R0+v2NAAAAGAGflWpCfwEmF79Hdw4VAJdvaDf1Q9pqwAAAAE9Bm5hJqEFsmUwUTDf//qeEAPGqT7oAOhqGXyalGGKOz2uFK5ZTNkiiV+nwDUFntwagEZLCVLcu737oOjTWDB2XExFiLeexOcWhvM/e7aUvAAAAUgGft2pCfwElrvjAAtRwpIadyHhOxHOSyXgsanQiWeVTt0rtggyP2mkM3ofmhhhEJRjnb/budjblDyARxIiRT00n2mNpIMYrohPvcTGJHYPvk1kAAAARQZu8SeEKUmUwIb/+p4QANSAAAAAYQZ/aRTRMK/8AyMs17BkciDxXizUqqSLAAAAAVAGf+XRCfwEmFzHQAcO7EkNO5DwnYjnJZLusDcMcZ2fB/bQBrBBkftNIZvQ/NDC+vcRjjgW+fdFP2knUCEJBsSlDJOpJfqds5XQIcvxZVoPxg/2sdQAAAFMBn/tqQn8BJa74wALUcKSGnch4TsRzksl4LGp0IlnlU7dK7YIMj9ppDN6H5oYYRcuK8NVO/zTTaQjfa4Crxbhgq+pwT2GMV0QWL3mS87uMH3yawAAAAFhBm/5JqEFomUwU8N/+p4QA8ZdPLgDlKN//z9pXgmsvCQ7kiJGq5WLOruTjm0yHLhqoAlbYgw3zue9GSVjexFqjuny3S0nFe/FzgBEsFJKnjmH4kfe7aUvBAAAAUwGeHWpCfwElrvjAAtRwpIadyHhOxHOSyXgsanQiWeVTt0rtggyP2mkM3ofmhhhFy4rxD9t3Oz9NADXP3x0tXlMj+7TYJcvGWD8elbVQWg1hfumtAAAAHkGaAknhClJlMCG//qeEAPGqFZYCPDW9JDSB+7aJ+AAAABhBniBFNEwr/wDIyzXsGRyIPFeLNSqpIsEAAABUAZ5fdEJ/ASYXMdABw7sSQ07kPCdiOclku6wNwxxnZ8H9tAGsEGR+00hm9D80ML69xGOOBb590U/aSdQIQkGxKUMk6kl+p2zldAhy/FlWg/GD/ax0AAAAUwGeQWpCfwElrvjAAtRwpIadyHhOxHOSyXgsanQiWeVTt0rtggyP2mkM3ofmhhhFy4rw1U7/NNNpCN9rgKvFuGCr6nBPYYxXRBYveZLzu4wffJrBAAAAIUGaRkmoQWiZTAhn//6eEAOwsVGHLd3cEApQALtL26wJwQAAABVBnmRFESwr/wDInUwIYgtpsla1FqgAAABUAZ6DdEJ/ASYXMdABw7sSQ07kPCdiOclku6wNwxxnZ8H9tAGsEGR+00hm9D80ML7DmBXiH7budnyLxkH+LjpavKZH92m1H7hGWD8aje4mp/cwv3TWAAAATQGehWpCfwElrvjAAtRwpIadyHhOxHOSyL551Tt0rtggyP2mkM3ofmhj4rjU3p/27nal0IMg/xcdLV5TI+sFvgSVcPxrs0NQWg1hfw19AAAAIEGaikmoQWyZTAhX//44QA5qrBMFbKYmLMx0j3vu1gTgAAAAFkGeqEUVLCv/AMi/ykbXhHEQzZuVSRcAAABQAZ7HdEJ/ASYXMdABw7sSQ07kPCdiOclkXzzqnbpXbBBkftNIZvQ/NDHzBOW0ndAXxWtMrwMNlbYr5hTou/odeX9aNW+wKS/RmTHG31Fq7PwAAABTAZ7JakJ/ASWu+MAC1HCkhp3IeE7Ec5LJeCxqdCJZ5VO3Su2CDI/aaQzeh+aGGEQlGOdv9u52gFu2i5++Olq8pkf3abUJjB4wfj6LaqC0GsL901kAAADdQZrNSahBbJlMCGf//qE885M7p5yABtBr90jfPXfC8AQfaz5586xj9U4tUjemGiOAjYK8tTFhTzXQ1qhuM3ACrZAS92CHjibXuAZkkSS9MWyiNrNnNWHxxMlJ4nZ31F7bIr9dj8R4aMqkaJiY0KAhMGeW8ez1kun/x9mlTwTkBSvLAw3L79J6XVgWVGiRQaPd+LVJDU+ECli+85kSPTHVdr7Vy32KyBfS6+fD1NSVxQlOVwhGsvKeKVCfkPRzbSqumDPPNxJtJfJimFAOWApqq8CTkbJvzn7tspiGpMEAAAAdQZ7rRRUsK/8beVhP/RuZxL1KGydP+weVM5JOTuEAAAAZAZ8MakJ/ID1aoTo7LMNWbRHykuxcDQqC3wAAAJZBmxBJqEFsmUwIX//+kGHMy/4VL3oAWznrmKEGy0ST5A+3SfH3VwrAwMdTuEwqeVRlZyDeg/8T0ewLhE9U9ja3WhZtOCO26/GEdgP2lulzGUpCuHVVNqf//vqLu8cNrtLZA0YSoU0b+NPkyaFgCLPhyX56zMno0bpez7dZ7y/nGUchA9hnf+pEyYtnwrMII4gvUjjf6rYAAAAwQZ8uRRUsK/8azQyO2cAHGn9BlL5KPJ+kaf02E3qyA9SzznkFZ8BhqA3seRMBE7qAAAAARAGfT2pCfyAFxSr41fR614PfogA43iuiYp2UdLEsH8d+aRsxMECNWCT0x4HijpNz4NLmsIV7H2IK+NCavvvae2IEZLipAAAAb0GbVEmoQWyZTAhv//6oUJGrd5d8OGGcAJ26hhCurC7V0f6d4nbr+xEUrzklelwvqi7VGVnWcde+q44VjAk59eNksCwZOajeCg5eiDw11kHfVvSRBJJVGTbVJCTPFgDIEDYMnu5b1bGpQ+2/SXjCgAAAAJNBn3JFFSwr/xcYV32ATXjyvmZkbMW7OCv7tUB1ivT0Rk51Hc5UCoHPY+drw4EyZL8eQwXvsR7hUhHxsaczEkCAvBXiJR0G+mEoxlQSjdjnkCaZbAlaW5XUJCPKnCdQh+3mxBLc0BwoiVlEntiEYznsZCfCILnTObqKEMe1dvg8CsdiWSxygBSHCIPEkAP3pQa5Z+QAAABoAZ+RdEJ/GxM3UXS63I4wgBihxANGqdYSWGU0rLMOc4ME3ftHFaYbS2XzB6PU/0Tp+ahiAqHuTBQWY+lZ9K3j8H7oTzoSfqnfzt3O1DqPWzYJ4rir6Y5zqSIT3z7X+GOwcOawMJdgH+EAAABxAZ+TakJ/F0SSSkY9qBgjSkCiATDC6JizwYO3q1SvWCOP9cHQGCoyNej39BzlJReNO6u0VP4Mx9RdCnwAJSw35msnaKIJJNnSa/CneaBT34KW2nuYzcOgzC2NXiKrzfOzeXFQErKWezHUp1ydMfeby/kAAABwQZuYSahBbJlMCGf//p6UO/WDA/4VK7oAS1SOfNCDZhpJ8kXC8Ej6+2RzucPlyl+41crMG5aZUJIGD55ocIoAVOox9fWShTO2qpdPukNQ45tb7WMD7YsKiaKuFVC9CvODCdW5t/1vZxlP/2hBLE4qMQAAAGJBn7ZFFSwr/xFAesbAJrx5XzMyNmLdnBX92qA6xXp6Iyc6jucqBUDnsfO14cCZMl+PIYL32I9wqQj42N6QpYYOTbNm14F1Ionk4AnRJg9zvErdFGKhP3q3MMEUmcAAIkRPwAAAAHQBn9V0Qn8UBbdRdLxwHEBw9SCAOXnyxGudZVv2C+60/Vi5675b6MsBrtF8XySVwUtAqG/Didl8wej1OVnTw0hLHjVLdItT994iRW8fg/dDGMsbhmNPO3c7NfIs2/AeK4rkgL3M184Y59sKX7eF/RgYS7CfgAAAAG4Bn9dqQn8RhOElIx9XgHpTv9AEI8t9GWflG8xt9cAJsvIrebpmBWbP6xDEUXIoKQJD2U8Ctf4CuAB5r4tZbIdUe3EHL5S5z8uTiLNd/LuWX04tHBkjZJ+HSxpBE1LnTqqvz04bHMay0tRfF2RFwQAAAGNBm9xJqEFsmUwIT//99sgTQA6BW/WVOJQs8TF22KQn2U58oRN6X1Z/ibwpDzC+Z9PiFz9cxHbebWARya3vv8vOcdthXMHEKo1Lg8crvD51Xt11LKLSiD6Gpzr3S1Wb5+saCYAAAABkQZ/6RRUsK/8XPCxia1QCa8eV8zMjZi3ZwV/dqgOsV6WH796LzLCu+b7GA/AGVStC/TEvr0G+xHuFSEfDGJqwl1AmSPjANGSLP/kEcfUa8SzGWiLYFvDCD1rfW8fhbyhgAvyLuAAAAHIBnhl0Qn8Pekuoui8FQAWs6nWElhlMs+Q/sZ6A5651ULgRCtjVecfGbx8N/E+No4rTDaWy+YPR6nEOwygLmrw9yYKCzH0tX0rePwfund0g734OiN9OLR0kfNZdjxXFT1Wy97/tZrn2wr/2xTRyjCXYRcEAAABgAZ4bakJ/G1YyesA1fFdEqG6XqmKUouwSUvRZ/ap96korPZ9V6DGc5LIRP6pRq5/hDKPws5bvQ/NDHtHla6EvE4zG3bzwTtIuHL5hLaS2odeRND2Qo/A0qNyycY9h9wEoAAAAtkGaHkmoQWyZTBRMM//+n7dGrSOFpXwqV3QAlqkc+aEGzDST5IuF4JHzdsjnc4fLlL9xq5WYNy0yoSQMHzzQ4RQAqZnE4L7k2OvwG5QVfHb/++5uRt8syqTq2OSa2fJ3W/uULaNKdzZ2kYaMYy4g4oLFdLzFTXxRkMM74WdMqRmQUQa5mZXsV+zO+/uek0fvuPrvIykSnaDnZBGDI4wdgZmOhsg8RhOCvD6EPceNxTb0LpfrUQnBAAAAZAGePWpGf+sa09/1PFfiF6cbi2bgqeu7MA50h9Sy2Q4/cRHuaP8kL2yD4YvbmnXWqJfW+24mOua2AZRLKlNVXY5E1RRdmAXTEZ358wGrtIpgwEF9ocRqIdnP5zDTaH9F56jik4EAAADLQZo/SeEKUmUwIZ/+nh1bHc6a3/BzMMRgAXXMWAalq+09BQ7sJtDjtArrhtxcbXhABOs4brf0EJLZT8nTE3sCGe2ZeuW9moCX8xCBUzL/jbksM7vc///lYNypOA99H26wZNclGaKKNMPNgblxRh9v8f0n0AkqR7oUoh9lVpgZqu6YD/TNPaT8nPewfAu6tgzd22wbYfTgU3TotORdJ+9HaS3lRuGgo9gKDLaDdSFpHXxbQuigAO0+uohFFGGY455CJJB8R/AzjFITifoAAABbQZpDSeEOiZTAhf/+jLdlbrn4THm8fpjAA/Frg/u3igNGctYE8lG1/QbNXPW7viez2tw6h5NfKmONxSVi/43JNb8sWC0bUubZ9ti54J4E7c1Sb5hzrsxjWY+WwQAAAEpBnmFFETwr/we9S3n4Y8wJOAEqTESoreKA0ZFgdlfaSPLMZrSS3o+JpJ5kRtN/nIqVUSMgI09/gKSPwHWClNWNVOSpt6FBW0GIsAAAAIUBnoB0Qn8JL0HuRfDzJqVoDjygCrTfRoODS9wXBBD2goXwraq+Mv6+xHDDa9MfdaUh11oVzBLnUjpakCdriU3f03EDCTiPlB7p+WWvI9ze8ZPXI0iyvZ5aTgoav6XryhoEj1IOKJTbW/9IlJcx5Hbj/5wcyqKvnPL58eBtr4UQ205wd+YnAAAAdQGegmpCfwhuOIl57O1JHGPogAbX/xLWT1G7n+ehv8FbP99N9Gg4NL3BcBhblub04aEPPjEGT2mQNdafrQ9McZpWLy0nxgakos60v7hcbwwkLrUwXemUWUDsdP9BOrEf2Mojs4HgZhLGrDZrKRifH4jApFPxNwAAAXpBmodJqEFomUwIb//+p4UsqMeO/msm3KcAHaXJd1W0GqNOuXfb7Lbx5l3zrrMAYIJYTnOBNzwl78//ahzL0+yLrAJWuIYd5E58+yBZuseEOeeWUJcvfZru+0jNCT7fE9ec2YcKWkKESJj01KMdpWRXvLfx1+HgDrZnB/G/wTY27hyzUMU2ETFMTevmTChMDIcO6kcwSDXEpE6fugXzbugfcwEeRgd3Z8eeKUsPSD+FQGimUO2tvQvy4G0JvmtYqOrpfyp2qrukQvb0kR+d4yVjYskSaBfIanw4JqWvDdurQ3V7QOwbpvGWlUBd+SX7uONgqiGi3+Kfn1OrpfVYCiy13Z1W1qjbbcq5gf1jECKraj0b1LO3XIKxfOq77LIE7fQLBnlHTJVNYGx5WaGTIhZvjEnzlSLUMwfU84Se9JOLjv2CbeXvVnEYHnCCFTt22KuyQNB2DHZ9MgekW47R01nkqLDD4i1glc8MOwQf5C+NEjX/r+JXnrf7/vQAAABpQZ6lRREsK/8GccFh7Kr63gAfzaY/fEfFlsvwEz91bwMNDloy0WUr8Eh0ynxQibGry9fxqQpK8fkGG2+JbaNZPUS16RrbfGa55Lbn2uHrWjTyxFUb8QUxdwxB2BFZPK8O4AAABrK7/i8wAAAAcAGexHRCfwfHmoIJfdUH97qAG1STBLvG78h9tvvgBDdcJD8ngAWbtGwEQ0x+Ml0Y39czpK3LRqmHIAWH9zpgJwtGRxLC2yj4tIzCD+Nu5m+mfM556PAeitI2UyZl/XfA/+Tf9b/ChsLnY+6DPiUkTYMAAABhAZ7GakJ/BzODYDhzr9E5f7ZTsANwcGz1xkujHHrV/O60AcFTDF0Ul6qlk6fudMBPcFduJYW22GCttW1ds/oIj9B/AmCo17UuCJmadZKN/3+AGEeJ5n1K3memPJD3uD6AKAAAAbxBmstJqEFsmUwIZ//+npN7+CbfWAEYG8FpHQOA0P4TRlzJjaRQyBOJgbJ+mpILhJzn97kW3+NIRUvzNfiUWEINrcwAC4Q3AovHdorH+x6CanyUFs7CyIetl54xnGKMPlClnQ2pXJFGa0OGcU5L0nsxKN2l2XwkjdDOA7MYktYMNpN8hNO/6Y4sb3RnwDz1aH2KB/SF64YAc8QsdPn/RAB1vEP2IH+ZbzQG/+928dgWgDq+GZtaKGdEOgNUy4E05SmT+Yf+5IcV/Qc6FFxdEsZUnOGMctGt1aI+LMn9/cgLpKSpz1pKsie8elNc7Z3OIXJ7OsQGPXjLJrThIZZxHBWb7uvXcYFqBqwm+m+Uj3BwrJlxUjNlii++IJ53njhbLhccS0Y9RNYe+dhO77nnet0mJhBxXf2IHHAJSBeU73clGSCmgrcfCqc5sqll61Aec7ArerQt0HACfK5Sjta13f8eAO5fbz1Z1OHWGjl+YSeSSkyhLal6gEznch0BOHtzG+5R5W+B3HndHiwKmX7XeNqoQH9TLxmI9d/Yp+uXNhWj29r7QSKLDxJfowULFSGZs1awXHtOuOroLhtTU8EAAAEEQZ7pRRUsK/8RWSVj8MmvAo7YAE7eHkJaHdqYTEA60zBKWjSIqOL/zXXp5KilNWAJGGJDF3iuFK5UNVihRWXhxxKED/7TpwXQ9t12/oe/tjG2PBCancT5LAl7uYFP4fzzLmcjvIdMwY3lEwyhssKgrZhf1v+lNSA1nJ7RSDqfV/zVtt9ro5L81uCOBMqft0x9lWTNfpZTN93mZJsOZkyWF6fiK30Qx0j90mJlebP2xKxR+rFwJi7kUlkOMxGphK0yTgxVnPxYZG/2yyTpIZHz9s0gfErEGO233/Bk7ZYZNqoyingh2V7KXfNoEgLsbKkF9dMIWdEB3cvGab+gD8AAABlhLOAAAABhAZ8IdEJ/B8l+FyLHovIuzIDXbAA4d17PXGS6McetX87rQBwc2VcBFOVLJ15R9MBQd45g6/hzFAYkfNFeO9nX11uf4EwbevalwRMojrJRv+/3LHJPWN9Va8Zkx5Ie9wfQBQAAAGUBnwpqQn8UN+Xko5GIBMbkoyzIZ6+0QAC1HBs9cZLoxx61fzutAHDT0peAUGB+QdP3OmAnuCu3EsLbbDF8aga7Z/QRH6D+BMHAiWpcETM06yUb9fsw5pPWN8ph8z0x5Ie9wfPAcQAAADNBmw9JqEFsmUwIX//+jUW5m/8xHm1R9tkYQs45eZJHAQP18m1nNGqCz8YyO2+HrzMZhOEAAAEjQZ8tRRUsK/8RQHZLjvIAoD9zHoDW/YOo+HGU8k5z3VKajHrrQD3OsKq3JaVIGmsGpEX2SFMpiHWh3pOl4SPcGH4zFhlTZ6pTgN5N/BPJQsyhuDduzzGCB/3D4eXSv+0XlrAXECMCbcrTKiwNQ6KL2LtM3xEGaRgqKPPLM5u51XQJIwmIcBP8V0Ht5ebSRDI3zg8+EPAzPRmVW9ARVy41MAVUGhpDwZ1axVR0Vc98iZj4ALYAwKan3CgyUItlhtVyVo/wx4tr0lrtBVv+LIvxs6d48ttSSJFUYTMuBbKiVdJfCH5imT1LGH70PRXIbR9ekaRe4kEhP46FNC+INuHKxiXvoRSBr4XtrwyyDAUsyg0VwOvQmpEVRQsAVPtkFjwM8JZxAAAAZgGfTHRCfxRBextUhDcJ1FBlECz7wgN5EAFqODZ64yXRjj1q/ndaAN/iuI63X9UsnXlH0wFB3jmDr+HMUBlTTRq7K+HpBbn+BMIKRZYmx5OTVV6EwGQyU2PWN+yR8Zkx5Ie9wfO/WAAAAGkBn05qQn8UFmR83OKIQBC3QM7JqbmDzByEnL9ozg2euPfpx637RegjNzdVCpHFSFmIWBJ2RMLOLdGt2YyPQ5zh3PwYeyA48QnqwuTBi6MvE2PJ7Rgyb/7UBrECesb7L5/Rrs741gjeetwAAAA1QZtTSahBbJlMCF///oywD5xU4Bq+pR4Q0Li3MhEv7y8/vdvpYrL8R+O2K7F6roQyenfVHw0AAAAdQZ9xRRUsK/8B32dVASwlOVWo7fJ9MJOoAJmV24AAAAB6AZ+QdEJ/AmjU4QF0HEYAFWa6JUN0wcyH7gTeXfsbm3hMkOutSD9y21Y4FB4KMU6YhxtGYH6CyhkRCoszh4zx8FV0hK3xTDQYAkiK+WBbDQ2iI9RCWrVmi03Hl9CAW2m3S3fGDFPG//1CnGHCBAJsxs3fFnD/eQ76yBAAAACGAZ+SakJ/Amm41j48AyYIGdJ7UvcFwxa5qUVRW1V8Zf126HgNr0x91pSHXWhXMEudSOyUU3tcSm7+m4gYScR8oPdPyy15Hw9lrArxUAeKT1yNIsr2eWk4KGrpobPCUagSPUkGJYhZm/iSgV5jyO3H/zg5lfzKQOZJ6MJod7HlENtOcHfMf0EAAABoQZuVSahBbJlMFEwr//4+0v558H/IwAc9vyLO4akEHGae5hWjqZo/6glqGKFeoC2VZkOZxG9aRNC/T1kwjyPRGsJ9rRJCWzn8iyTUCZI+cFkrvgSi66dcOOXVg4ynuSD3FWG6HAjqNmMAAAB3AZ+0akJ/ID1aoU7uefKIAG1/8S1k9Ru5/nokFOQEDOk9qXuC4ByX8cXW4aEPPjEGT2mQNdafrQ5qQSijVRzTSsW+T+MDUlFnWl/cLjDEL7WH/PZuJ7NHAXRMZ++yCRwGktDJSP80BPNGq/b8G8tnV+bG7BG8EREAAABQQZu3SeEKUmUwUsJ//fuzrx/4AR7y342pXny21q27h14y6njH5yuLUFB6gm+9sfPHn1r+n03WXBHcVR6A5651ULgRCtfCI3F/cnNdewfrJoAAAACCAZ/WakJ/HK5EQgJ853AC21nJRzTAqqM9TVF9E94OCbpJbCKvfl7sc/pu30ivc2lZg5tPk7oHWOVjMacNA2dD2vHItPTYbgkIker2TYsSiJK0/IjS32lUhU7V/7Sk+x8FQfCeG97u3dCET/LQJam2RiVngOMAi8x9QQHSWurp1XaTwAAAAMZBm9hJ4Q6JlMCE//389YZaSANmNPAEQ671r77R+WHm4MulcaZOgr/ukovkKfcbTn/zc9c6d7w39CKjQUx/8+DhXnZ3x91xz/J/rUrbtQDTQuXphB5Bv82AozVb11zPovMs7IsBDayP6CPGR8BcQngFoLQBpocypQiMDDU8j0nTpddOGNOrf+XGbIh/NTSSKZ1wj0D5GHGYWlhwSObjmw5vPCi4sd58t0cjgkVEN2fmop0l2l7tgoxsiST6RokYlawvJFtErkEAAAAuQZv5SeEPJlMCF//+kGHSSpU7UcJtAIUtZBVhpM0lxaSteJzUGEerbb3yElg8QAAAAWhBmh1J4Q8mUwIz/78x33/U8V+IXpxuLZuC1lZHwpfRN2XsxBnidq9KXbh7PohJ++Ohfhax8/vSD+0Kn/2bG6uax4U1WaBJmTgORCqZpOZ35QVKBIWo3OiU6W7qTqOkpujhXQZbXflcMo+UYfRXRYE/WAas3UVzYlN3IYjFJJo/4AU+r2cTpqZd4Ts/rdAHIu/qIBaF0Hzp+MAQBLdMTvpjoytdTMXLM/rrRC4rqB4hRbeVlHHo/T3ipiZbd0acY0yyxOQIXQRAD3qSmWBDKsjhVrz3CWb1nDB4ryvyjI9LZFFSDf2f0xr/Qe9WzMNjJ7GxlqvfqOdzF9f/Q44vElJZSeqv8HVadiCJRPL2hhe3NbBkruKJUvVsWiZlaykNjpkXThy68dG2zGRNHcA+X831YueTBtjP+hcdmwmBNz7FHWeOQYN1n9jfEYKwepGyG1Cv0ZnyMeoJhEPm4Q5C/7lYAb7kyR52/vAAAAB9QZ47RRE8L//0AED3LXxZn2SABLVtR/GfXXUsGVy36x3FeFBZ2xi0S7BJ0hvjgZw1RfJUap97SreJu3W9FsaA+8L7g964B3gWZ6HKZ0nZQjlxa56+mgCnHthBmTg2/EoFskovYz/4iPAfVGhhy08dKNVv9DXU2UHDT2fSwjEAAABzAZ5adEJ/G1uCCK2v59q4coAG1/zc9c6d7w39CKFAhSMYYDhtnrjJdGOPWr+d1oA31lrcE07CsHk6fudMBPcFduJYW22vt+tv68dM6CI/QfwJgh44MCIPlKNVXoTGdi4KdnrG/MGkZ6Y8kPe4Poyw4OPIgAAAAGoBnlxqQn/19o/7m6AC6CV0S7xu/Qf6z5UNHxD/5yV7zTzbafbE3H4wFihNoAzmRE+fKINY2ldEZwpHE3jqfWEVfMwCs+E8u1G2kyHemAiKm1u0OL7321d9ueUHAPTyJTcRo+QyalqnfFExAAAATEGaQUmoQWiZTAhn/4KFO0aIx71GV7L9ZegFDUl8JoAVsaXAFBt2rMHucLLBSeQbpxupUizxWN6LHdlBxLQAAAMAAYDzULfYl+grpNEAAAB5QZ5/RREsK//yizrKVZoAHB1SK1kOEw7wwNvJpn1mpA4Pi1vcwbU8nqjt/OXJFXiOEDnHvtqAPXDh/vhI2mjEMIn4Hd9WXMZfDuKKoBHc79DDxfwwKePWqTiKBSr90VrPUBLOP01dISZLZeR5AlDdbWGAAD0JXfyvKAAAAIABnp50Qn/xzIHQroO+SzYx9bbJVlAMlkwSobpg7hGezN+Xfsbm3hMkOutSD9yWT34FB4KMU6YhxtGYH6CyhkRCos0ch2IM0TarfFMNBgCSIr5YFqIeIxpEwFq1ZotNx5fQlX7TbpbvjBinjf/52V4OECATZYO9dMEP95Dvnrv8oQAAAIUBnoBqQn++D2pu/UL5VHLhTJQBVpvo0HBpe4Lgd5hDiQkVtVfGX9fYn6uCt0VzR08aETc9mqe283rLhO1xKbv6biBhJxHyg90/LLXke5rgVnrkaRZXs8tJwTkM+mQMoaBI9SDiiU21v7Y9Dc5TdP6FV3x5xFD3awGBvA5d8KIbac4O/MTAAAAArkGahUmoQWyZTAhX//4+0v558H/IwAWAEyLL56qws2aDVe/gPX0fzKicTiAgxSGCDON676tHa4LmoSjhGJe5OOV2DUga3scXy/8q980u+VZTPeu0fRQTsAeIcX98n2diFn3SHWAEL//3/WN/lenez/earoBbdXjtZJnhDjjfspFHyCeG//pQnSYQjmTzYVXmBmxm4Gmcg+GbhI7e/BlaTXF8gRR3YGCVhigk1zMUQQAAAClBnqNFFSwr/xt5WFAv0bAEpGlTyDQCOgQdRs5xE+o7wAAAAwAFaL26QwAAAHUBnsJ0Qn8HvZ4vGOv0gA2v/iWsnqN3P89ElxDYgZ0ntS9wXCbECrpJw0IefGIMntMga60/WhdYpeXXtLIAArFvk/jA0fClLS/uGG5J7zd/892VJHscBdEyXd5qIo9xkOZKR/mgbq41X7fhEBpBH5sbsEbwNmAAAABzAZ7EakJ/ID1aoZ7tNTj8VdQBtUkwS7xu/Igk8nzQhuuEh+ZYpXEwwEQ0x+Ml0Y39czpK3LRsyH2YACwy1nYf3OmAmj9C+JYW234mlpM8HDWB0zV8FyYKsenRNjpsszLN/84Wop8m8b6GTCWhDJD3uDxepAAAAFlBmsdJqEFsmUwUTCv//j4UrXKSADjZyOJl7k6dBTp5/VHCbLM6csXpz0vV3M09si7u/NlVU5YEF5a7dyKHJKP8WLxd8xMBGCw9KGndx+xctLzL+/JIBTibMQAAAIkBnuZqQn8crkRCAnzncALbWcmC8pfiqEqTlLOn7mRrhakJRgxPf4v+bnrnTveG/oRDsserLHb6RWihCWv4h7ugauVTaF2POxBGiSZX8cxbbhPbt8GAxYeRkNsG5hL8OtX/73xaPp+aXuyp3TeYuOikOrMhlj+jDoc1o3Hxx99iitjfULoPoOwRwAAAAMNBmulJ4QpSZTBSwv/+j+e/yQBCPUoTL110d/v0yJzn8HMWx5yuu/sg4O31rpbsCC5T8TCS+1z+/F+8xGwzmrnrAw+ja/582VVyTHnSlZBsRaSoDSl6IDVjyF+P0VM9ILgHm2ea694mRepBqdVfy0osDnnoRYRaW6AjzpFpZBAWp7+FTQefpocYXCLmnt922QMOgndWN8hcOS51ZbGLqndjfgxbkBQupa+98snO65aLmOdkDTGo0egqpwmp/ILONus0lSkAAACCAZ8IakJ/H5Lk8cXABxfPyxRLx8Wj1DRp7Vv5BhEGfPu4MLJnTiuIDK13vlu1Df0Il4aYC7QhDTYtYaDQUacdDxxZfui48uDup6rRIKY2AiZtZCWUYulxxGWzTT0dux7jUQn8FwO96iV3sWmwGv/OsDVoUuDqVo24aejcCwRuP1ejJAAAAHpBmw1J4Q6JlMCG//6o1zVCJ1vkQALlBZr3OvCaMd9yo1up9+f4OV7wNJeY2ak884G5guSHruspvna8Eay3SMGuFb5YhI72WYLFu/R0aTrnka5vSouzNOyIxicHyCFEI1QxpQzPdzIPKrn5Gg0rI1T6VqsRpIF8pR5YwQAAAHJBnytFFTxn6xrT3/U8V+IXpxuLZuCkXZ/nMjL/pz7PffE6XRNlzDB3Lmi2r9BVGJTVRh0UeFtF3IAueT5//ubrTY4/Ha8ledIzimkdLszVn2bGr8E47AGg6/N0SQ8U2KV9ME2tc1UEujsUxWbz0ArQruEAAACDAZ9KdEJ/918frhfcxPyD0CuJ/NxADdeK6JinZR0sSwfx35pGzEv/ZiFRIwidRT2jnxIpZ14UfqTlSrZlOyYuWqFgEY8wcDH4n/mYQ1YUTwtdRFe9EoxRMCrjqrgCuIDsnMGbD+vjlJZUuOEEwuQpw7f5c2XqVoXSi7lV6ODpgFD5qxEAAACDAZ9MakJ/994Pl6BXuDzp8Aa9U6wksMppSo43h7Muq//pqNXhCLRiGmPu4dQTlzXPZqqEBUm+JZjztcS9ECW4gYSgMjG26fleB+Nv6DWp65GIWV7PLSb/Gaf7HcmBYl9dkIiGI21ceZONzkz3fFnJqQCHI/kFmKamqUhiiGLpODvwDEEAAAAzQZtRSahBaJlMCGf//qFCyvKfdF28e2tAETH3F5zdNG8yHhx93ZbkzQiEuBzky7TpXIDZAAAANEGfb0URLCv/G08sJ8qZoX3nv4QBL0OtzLOvBRjTxISQWz2Ce9qJ8GqwEahAAAADAACiF0UAAAB2AZ+OdEJ/IFSjmtIEu3/8MnhBSAE7gmCYs8GDt6tUro5pON1yrPKPfN6MIHYut6Y9/DMdUK5655a26N2BgB3LVzsM+MmNk74yO0LiLuSOoovwHGZDg6uOM3JdDUwoGfBqYbmx/zSEbz1P3Ktr1sUtkLMOjc5PQQAAAHsBn5BqQn8IegzcL3kIEBQAOjnyxGudZVv2C+60/VheLMnfRlgNdpWZY+U4o4LEMrsAZ/o1OC/ykE7riI8mYSxUkMYWYybmN6u2X24wFQn2TAq1wl2MP/FQPU2tyYextSc52MpoxlEdmv/38plMa9WfqQXCfH3Y+6DPqS8AAACJQZuVSahBbJlMCE///f01q1xWz/GIAcr48QgPmkc6w2DUMc4IlKHilXxFpO6QxgCVMCf+AAorSM36DGaaV8/AIGmBNxQIy14hINjl0H8RvnaQrXw7/YfxBOUJdimZyxkg01EH5H/sUuMcMrXe+W7Tt51Qc4Yb6ZI8J3xwv9xAvpBbrg+XHcyITugAAAAyQZ+zRRUsK/8beVhKGWycLg8UgAUGzOG6cl0Z+U9UPErhcPejPJ+tOPkTYzbXayWQSIEAAABuAZ/SdEJ/CG2yXB9quHQhm4ANqkmCXeN33JISqEAQd0dHrKILa9VkItmr0x+Ml0Y4CgjpK3LRxGdPM7D+50wE4WjI4lhbZR26QReD+OwnXemfM5vUPkeitK4Rd2a/q52v/k3/We8obC52Pugz3McAAABzAZ/UakJ/ID1aljan40Abflvozfl9glX5fxBXW1V//TUqVTXLqvxBw6UV2EzI2KXKu3cOoJy6H2HqqEBYPYMbUYwqetF5YAY/PvIXS/J/nT0HgDk6R2YAeXEYz+Z2GMgoz48fm1WR/WVi4VlXHvkGgM946wAAAF9Bm9dJqEFsmUwUTGe/Md9/1PFfiF6cbi2bgtVU179h3zz6ltvPGjKuqpHle7dJN+EsBSuxIlyUSYuGMKUtvxuN2GaidexXsbmLVMhE/bzeb5JEblykEY5nx3Y+I+/6YAAAAGYBn/ZqQn/z48vggys7MKbvcvaoAEskLol3jeBKjdMQt5d7zTzbafbE3H4vyUUROUdNzO+GEbXVI4m8dT/zFYMAt1Q3q5a5KzIerXsIQmN2hxfleerkEMxkxqYEZeRz857ilKZ+YWAAAACEQZv4SeEKUmUwIV9+DvRuMPbp/kH0MBgJz69PNxEXIV0f7CDZud3fWmOTTzd6AZxJ0XePJYq1b9KdKOGyIjuIbleMMLtJ0dridtpO03rK+sK7A7/AbSDwhyDbdAQOqwwqXquEJQx5ht+dLRlJQ7tIv6I8XoJIiaW6WkIU1LSFwKi1fq7BAAAAXkGaGUnhDomUwIT//f1LdQOUEBmHvgxO4ow2OWgAnLA/xa6HN6hM+KfPbm8fPm5WUC5uuhW2aavJXABOEal87xqqOvPfsPf5oeDhJI5t33zTzmoh4hf5CCTO07TaLuAAAAUZZYiEADP//vbsvgU2FMhQlxEsxdpKcD4qpIb3w0H/wmRLoATKsYtMygCbzDeJ56uCZ6ExEjIunHVXzTEubj7iWcG4AE6e6lF68hvi9DZp7bPRTiNYFwBL/xepA1Bv06tw6M+7gNcRcWD9I8n+4Qe0GmmqyBnqn23/+pwLmj3f64DN+i3ssT+hfLOGoE20Rs2Fdg4wCQAv99kpXNAoWZ3KoNWrfuRqJOpDHCr+UgXgqjINLgJ5/cE//BbbNFjL1bfiIWpnnYBYxn8U3TH7tyDuMtNK6LvkZomoXUoz+t3PtrzXnGd07hQPb3yuv4dMkhS/agUtKtq1NXNbG29m4iN+bH+NKTHbRfCfrBT7i9f8hA2Q0LVVCX5TSlzc9jL7Gf856MO/Dj1CScz5fK/uN1PKGSalRgKvncVyHJfVcIiU9uin5yDOi/kpk0dDhkjgsHWBC0tFvCVPCxh+3O3coR+sqnqz35HZGQl+qGkXvdBjiuayJwluFCCxO4ck0RfxhYX+0kdcm/ZyMuZ3BxIMraBk3M9Of1xnJsZL9dk0oKTMqzJmAJuDRiS+/f2d1A4uboJ/TNPPvjbZR9/+Ce4bVJLxc1ddOhwsjocroleXceC2JPMVJUtSiSxtMe1eZKZDgJUaleIW7GClUECHVtvuJzMnvXLNBE7EWMVLMCFnqhtE/rfpuIqWR4OImeg9s96UzydUL+SHuawvKx5jzvD5b8do+GCwIsfsYCct4DAM/MlSppYYcUAjr3hLUW/bYqMbAPc3R8KUoGQr0lVpBwJGLdGLRyOv6wz4Fh+tDFJkMyJ5huBlx6sErrSy3HWB7hu6mB6Zr8zZRCSUB/dMb7KTIpdspn6P5sq04Np1JZhkdagHpWsu9EyrfLk0RoJ2QEisZUnAjTBFwE+OWe/hm8qJYj4o9FORScFo1Pk2qPn+rVOj2Qu5ZLQ23Q9xbwy0LNIB4qXmxYLqEakmXlVqhqFWCKUK9sSgsLSUvZn7r12QNCyNum7Ug8WQQOQWkvNRkmk4ZV6ZMVkp5SLZ62gilAEylhR0P0UxEdbCsRa+6E6HKjFEoBsj+D7dq9oDIEbVXzrKskggy2GkpikzhZWLJEBhKHJgoMbG7hYl5+PEGnVnf5IMuLZ0e6L5KK1berinXKoeYFEu1gEUi0fxc6q+QeYiiEnNZVZw84d6f2oerUCjrVinLmGX7rd8qK7wp+G0cT2GV4EbmeGIlDgsBJTs08WifFutmC5Ixu/6fbcdGW/4x6IzrzLI/uNFHzmtA7bSLHFQpt3dr7tx/ThneimkcMyPo3RMdqDqEzN8362tz6FAguf/m51p4EK0BoP9P3gHO/4W1ftO6oczMReyzPdFXdCOOvythF6fWCcTD7BFRH4VWjT4tl4gzww8x/kvKaQM6sJ8AVNI3pHIuh0hQIeq4mc49uGXpDIHZr84UNvzxRO/p205Q1LUo9yiDcMvRTPbaY5KKr/87JyWTjWN6sZA0q9zUucKGoRejdBDPHpoLXhaFirc3hxnSFl+T1GRA8QCXYYP2uc8c0Ild6O7JrNJn+G9J3TWziiBLg9PZeSEVqd+e/8yHHBgwqOuSPMXVV45BzadeiNRlqzz0VO97YOIa3Aq6+fyiCvgfNXG2Nofi0AIGUJiLJqL7T/B+hvaOMHH+ZT297bO52fty5QSzD4sOZQsUy4AZBV0He34zoDre3tTOpgRRNpQk+IDZcPIZtsLCFzwwrFc+LirJuc/Wf9wAAAYt21vb3YAAABsbXZoZAAAAAAAAAAAAAAAAAAAA+gAAEE8AAEAAAEAAAAAAAAAAAAAAAABAAAAAAAAAAAAAAAAAAAAAQAAAAAAAAAAAAAAAAAAQAAAAAAAAAAAAAAAAAAAAAAAAAAAAAAAAAAAAAAAAAIAABfhdHJhawAAAFx0a2hkAAAAAwAAAAAAAAAAAAAAAQAAAAAAAEE8AAAAAAAAAAAAAAAAAAAAAAABAAAAAAAAAAAAAAAAAAAAAQAAAAAAAAAAAAAAAAAAQAAAAACgAAAA0gAAAAAAJGVkdHMAAAAcZWxzdAAAAAAAAAABAABBPAAABAAAAQAAAAAXWW1kaWEAAAAgbWRoZAAAAAAAAAAAAAAAAAAAPAAAA+oAVcQAAAAAAC1oZGxyAAAAAAAAAAB2aWRlAAAAAAAAAAAAAAAAVmlkZW9IYW5kbGVyAAAAFwRtaW5mAAAAFHZtaGQAAAABAAAAAAAAAAAAAAAkZGluZgAAABxkcmVmAAAAAAAAAAEAAAAMdXJsIAAAAAEAABbEc3RibAAAAJhzdHNkAAAAAAAAAAEAAACIYXZjMQAAAAAAAAABAAAAAAAAAAAAAAAAAAAAAACgANIASAAAAEgAAAAAAAAAAQAAAAAAAAAAAAAAAAAAAAAAAAAAAAAAAAAAAAAAAAAAABj//wAAADJhdmNDAWQADP/hABlnZAAMrNlCh34iEAAAAwAQAAADA8DxQplgAQAGaOvjyyLAAAAAGHN0dHMAAAAAAAAAAQAAAfUAAAIAAAAAHHN0c3MAAAAAAAAAAwAAAAEAAAD7AAAB9QAADdhjdHRzAAAAAAAAAbkAAAABAAAEAAAAAAEAAAoAAAAAAQAABAAAAAABAAAAAAAAAAEAAAIAAAAAAQAACAAAAAACAAACAAAAAAEAAAYAAAAAAQAAAgAAAAABAAAKAAAAAAEAAAQAAAAAAQAAAAAAAAABAAACAAAAAAEAAAoAAAAAAQAABAAAAAABAAAAAAAAAAEAAAIAAAAAAQAACgAAAAABAAAEAAAAAAEAAAAAAAAAAQAAAgAAAAABAAAKAAAAAAEAAAQAAAAAAQAAAAAAAAABAAACAAAAAAEAAAoAAAAAAQAABAAAAAABAAAAAAAAAAEAAAIAAAAAAQAACgAAAAABAAAEAAAAAAEAAAAAAAAAAQAAAgAAAAABAAAKAAAAAAEAAAQAAAAAAQAAAAAAAAABAAACAAAAAAEAAAYAAAAAAQAAAgAAAAABAAAKAAAAAAEAAAQAAAAAAQAAAAAAAAABAAACAAAAAAEAAAoAAAAAAQAABAAAAAABAAAAAAAAAAEAAAIAAAAAAQAACgAAAAABAAAEAAAAAAEAAAAAAAAAAQAAAgAAAAABAAAIAAAAAAIAAAIAAAAAAQAABAAAAAABAAAGAAAAAAEAAAIAAAAAAQAACgAAAAABAAAEAAAAAAEAAAAAAAAAAQAAAgAAAAABAAAKAAAAAAEAAAQAAAAAAQAAAAAAAAABAAACAAAAAAEAAAoAAAAAAQAABAAAAAABAAAAAAAAAAEAAAIAAAAAAQAABgAAAAABAAACAAAAAAEAAAgAAAAAAgAAAgAAAAABAAAKAAAAAAEAAAQAAAAAAQAAAAAAAAABAAACAAAAAAEAAAoAAAAAAQAABAAAAAABAAAAAAAAAAEAAAIAAAAAAQAACgAAAAABAAAEAAAAAAEAAAAAAAAAAQAAAgAAAAABAAAEAAAAAAEAAAYAAAAAAQAAAgAAAAABAAAEAAAAAAEAAAgAAAAAAgAAAgAAAAABAAAEAAAAAAEAAAgAAAAAAgAAAgAAAAABAAAEAAAAAAEAAAgAAAAAAgAAAgAAAAABAAAEAAAAAAEAAAoAAAAAAQAABAAAAAABAAAAAAAAAAEAAAIAAAAAAQAACAAAAAACAAACAAAAAAEAAAoAAAAAAQAABAAAAAABAAAAAAAAAAEAAAIAAAAAAQAACgAAAAABAAAEAAAAAAEAAAAAAAAAAQAAAgAAAAABAAAGAAAAAAEAAAIAAAAAAQAABgAAAAABAAACAAAAAAEAAAQAAAAAAQAACgAAAAABAAAEAAAAAAEAAAAAAAAAAQAAAgAAAAABAAAKAAAAAAEAAAQAAAAAAQAAAAAAAAABAAACAAAAAAEAAAoAAAAAAQAABAAAAAABAAAAAAAAAAEAAAIAAAAAAQAACgAAAAABAAAEAAAAAAEAAAAAAAAAAQAAAgAAAAABAAAKAAAAAAEAAAQAAAAAAQAAAAAAAAABAAACAAAAAAEAAAYAAAAAAQAAAgAAAAABAAAGAAAAAAEAAAIAAAAAAQAABgAAAAABAAACAAAAAAEAAAYAAAAAAQAAAgAAAAABAAAGAAAAAAEAAAIAAAAAAQAACAAAAAACAAACAAAAAAEAAAYAAAAAAQAAAgAAAAACAAAEAAAAAAEAAAYAAAAAAQAAAgAAAAABAAAEAAAAAAEAAAoAAAAAAQAABAAAAAABAAAAAAAAAAEAAAIAAAAAAQAACgAAAAABAAAEAAAAAAEAAAAAAAAAAQAAAgAAAAABAAAGAAAAAAEAAAIAAAAAAgAABAAAAAABAAAIAAAAAAIAAAIAAAAAAQAABAAAAAABAAAIAAAAAAIAAAIAAAAAAQAABAAAAAABAAAIAAAAAAIAAAIAAAAAAQAABAAAAAABAAAGAAAAAAEAAAIAAAAAAgAABAAAAAABAAAKAAAAAAEAAAQAAAAAAQAAAAAAAAABAAACAAAAAAEAAAQAAAAAAQAABgAAAAABAAACAAAAAAIAAAQAAAAAAQAABgAAAAABAAACAAAAAAEAAAQAAAAAAQAACAAAAAACAAACAAAAAAEAAAQAAAAAAQAACAAAAAACAAACAAAAAAEAAAQAAAAAAQAABgAAAAABAAACAAAAAAIAAAQAAAAAAQAABgAAAAABAAACAAAAAAEAAAYAAAAAAQAAAgAAAAABAAAIAAAAAAIAAAIAAAAAAQAABAAAAAABAAAGAAAAAAEAAAIAAAAAAwAABAAAAAABAAAGAAAAAAEAAAIAAAAAAQAABgAAAAABAAACAAAAAAEAAAYAAAAAAQAAAgAAAAACAAAEAAAAAAEAAAYAAAAAAQAAAgAAAAANAAAEAAAAAAEAAAYAAAAAAQAAAgAAAAAEAAAEAAAAAAEAAAYAAAAAAQAAAgAAAAABAAAGAAAAAAEAAAIAAAAAAQAABgAAAAABAAACAAAAAAMAAAQAAAAAAQAABgAAAAABAAACAAAAAAgAAAQAAAAAAQAABgAAAAABAAACAAAAAAQAAAQAAAAAAQAABgAAAAABAAACAAAAAAEAAAgAAAAAAgAAAgAAAAABAAAIAAAAAAIAAAIAAAAAAQAABAAAAAABAAAIAAAAAAIAAAIAAAAAAQAABAAAAAABAAAIAAAAAAIAAAIAAAAAAQAABAAAAAABAAAKAAAAAAEAAAQAAAAAAQAAAAAAAAABAAACAAAAAAEAAAoAAAAAAQAABAAAAAABAAAAAAAAAAEAAAIAAAAAAQAACgAAAAABAAAEAAAAAAEAAAAAAAAAAQAAAgAAAAABAAAGAAAAAAEAAAIAAAAAAQAACAAAAAACAAACAAAAAAEAAAYAAAAAAQAAAgAAAAABAAAEAAAAAAEAAAoAAAAAAQAABAAAAAABAAAAAAAAAAEAAAIAAAAAAQAACgAAAAABAAAEAAAAAAEAAAAAAAAAAQAAAgAAAAABAAAKAAAAAAEAAAQAAAAAAQAAAAAAAAABAAACAAAAAAEAAAoAAAAAAQAABAAAAAABAAAAAAAAAAEAAAIAAAAAAQAACgAAAAABAAAEAAAAAAEAAAAAAAAAAQAAAgAAAAABAAAKAAAAAAEAAAQAAAAAAQAAAAAAAAABAAACAAAAAAEAAAoAAAAAAQAABAAAAAABAAAAAAAAAAEAAAIAAAAAAQAACgAAAAABAAAEAAAAAAEAAAAAAAAAAQAAAgAAAAABAAAEAAAAAAEAAAYAAAAAAQAAAgAAAAABAAAEAAAAAAEAAAoAAAAAAQAABAAAAAABAAAAAAAAAAEAAAIAAAAAAQAACgAAAAABAAAEAAAAAAEAAAAAAAAAAQAAAgAAAAABAAAKAAAAAAEAAAQAAAAAAQAAAAAAAAABAAACAAAAAAEAAAYAAAAAAQAAAgAAAAABAAAEAAAAAAEAAAoAAAAAAQAABAAAAAABAAAAAAAAAAEAAAIAAAAAAQAACgAAAAABAAAEAAAAAAEAAAAAAAAAAQAAAgAAAAABAAAKAAAAAAEAAAQAAAAAAQAAAAAAAAABAAACAAAAAAEAAAoAAAAAAQAABAAAAAABAAAAAAAAAAEAAAIAAAAAAQAACgAAAAABAAAEAAAAAAEAAAAAAAAAAQAAAgAAAAABAAAKAAAAAAEAAAQAAAAAAQAAAAAAAAABAAACAAAAAAEAAAoAAAAAAQAABAAAAAABAAAAAAAAAAEAAAIAAAAAAQAACAAAAAACAAACAAAAAAEAAAYAAAAAAQAAAgAAAAABAAAKAAAAAAEAAAQAAAAAAQAAAAAAAAABAAACAAAAAAEAAAYAAAAAAQAAAgAAAAABAAAKAAAAAAEAAAQAAAAAAQAAAAAAAAABAAACAAAAAAEAAAoAAAAAAQAABAAAAAABAAAAAAAAAAEAAAIAAAAAAQAACgAAAAABAAAEAAAAAAEAAAAAAAAAAQAAAgAAAAABAAAIAAAAAAIAAAIAAAAAAQAACAAAAAACAAACAAAAAAEAAAoAAAAAAQAABAAAAAABAAAAAAAAAAEAAAIAAAAAAQAACgAAAAABAAAEAAAAAAEAAAAAAAAAAQAAAgAAAAABAAAKAAAAAAEAAAQAAAAAAQAAAAAAAAABAAACAAAAAAEAAAYAAAAAAQAAAgAAAAABAAAEAAAAAAEAAAoAAAAAAQAABAAAAAABAAAAAAAAAAEAAAIAAAAAAQAACgAAAAABAAAEAAAAAAEAAAAAAAAAAQAAAgAAAAABAAAKAAAAAAEAAAQAAAAAAQAAAAAAAAABAAACAAAAAAEAAAoAAAAAAQAABAAAAAABAAAAAAAAAAEAAAIAAAAAAQAACgAAAAABAAAEAAAAAAEAAAAAAAAAAQAAAgAAAAABAAAGAAAAAAEAAAIAAAAAAQAABgAAAAABAAACAAAAAAIAAAQAAAAAAQAACgAAAAABAAAEAAAAAAEAAAAAAAAAAQAAAgAAAAABAAAKAAAAAAEAAAQAAAAAAQAAAAAAAAABAAACAAAAAAEAAAoAAAAAAQAABAAAAAABAAAAAAAAAAEAAAIAAAAAAQAABgAAAAABAAACAAAAAAEAAAYAAAAAAQAAAgAAAAABAAAKAAAAAAEAAAQAAAAAAQAAAAAAAAABAAACAAAAAAEAAAoAAAAAAQAABAAAAAABAAAAAAAAAAEAAAIAAAAAAQAACgAAAAABAAAEAAAAAAEAAAAAAAAAAQAAAgAAAAABAAAGAAAAAAEAAAIAAAAAAwAABAAAAAAcc3RzYwAAAAAAAAABAAAAAQAAAfUAAAABAAAH6HN0c3oAAAAAAAAAAAAAAfUAAAlzAAAAhAAAABoAAABiAAAAVQAAAQ4AAAAbAAAAGgAAAH4AAACIAAAAQAAAADQAAAB5AAAAegAAAIIAAAA1AAAAcwAAAHAAAABOAAAAOQAAAJMAAABxAAAAPQAAAEMAAACBAAAAeQAAAacAAAA4AAAAggAAAG4AAAB1AAAAhQAAAI4AAAB6AAAANwAAADoAAABzAAAAgwAAAHMAAAB9AAAA4gAAAGcAAACMAAAAaQAAAJMAAABbAAAAZwAAAF0AAABbAAAAaQAAAGkAAAByAAAAzwAAADgAAAA6AAAAwAAAAGAAAABJAAAA/wAAAH0AAABxAAAAaAAAADgAAAB2AAAAcQAAAG8AAAA1AAAAMAAAAGIAAABtAAAAZQAAAI4AAAEaAAAAWAAAADcAAACDAAAAwgAAAHAAAAB7AAAAZwAAAHsAAABzAAAAfwAAAEAAAABWAAAAbQAAAHAAAAEYAAAAdQAAADAAAABwAAAARgAAAG4AAABKAAAAQwAAADoAAABAAAAAKwAAADkAAAA+AAAAegAAAFAAAABwAAAAwAAAAD4AAAB4AAAAcAAAASoAAAB6AAAAOAAAAHwAAAB9AAAAfQAAAHcAAABWAAAAJAAAAFoAAABgAAAAbgAAAG4AAACwAAAAhwAAAMwAAAB6AAAANgAAAIsAAAB9AAAAbgAAAEIAAACGAAAAcAAAAC4AAAAfAAAAawAAAG0AAAAyAAAAVgAAAG0AAACPAAAATAAAACcAAACYAAAAhQAAAG0AAACKAAAANQAAAIEAAAA1AAAAgwAAAF8AAACdAAAAiwAAAH4AAADfAAAAWwAAAE8AAACYAAAAnQAAANcAAADhAAAAaQAAACsAAAB3AAAAgQAAADYAAAB7AAAAfgAAAUEAAAAzAAAAagAAAGIAAACDAAAAhgAAASUAAAA3AAAASwAAAIIAAABMAAAAQwAAAE4AAAA5AAAASQAAAFkAAABxAAAASwAAADgAAAA+AAAAaAAAACAAAABqAAAALwAAADEAAAAoAAAAYwAAAGAAAAEcAAAAXQAAACkAAABCAAAA2wAAAH8AAABgAAAAUwAAAI8AAAA0AAAAPgAAAFkAAACPAAAANQAAAD0AAABwAAAAQQAAAD4AAACDAAAATgAAAEcAAAA3AAAAQgAAAJMAAADpAAAAPgAAAEwAAABZAAAAiQAAADoAAACiAAAAUQAAAFUAAAA9AAAATQAAAJ8AAABzAAAAtgAAAHsAAACvAAAAkwAAAH8AAAA/AAAAWAAAAHkAAAB4AAAAYgAAAEgAAACPAAAAZgAAAE0AAABTAAAASgAAAEUAAACEAAAI4QAAALwAAACLAAAAsgAAADcAAADPAAAAYwAAAJ4AAAA1AAAArQAAAIoAAACJAAAAkgAAAVYAAABfAAAAUAAAAOoAAABFAAAArgAAALkAAADJAAAAowAAAIgAAADgAAAAYAAAAMEAAABuAAAAYQAAAFgAAAB/AAAAcAAAAKQAAAIGAAAARwAAAZgAAABZAAAAdAAAAOwAAABRAAAAMAAAAEAAAACIAAAAOAAAADMAAACMAAAA+AAAADAAAAAvAAAAKQAAAIIAAAB7AAAAoQAAAIwAAABMAAAAOwAAAIoAAACLAAAAUQAAAFEAAACIAAAAggAAAH0AAAB8AAAA5gAAAGoAAAA9AAAAkgAAAKsAAADdAAAAawAAAFoAAACNAAAAgQAAAIoAAAA6AAAAhAAAAIUAAAB5AAAAOQAAAIkAAAB5AAAALAAAADUAAACBAAAAgAAAAFoAAAAeAAAAagAAAG4AAACFAAAAVQAAAH0AAACHAAAATAAAAC8AAACIAAAAhgAAADoAAABMAAAAhwAAAI0AAAEYAAAAogAAAEMAAABhAAAAawAAACMAAABnAAAAcAAAADAAAAAiAAAAbwAAAG4AAAA3AAAAJgAAAG4AAACOAAAAPwAAAHwAAADqAAAA6wAAAH4AAABqAAAAZgAAAL4AAACAAAAAXQAAAGUAAAA0AAAAUAAAAGwAAAByAAAAKAAAACkAAABtAAAAbwAAAFYAAAArAAAAYwAAAG8AAAAlAAAAGgAAAGEAAABYAAAAJQAAAD0AAABhAAAAYQAAAKIAAAAeAAAAHAAAAFMAAABWAAAAFQAAABwAAABYAAAAVwAAAFwAAABXAAAAIgAAABwAAABYAAAAVwAAACUAAAAZAAAAWAAAAFEAAAAkAAAAGgAAAFQAAABXAAAA4QAAACEAAAAdAAAAmgAAADQAAABIAAAAcwAAAJcAAABsAAAAdQAAAHQAAABmAAAAeAAAAHIAAABnAAAAaAAAAHYAAABkAAAAugAAAGgAAADPAAAAXwAAAE4AAACJAAAAeQAAAX4AAABtAAAAdAAAAGUAAAHAAAABCAAAAGUAAABpAAAANwAAAScAAABqAAAAbQAAADkAAAAhAAAAfgAAAIoAAABsAAAAewAAAFQAAACGAAAAygAAADIAAAFsAAAAgQAAAHcAAABuAAAAUAAAAH0AAACEAAAAiQAAALIAAAAtAAAAeQAAAHcAAABdAAAAjQAAAMcAAACGAAAAfgAAAHYAAACHAAAAhwAAADcAAAA4AAAAegAAAH8AAACNAAAANgAAAHIAAAB3AAAAYwAAAGoAAACIAAAAYgAABR0AAAAUc3RjbwAAAAAAAAABAAAAMAAAAGJ1ZHRhAAAAWm1ldGEAAAAAAAAAIWhkbHIAAAAAAAAAAG1kaXJhcHBsAAAAAAAAAAAAAAAALWlsc3QAAAAlqXRvbwAAAB1kYXRhAAAAAQAAAABMYXZmNTguMjkuMTAw\" type=\"video/mp4\" />\n",
              "                </video>"
            ]
          },
          "metadata": {}
        }
      ],
      "source": [
        "show_videos(\"videos\", prefix=\"ppo\")"
      ]
    },
    {
      "cell_type": "markdown",
      "metadata": {
        "id": "9Y8zg4V566qD"
      },
      "source": [
        "## Bonus: Train a RL Model in One Line\n",
        "\n",
        "The policy class to use will be inferred and the environment will be automatically created. This works because both are [registered](https://stable-baselines.readthedocs.io/en/master/guide/quickstart.html)."
      ]
    },
    {
      "cell_type": "code",
      "execution_count": null,
      "metadata": {
        "id": "iaOPfOrwWEP4",
        "colab": {
          "base_uri": "https://localhost:8080/"
        },
        "outputId": "61e907f2-d243-41d8-b828-04f831320ea2"
      },
      "outputs": [
        {
          "output_type": "stream",
          "name": "stdout",
          "text": [
            "Using cpu device\n",
            "Creating environment from the given name 'CartPole-v1'\n",
            "Wrapping the env with a `Monitor` wrapper\n",
            "Wrapping the env in a DummyVecEnv.\n",
            "---------------------------------\n",
            "| rollout/           |          |\n",
            "|    ep_len_mean     | 22.4     |\n",
            "|    ep_rew_mean     | 22.4     |\n",
            "| time/              |          |\n",
            "|    fps             | 1199     |\n",
            "|    iterations      | 1        |\n",
            "|    time_elapsed    | 1        |\n",
            "|    total_timesteps | 2048     |\n",
            "---------------------------------\n"
          ]
        }
      ],
      "source": [
        "model = PPO('MlpPolicy', \"AtlantisDeterministic-v4\", verbose=1).learn(1000)"
      ]
    },
    {
      "cell_type": "markdown",
      "metadata": {
        "id": "FrI6f5fWnzp-"
      },
      "source": [
        "## Conclusion\n",
        "\n",
        "In this notebook we have seen:\n",
        "- how to define and train a RL model using stable baselines3, it takes only one line of code ;)\n"
      ]
    }
  ]
}